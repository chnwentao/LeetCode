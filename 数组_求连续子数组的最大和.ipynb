{
 "cells": [
  {
   "cell_type": "markdown",
   "metadata": {},
   "source": [
    "### 题目\n",
    "输入一个整形数组，数组里有正数也有负数。 数组中连续的一个或多个整数组成一个子数组，每个子数组都有一个和。 求所有子数组的和的最大值。要求时间复杂度为O(n)。\n",
    "\n",
    "例如输入的数组为1, -2, 3, 10, -4, 7, 2, -5，和最大的子数组为3, 10, -4, 7, 2， 因此输出为该子数组的和18。"
   ]
  },
  {
   "cell_type": "markdown",
   "metadata": {},
   "source": [
    "## 解法1—O(N^2)解法\n",
    "\n",
    "暴力解法，遍历数据，求所有可能子序列的和\n",
    "\n",
    "双层遍历， 求 i，j 之间的数据值的和，保存最大的"
   ]
  },
  {
   "cell_type": "code",
   "execution_count": 1,
   "metadata": {
    "collapsed": false
   },
   "outputs": [
    {
     "name": "stdout",
     "output_type": "stream",
     "text": [
      "18\n"
     ]
    }
   ],
   "source": [
    "def max_sub_arr(arr):\n",
    "    n = len(arr)\n",
    "    max_ = arr[0]\n",
    "    for i in  xrange(n - 1 ):\n",
    "        sum_ = 0\n",
    "        for j in xrange(i,n):\n",
    "            sum_ += arr[j]\n",
    "            if sum_ > max_:\n",
    "                max_ = sum_\n",
    "    return max_\n",
    "\n",
    "print max_sub_arr([1, -2, 3, 10, -4, 7, 2, -5]) # 18\n",
    "            "
   ]
  },
  {
   "cell_type": "markdown",
   "metadata": {},
   "source": [
    "### 解法1—O(N)解法\n",
    "- 动态规划 ，数组arr，用c[i]标记子数组a[0..i]a[0..i]的最大和\n",
    "- 分解问题： c[i] = max(a[i], c[i-1] + a[i])  , max = max(c[i)"
   ]
  },
  {
   "cell_type": "code",
   "execution_count": 11,
   "metadata": {
    "collapsed": false
   },
   "outputs": [
    {
     "name": "stdout",
     "output_type": "stream",
     "text": [
      "18\n"
     ]
    }
   ],
   "source": [
    "def max_sub_arr(arr):\n",
    "    n = len(arr)\n",
    "    c = [0] * n\n",
    "    c[0] = arr[0]\n",
    "    for i in range(1,n):\n",
    "        c[i] = max(arr[i], c[i-1] + arr[i])\n",
    "    max_= max(c)\n",
    "    return max_\n",
    "print max_sub_arr([1, -2, 3, 10, -4, 7, 2, -5]) # 18"
   ]
  },
  {
   "cell_type": "code",
   "execution_count": null,
   "metadata": {
    "collapsed": true
   },
   "outputs": [],
   "source": []
  }
 ],
 "metadata": {
  "kernelspec": {
   "display_name": "Python 2",
   "language": "python",
   "name": "python2"
  },
  "language_info": {
   "codemirror_mode": {
    "name": "ipython",
    "version": 2
   },
   "file_extension": ".py",
   "mimetype": "text/x-python",
   "name": "python",
   "nbconvert_exporter": "python",
   "pygments_lexer": "ipython2",
   "version": "2.7.12"
  }
 },
 "nbformat": 4,
 "nbformat_minor": 0
}
