{
 "cells": [
  {
   "cell_type": "code",
   "execution_count": 1,
   "metadata": {},
   "outputs": [],
   "source": [
    "#\n",
    "# @lc app=leetcode.cn id=215 lang=python\n",
    "#\n",
    "# [215] 数组中的第K个最大元素\n",
    "#\n",
    "# https://leetcode-cn.com/problems/kth-largest-element-in-an-array/description/\n",
    "#\n",
    "# algorithms\n",
    "# Medium (56.27%)\n",
    "# Total Accepted:    15.1K\n",
    "# Total Submissions: 26.9K\n",
    "# Testcase Example:  '[3,2,1,5,6,4]\\n2'\n",
    "#\n",
    "# 在未排序的数组中找到第 k 个最大的元素。请注意，你需要找的是数组排序后的第 k 个最大的元素，而不是第 k 个不同的元素。\n",
    "# \n",
    "# 示例 1:\n",
    "# \n",
    "# 输入: [3,2,1,5,6,4] 和 k = 2\n",
    "# 输出: 5\n",
    "# \n",
    "# \n",
    "# 示例 2:\n",
    "# \n",
    "# 输入: [3,2,3,1,2,4,5,5,6] 和 k = 4\n",
    "# 输出: 4\n",
    "# \n",
    "# 说明: \n",
    "# \n",
    "# 你可以假设 k 总是有效的，且 1 ≤ k ≤ 数组的长度。\n",
    "# \n",
    "#\n",
    "class Solution(object):\n",
    "    def findKthLargest(self, nums, k):\n",
    "        \"\"\"\n",
    "        :type nums: List[int]\n",
    "        :type k: int\n",
    "        :rtype: int\n",
    "        \"\"\"\n",
    "        \n",
    "\n"
   ]
  },
  {
   "cell_type": "markdown",
   "metadata": {},
   "source": [
    "使用最大堆的方法来解决"
   ]
  },
  {
   "cell_type": "code",
   "execution_count": null,
   "metadata": {},
   "outputs": [],
   "source": [
    "class Solution(object):\n",
    "    def findKthLargest(self, nums, k):\n",
    "        \"\"\"\n",
    "        :type nums: List[int]\n",
    "        :type k: int\n",
    "        :rtype: int\n",
    "        \"\"\"\n",
    "        tops = TopK(k)\n",
    "        for num in nums:\n",
    "            tops.push(num)\n",
    "            \n",
    "        return tops.get_top()\n",
    "\n",
    "class TopK(object):\n",
    "    def __init__(self, k):\n",
    "        import heapq\n",
    "        self.k =  k\n",
    "        self.data = []\n",
    "    \n",
    "    def push(self, num):\n",
    "        if len(self.data) < self.k:\n",
    "            heapq.heappush(self.data, num)\n",
    "        else:\n",
    "            if num > self.data[0]:\n",
    "                heapq.heapreplace(self.data, num)\n",
    "                \n",
    "    def get_top(self):\n",
    "        return heapq.heappop(self.data)"
   ]
  }
 ],
 "metadata": {
  "kernelspec": {
   "display_name": "Python 2",
   "language": "python",
   "name": "python2"
  },
  "language_info": {
   "codemirror_mode": {
    "name": "ipython",
    "version": 2
   },
   "file_extension": ".py",
   "mimetype": "text/x-python",
   "name": "python",
   "nbconvert_exporter": "python",
   "pygments_lexer": "ipython2",
   "version": "2.7.15"
  }
 },
 "nbformat": 4,
 "nbformat_minor": 2
}
