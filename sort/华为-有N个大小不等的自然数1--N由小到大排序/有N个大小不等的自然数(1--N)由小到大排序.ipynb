{
 "cells": [
  {
   "cell_type": "markdown",
   "metadata": {},
   "source": [
    "## 有N个大小不等的自然数（1--N）由小到大排序。要求时间复杂度为O(n)，空间复杂度为O(1)。 "
   ]
  },
  {
   "cell_type": "markdown",
   "metadata": {},
   "source": [
    "1. 普通排序法无法满足\n",
    "各种各样的选择排序、插入排序、冒泡排序、希尔排序、堆排序、快速排序等等。但是，用心的人就记得它们当中没有一个算法复杂度是O(n)，且不说空间复杂度要满足O(1)。\n",
    "2. 真正考点：能否想到数组的下标与这N个数存在的关系。\n",
    "这就是考题中的个小玄机。这N个数随你怎么乱序，排好序后就是数组（让下标从1开始）下标为1的元素，里面放的就一定是1，下标为n的元素，里面放的就一定是N。观察出这点，题目就解决了。"
   ]
  },
  {
   "cell_type": "code",
   "execution_count": 9,
   "metadata": {
    "collapsed": false
   },
   "outputs": [
    {
     "name": "stdout",
     "output_type": "stream",
     "text": [
      "[1, 2, 3, 4, 5, 6, 7, 8, 9, 10]\n"
     ]
    }
   ],
   "source": [
    "def sort(arr):\n",
    "    n = len(arr)\n",
    "    for i in range(n - 1):\n",
    "        while arr[i] != i + 1 :\n",
    "            tmp = arr[arr[i] - 1 ]\n",
    "            arr[arr[i] - 1] = arr[i]\n",
    "            arr[i] = tmp\n",
    "#test\n",
    "arr = [3,1,2,4,7,5,9,8,6,10]\n",
    "sort(arr)\n",
    "print(arr)"
   ]
  }
 ],
 "metadata": {
  "kernelspec": {
   "display_name": "Python 3",
   "language": "python",
   "name": "python3"
  },
  "language_info": {
   "codemirror_mode": {
    "name": "ipython",
    "version": 3
   },
   "file_extension": ".py",
   "mimetype": "text/x-python",
   "name": "python",
   "nbconvert_exporter": "python",
   "pygments_lexer": "ipython3",
   "version": "3.5.1"
  }
 },
 "nbformat": 4,
 "nbformat_minor": 0
}
