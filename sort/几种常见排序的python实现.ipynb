{
 "cells": [
  {
   "cell_type": "code",
   "execution_count": 33,
   "metadata": {
    "collapsed": false
   },
   "outputs": [
    {
     "data": {
      "text/plain": [
       "[3, 1, 4, 5, 6, 7]"
      ]
     },
     "execution_count": 33,
     "metadata": {},
     "output_type": "execute_result"
    }
   ],
   "source": [
    "## test arr\n",
    "arr = [3, 1, 4, 5, 6, 7]\n",
    "arr"
   ]
  },
  {
   "cell_type": "code",
   "execution_count": 18,
   "metadata": {
    "collapsed": false
   },
   "outputs": [
    {
     "name": "stdout",
     "output_type": "stream",
     "text": [
      "100000 loops, best of 3: 5.73 µs per loop\n"
     ]
    }
   ],
   "source": [
    "## 冒泡排序\n",
    "def sort1(list):\n",
    "    n = len(list)\n",
    "    for i in range(n):\n",
    "        for j in range(i + 1 , n):\n",
    "            if list[i] > list[j]:\n",
    "                list[i], list[j] = list[j],list[i]\n",
    "    return list \n",
    "\n",
    "#test\n",
    "%timeit sort1(arr)"
   ]
  },
  {
   "cell_type": "code",
   "execution_count": 17,
   "metadata": {
    "collapsed": false
   },
   "outputs": [
    {
     "name": "stdout",
     "output_type": "stream",
     "text": [
      "100000 loops, best of 3: 7.02 µs per loop\n"
     ]
    }
   ],
   "source": [
    "## 选择排序\n",
    "def sort2(list):\n",
    "    n = len(list)\n",
    "    for i in range(n):\n",
    "        m = i\n",
    "        for j in range(i+1 , n):\n",
    "            if list[j] < list[m]:\n",
    "                m = j\n",
    "        list[i], list[m] = list[m], list[i]\n",
    "    return list\n",
    "#test\n",
    "%timeit sort2(arr)"
   ]
  },
  {
   "cell_type": "code",
   "execution_count": 20,
   "metadata": {
    "collapsed": false
   },
   "outputs": [
    {
     "name": "stdout",
     "output_type": "stream",
     "text": [
      "100000 loops, best of 3: 4.16 µs per loop\n"
     ]
    }
   ],
   "source": [
    "## 插入排序\n",
    "def insert_sort (arr):\n",
    "    n = len(arr)\n",
    "    for i in range(1,n):\n",
    "        key = arr[i]\n",
    "        j = i - 1\n",
    "        while j >= 0:\n",
    "            if arr[j] > key:\n",
    "                arr[j + 1] = arr[j]\n",
    "                larr[j] = key\n",
    "            j = j - 1\n",
    "    return arr\n",
    "#test\n",
    "%timeit insert_sort(arr)"
   ]
  },
  {
   "cell_type": "code",
   "execution_count": 37,
   "metadata": {
    "collapsed": false
   },
   "outputs": [
    {
     "name": "stdout",
     "output_type": "stream",
     "text": [
      "[3, 1, 4, 5, 6, 7]\n",
      "100000 loops, best of 3: 8.75 µs per loop\n"
     ]
    },
    {
     "data": {
      "text/plain": [
       "[1, 3, 4, 5, 6, 7]"
      ]
     },
     "execution_count": 37,
     "metadata": {},
     "output_type": "execute_result"
    }
   ],
   "source": [
    "## 快速排序\n",
    "test_arr = [3, 1, 4, 5, 6, 7]\n",
    "print(test_arr)\n",
    "def quick_sort(arr, lo, hi):\n",
    "    if lo >= hi :\n",
    "        return None\n",
    "    j = partion(arr, lo, hi)\n",
    "    quick_sort(arr, lo, j-1)\n",
    "    quick_sort(arr, j+1, hi)\n",
    "\n",
    "def partion(arr, lo, hi):\n",
    "    key = arr[lo]\n",
    "    while lo < hi:\n",
    "        while lo < hi and arr[hi] >= key:\n",
    "            hi = hi - 1\n",
    "        while lo < hi and arr[hi] < key:\n",
    "            arr[lo] = arr[hi]\n",
    "            lo += 1\n",
    "            arr[hi] = arr[lo]\n",
    "\n",
    "    arr[lo] = key\n",
    "    return lo\n",
    "#test\n",
    "n = len(test_arr)\n",
    "%timeit quick_sort(test_arr, 0, n-1)\n",
    "test_arr"
   ]
  },
  {
   "cell_type": "code",
   "execution_count": null,
   "metadata": {
    "collapsed": true
   },
   "outputs": [],
   "source": [
    "ar"
   ]
  }
 ],
 "metadata": {
  "kernelspec": {
   "display_name": "Python 3",
   "language": "python",
   "name": "python3"
  },
  "language_info": {
   "codemirror_mode": {
    "name": "ipython",
    "version": 3
   },
   "file_extension": ".py",
   "mimetype": "text/x-python",
   "name": "python",
   "nbconvert_exporter": "python",
   "pygments_lexer": "ipython3",
   "version": "3.5.1"
  }
 },
 "nbformat": 4,
 "nbformat_minor": 0
}
