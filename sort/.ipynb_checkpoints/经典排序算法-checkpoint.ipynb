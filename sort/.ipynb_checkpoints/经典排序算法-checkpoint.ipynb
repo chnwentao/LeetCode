{
 "cells": [
  {
   "cell_type": "code",
   "execution_count": null,
   "metadata": {
    "collapsed": true
   },
   "outputs": [],
   "source": []
  },
  {
   "cell_type": "code",
   "execution_count": 33,
   "metadata": {},
   "outputs": [
    {
     "data": {
      "text/plain": [
       "[3, 1, 4, 5, 6, 7]"
      ]
     },
     "execution_count": 33,
     "metadata": {},
     "output_type": "execute_result"
    }
   ],
   "source": [
    "## test arr\n",
    "arr = [3, 1, 4, 5, 6, 7]\n",
    "arr"
   ]
  },
  {
   "cell_type": "code",
   "execution_count": 18,
   "metadata": {},
   "outputs": [
    {
     "name": "stdout",
     "output_type": "stream",
     "text": [
      "100000 loops, best of 3: 5.73 µs per loop\n"
     ]
    }
   ],
   "source": [
    "## 冒泡排序\n",
    "def sort1(list):\n",
    "    n = len(list)\n",
    "    for i in range(n):\n",
    "        for j in range(i + 1 , n):\n",
    "            if list[i] > list[j]:\n",
    "                list[i], list[j] = list[j],list[i]\n",
    "    return list \n",
    "\n",
    "#test\n",
    "%timeit sort1(arr)"
   ]
  },
  {
   "cell_type": "code",
   "execution_count": 17,
   "metadata": {},
   "outputs": [
    {
     "name": "stdout",
     "output_type": "stream",
     "text": [
      "100000 loops, best of 3: 7.02 µs per loop\n"
     ]
    }
   ],
   "source": [
    "## 选择排序\n",
    "def sort2(list):\n",
    "    n = len(list)\n",
    "    for i in range(n):\n",
    "        m = i\n",
    "        for j in range(i+1 , n):\n",
    "            if list[j] < list[m]:\n",
    "                m = j\n",
    "        list[i], list[m] = list[m], list[i]\n",
    "    return list\n",
    "#test\n",
    "%timeit sort2(arr)"
   ]
  },
  {
   "cell_type": "code",
   "execution_count": 20,
   "metadata": {},
   "outputs": [
    {
     "name": "stdout",
     "output_type": "stream",
     "text": [
      "100000 loops, best of 3: 4.16 µs per loop\n"
     ]
    }
   ],
   "source": [
    "## 插入排序\n",
    "def insert_sort (arr):\n",
    "    n = len(arr)\n",
    "    for i in range(1,n):\n",
    "        key = arr[i]\n",
    "        j = i - 1\n",
    "        while j >= 0:\n",
    "            if arr[j] > key:\n",
    "                arr[j + 1] = arr[j]\n",
    "                larr[j] = key\n",
    "            j = j - 1\n",
    "    return arr\n",
    "#test\n",
    "%timeit insert_sort(arr)"
   ]
  },
  {
   "cell_type": "markdown",
   "metadata": {},
   "source": [
    "## 快速排序\n",
    "先从待排序的数组中找出一个数作为基准数（取第一个数即可），然后将原来的数组划分成两部分：小于基准数的左子数组和大于等于基准数的右子数组。然后对这两个子数组再递归重复上述过程，直到两个子数组的所有数都分别有序。最后返回“左子数组” + “基准数” + “右子数组”，即是最终排序好的数组。\n",
    "\n"
   ]
  },
  {
   "cell_type": "code",
   "execution_count": 37,
   "metadata": {},
   "outputs": [
    {
     "name": "stdout",
     "output_type": "stream",
     "text": [
      "[3, 1, 4, 5, 6, 7]\n",
      "100000 loops, best of 3: 8.75 µs per loop\n"
     ]
    },
    {
     "data": {
      "text/plain": [
       "[1, 3, 4, 5, 6, 7]"
      ]
     },
     "execution_count": 37,
     "metadata": {},
     "output_type": "execute_result"
    }
   ],
   "source": [
    "\n",
    "test_arr = [3, 1, 4, 5, 6, 7]\n",
    "print(test_arr)\n",
    "def quick_sort(arr):\n",
    "    if lo >= hi :\n",
    "        return arr\n",
    "    \n",
    "    mid = arr[0]\n",
    "    left = []\n",
    "    right = []\n",
    "    for i in arr:\n",
    "        if i > mid:\n",
    "            left.append(i)\n",
    "        else:\n",
    "            right.append(i)\n",
    "    return quick_sort(left) + [mid] + quick_sort(right)\n",
    "#test\n",
    "n = len(test_arr)\n",
    "%timeit quick_sort(test_arr, 0, n-1)\n",
    "test_arr"
   ]
  },
  {
   "cell_type": "code",
   "execution_count": 1,
   "metadata": {},
   "outputs": [
    {
     "data": {
      "text/plain": [
       "[1, 2, 3, 4, 5]"
      ]
     },
     "execution_count": 1,
     "metadata": {},
     "output_type": "execute_result"
    }
   ],
   "source": [
    "range(1,6)"
   ]
  },
  {
   "cell_type": "code",
   "execution_count": null,
   "metadata": {
    "collapsed": true
   },
   "outputs": [],
   "source": []
  }
 ],
 "metadata": {
  "kernelspec": {
   "display_name": "Python 2",
   "language": "python",
   "name": "python2"
  },
  "language_info": {
   "codemirror_mode": {
    "name": "ipython",
    "version": 2
   },
   "file_extension": ".py",
   "mimetype": "text/x-python",
   "name": "python",
   "nbconvert_exporter": "python",
   "pygments_lexer": "ipython2",
   "version": "2.7.13"
  }
 },
 "nbformat": 4,
 "nbformat_minor": 1
}
