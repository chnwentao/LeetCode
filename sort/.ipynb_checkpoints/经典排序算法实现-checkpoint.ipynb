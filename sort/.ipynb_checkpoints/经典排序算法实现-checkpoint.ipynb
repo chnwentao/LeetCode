{
 "cells": [
  {
   "attachments": {
    "%E5%90%84%E7%A7%8D%E6%8E%92%E5%BA%8F%E7%AE%97%E6%B3%95%E4%B8%80%E8%A7%88.png": {
     "image/png": "[encoded data removed]"
    }
   },
   "cell_type": "markdown",
   "metadata": {},
   "source": [
    "## 几种算法的比较:\n",
    "\n",
    "- 选择排序、快速排序、希尔排序、堆排序不是稳定的排序算法，\n",
    "\n",
    "- 冒泡排序、插入排序、归并排序和基数排序是稳定的排序算法。\n",
    "![%E5%90%84%E7%A7%8D%E6%8E%92%E5%BA%8F%E7%AE%97%E6%B3%95%E4%B8%80%E8%A7%88.png](attachment:%E5%90%84%E7%A7%8D%E6%8E%92%E5%BA%8F%E7%AE%97%E6%B3%95%E4%B8%80%E8%A7%88.png)"
   ]
  },
  {
   "cell_type": "code",
   "execution_count": 17,
   "metadata": {},
   "outputs": [
    {
     "name": "stdout",
     "output_type": "stream",
     "text": [
      "100000 loops, best of 3: 7.63 µs per loop\n",
      "[1, 3, 4, 5, 6, 7]\n"
     ]
    }
   ],
   "source": [
    "## 冒泡排序\n",
    "# 核心思想：每相邻的数比较，小数沉底，大数上浮\n",
    "# 实现方法， 两层循环， 逐个比较，然后交互\n",
    "# 稳定 O(n^2)\n",
    "def sort1(list):\n",
    "    n = len(list)\n",
    "    for i in range(n):\n",
    "        for j in range(i + 1 , n):\n",
    "            if list[i] > list[j]:\n",
    "                list[i], list[j] = list[j],list[i]\n",
    "    return list \n",
    "\n",
    "#test\n",
    "arr = [3, 1, 4, 5, 6, 7]\n",
    "%timeit sort1(arr)\n",
    "print arr"
   ]
  },
  {
   "cell_type": "code",
   "execution_count": 16,
   "metadata": {},
   "outputs": [
    {
     "name": "stdout",
     "output_type": "stream",
     "text": [
      "100000 loops, best of 3: 9.27 µs per loop\n"
     ]
    }
   ],
   "source": [
    "## 选择排序\n",
    "# 说白了，选择排序就两步，遍历和找最小值\n",
    "# 从i = 0遍历到 n，然后找[i，n)这个区间的最小值，把这个最小值放到i的位置然后进行下一趟迭代.\n",
    "def sort2(list):\n",
    "    n = len(list)\n",
    "    for i in range(n):\n",
    "        m = i\n",
    "        for j in range(i+1 , n):\n",
    "            if list[j] < list[m]:\n",
    "                m = j\n",
    "        list[i], list[m] = list[m], list[i]\n",
    "    return list\n",
    "#test\n",
    "arr = [3, 1, 4, 5, 6, 7]\n",
    "%timeit sort2(arr)"
   ]
  },
  {
   "cell_type": "markdown",
   "metadata": {},
   "source": [
    "## 插入排序\n",
    "- 它的工作原理是通过构建有序序列，对于未排序数据，在已排序序列中从后向前扫描，找到相应位置并插入。\n",
    "- 插入排序在实现上，在从后向前扫描过程中，需要反复把已排序元素逐步向后挪位，为最新元素提供插入空间。"
   ]
  },
  {
   "cell_type": "code",
   "execution_count": 14,
   "metadata": {},
   "outputs": [
    {
     "name": "stdout",
     "output_type": "stream",
     "text": [
      "[1, 3, 4, 5, 6, 7]\n",
      "100000 loops, best of 3: 8.07 µs per loop\n"
     ]
    }
   ],
   "source": [
    "## 插入排序\n",
    "def insert_sort (arr):\n",
    "    n = len(arr)\n",
    "     # 从 1 位置开始，循环到末尾\n",
    "    for i in range(1,n):\n",
    "        # 从当前位置往前查找小于它的数\n",
    "        for j in range(i, 0, -1):\n",
    "            # 把已排序元素逐步向后挪位\n",
    "            if arr[j] < arr[j-1] :\n",
    "                arr[j-1],arr[j] = arr[j], arr[j-1]\n",
    "    return arr\n",
    "#test\n",
    "nums = [3, 1, 4, 5, 6, 7]\n",
    "print insert_sort(nums)\n",
    "%timeit insert_sort(nums)"
   ]
  },
  {
   "cell_type": "markdown",
   "metadata": {},
   "source": [
    "## 快速排序\n",
    "\n",
    "先从待排序的数组中找出一个数作为基准数（取第一个数即可），然后将原来的数组划分成两部分：小于基准数的左子数组和大于等于基准数的右子数组。然后对这两个子数组再递归重复上述过程； 退出条件为 长度唯一了。最后返回“左子数组” + “基准数” + “右子数组”，即是最终排序好的数组。\n",
    "\n",
    "下面是一个不考虑空间的方法\n",
    "\n"
   ]
  },
  {
   "cell_type": "code",
   "execution_count": 5,
   "metadata": {},
   "outputs": [
    {
     "name": "stdout",
     "output_type": "stream",
     "text": [
      "The slowest run took 81.72 times longer than the fastest. This could mean that an intermediate result is being cached.\n",
      "1000000 loops, best of 3: 379 ns per loop\n"
     ]
    }
   ],
   "source": [
    "# 实现快排\n",
    "def quicksort(nums):\n",
    "    if len(nums) <= 1:\n",
    "        return nums\n",
    "\n",
    "    # 左子数组\n",
    "    less = []\n",
    "    # 右子数组\n",
    "    greater = []\n",
    "    # 基准数\n",
    "    base = nums.pop()\n",
    "\n",
    "    # 对原数组进行划分\n",
    "    for x in nums:\n",
    "        if x < base:\n",
    "            less.append(x)\n",
    "        else:\n",
    "            greater.append(x)\n",
    "\n",
    "    # 递归调用\n",
    "    return quicksort(less) + [base] + quicksort(greater)\n",
    "\n",
    "nums = [3, 1, 4, 5, 6, 7]\n",
    "# print quicksort(nums)\n",
    "%timeit quicksort(nums)"
   ]
  },
  {
   "cell_type": "code",
   "execution_count": 9,
   "metadata": {},
   "outputs": [
    {
     "data": {
      "text/plain": [
       "[4, 3, 2, 1]"
      ]
     },
     "execution_count": 9,
     "metadata": {},
     "output_type": "execute_result"
    }
   ],
   "source": [
    "range(4, 0, -1)"
   ]
  },
  {
   "cell_type": "code",
   "execution_count": null,
   "metadata": {},
   "outputs": [],
   "source": []
  }
 ],
 "metadata": {
  "kernelspec": {
   "display_name": "Python 2",
   "language": "python",
   "name": "python2"
  },
  "language_info": {
   "codemirror_mode": {
    "name": "ipython",
    "version": 2
   },
   "file_extension": ".py",
   "mimetype": "text/x-python",
   "name": "python",
   "nbconvert_exporter": "python",
   "pygments_lexer": "ipython2",
   "version": "2.7.15"
  }
 },
 "nbformat": 4,
 "nbformat_minor": 1
}
