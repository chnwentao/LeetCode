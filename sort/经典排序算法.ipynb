{
 "cells": [
  {
   "cell_type": "markdown",
   "metadata": {},
   "source": [
    "## 几种算法的比较:\n",
    "\n",
    "![](http://7xiuu0.com1.z0.glb.clouddn.com/17-11-27/15414699.jpg)"
   ]
  },
  {
   "cell_type": "code",
   "execution_count": 16,
   "metadata": {},
   "outputs": [
    {
     "name": "stdout",
     "output_type": "stream",
     "text": [
      "The slowest run took 4.20 times longer than the fastest. This could mean that an intermediate result is being cached.\n",
      "100000 loops, best of 3: 4.54 µs per loop\n",
      "[1, 3, 4, 5, 6, 7]\n"
     ]
    }
   ],
   "source": [
    "## 冒泡排序\n",
    "def sort1(list):\n",
    "    n = len(list)\n",
    "    for i in range(n):\n",
    "        for j in range(i + 1 , n):\n",
    "            if list[i] > list[j]:\n",
    "                list[i], list[j] = list[j],list[i]\n",
    "    return list \n",
    "\n",
    "#test\n",
    "arr = [3, 1, 4, 5, 6, 7]\n",
    "%timeit sort1(arr)\n",
    "print arr"
   ]
  },
  {
   "cell_type": "code",
   "execution_count": 17,
   "metadata": {},
   "outputs": [
    {
     "name": "stdout",
     "output_type": "stream",
     "text": [
      "100000 loops, best of 3: 7.02 µs per loop\n"
     ]
    }
   ],
   "source": [
    "## 选择排序\n",
    "def sort2(list):\n",
    "    n = len(list)\n",
    "    for i in range(n):\n",
    "        m = i\n",
    "        for j in range(i+1 , n):\n",
    "            if list[j] < list[m]:\n",
    "                m = j\n",
    "        list[i], list[m] = list[m], list[i]\n",
    "    return list\n",
    "#test\n",
    "%timeit sort2(arr)"
   ]
  },
  {
   "cell_type": "code",
   "execution_count": 20,
   "metadata": {},
   "outputs": [
    {
     "name": "stdout",
     "output_type": "stream",
     "text": [
      "100000 loops, best of 3: 4.16 µs per loop\n"
     ]
    }
   ],
   "source": [
    "## 插入排序\n",
    "def insert_sort (arr):\n",
    "    n = len(arr)\n",
    "    for i in range(1,n):\n",
    "        key = arr[i]\n",
    "        j = i - 1\n",
    "        while j >= 0:\n",
    "            if arr[j] > key:\n",
    "                arr[j + 1] = arr[j]\n",
    "                larr[j] = key\n",
    "            j = j - 1\n",
    "    return arr\n",
    "#test\n",
    "%timeit insert_sort(arr)"
   ]
  },
  {
   "cell_type": "markdown",
   "metadata": {},
   "source": [
    "## 快速排序\n",
    "\n",
    "先从待排序的数组中找出一个数作为基准数（取第一个数即可），然后将原来的数组划分成两部分：小于基准数的左子数组和大于等于基准数的右子数组。然后对这两个子数组再递归重复上述过程，直到两个子数组的所有数都分别有序。最后返回“左子数组” + “基准数” + “右子数组”，即是最终排序好的数组。\n",
    "\n",
    "下面是一个不考虑空间的方法\n",
    "\n"
   ]
  },
  {
   "cell_type": "code",
   "execution_count": 15,
   "metadata": {},
   "outputs": [
    {
     "name": "stdout",
     "output_type": "stream",
     "text": [
      "[1, 3, 4, 5, 6, 7]\n"
     ]
    }
   ],
   "source": [
    "# 实现快排\n",
    "def quicksort(nums):\n",
    "    if len(nums) <= 1:\n",
    "        return nums\n",
    "\n",
    "    # 左子数组\n",
    "    less = []\n",
    "    # 右子数组\n",
    "    greater = []\n",
    "    # 基准数\n",
    "    base = nums.pop()\n",
    "\n",
    "    # 对原数组进行划分\n",
    "    for x in nums:\n",
    "        if x < base:\n",
    "            less.append(x)\n",
    "        else:\n",
    "            greater.append(x)\n",
    "\n",
    "    # 递归调用\n",
    "    return quicksort(less) + [base] + quicksort(greater)\n",
    "\n",
    "def test():\n",
    "    nums = [3, 1, 4, 5, 6, 7]\n",
    "    print quicksort(nums)\n",
    "test()"
   ]
  },
  {
   "cell_type": "code",
   "execution_count": 13,
   "metadata": {},
   "outputs": [
    {
     "name": "stdout",
     "output_type": "stream",
     "text": [
      "[1, 3, 4, 5, 6, 7]\n"
     ]
    }
   ],
   "source": [
    "# 实现快排\n",
    "def quicksort(nums):\n",
    "    if len(nums) <= 1:\n",
    "        return nums\n",
    "\n",
    "    # 左子数组\n",
    "    less = []\n",
    "    # 右子数组\n",
    "    greater = []\n",
    "    # 基准数\n",
    "    base = nums.pop()\n",
    "\n",
    "    # 对原数组进行划分\n",
    "    for x in nums:\n",
    "        if x < base:\n",
    "            less.append(x)\n",
    "        else:\n",
    "            greater.append(x)\n",
    "\n",
    "    # 递归调用\n",
    "    return quicksort(less) + [base] + quicksort(greater)\n",
    "\n",
    "def main():\n",
    "    nums = [3, 1, 4, 5, 6, 7]\n",
    "    print quicksort(nums)\n",
    "\n",
    "main()"
   ]
  },
  {
   "cell_type": "code",
   "execution_count": null,
   "metadata": {
    "collapsed": true
   },
   "outputs": [],
   "source": []
  }
 ],
 "metadata": {
  "kernelspec": {
   "display_name": "Python 2",
   "language": "python",
   "name": "python2"
  },
  "language_info": {
   "codemirror_mode": {
    "name": "ipython",
    "version": 2
   },
   "file_extension": ".py",
   "mimetype": "text/x-python",
   "name": "python",
   "nbconvert_exporter": "python",
   "pygments_lexer": "ipython2",
   "version": "2.7.13"
  }
 },
 "nbformat": 4,
 "nbformat_minor": 1
}
