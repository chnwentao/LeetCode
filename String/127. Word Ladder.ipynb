{
 "cells": [
  {
   "cell_type": "markdown",
   "metadata": {},
   "source": [
    "# 127. Word Ladder\n",
    "\n",
    "## Q\n",
    "Given two words (beginWord and endWord), and a dictionary's word list, find the length of shortest transformation sequence from beginWord to endWord, such that:\n",
    "\n",
    "- Only one letter can be changed at a time\n",
    "- Each intermediate word must exist in the word list\n",
    "\n",
    "### For example,\n",
    "\n",
    "Given:\n",
    "\n",
    "beginWord = \"hit\"\n",
    "\n",
    "endWord = \"cog\"\n",
    "\n",
    "wordList = [\"hot\",\"dot\",\"dog\",\"lot\",\"log\"]\n",
    "\n",
    "As one shortest transformation is \"hit\" -> \"hot\" -> \"dot\" -> \"dog\" -> \"cog\",\n",
    "\n",
    "return its length 5.\n",
    "\n",
    "### Note:\n",
    "- Return 0 if there is no such transformation sequence.\n",
    "- All words have the same length.\n",
    "- All words contain only lowercase alphabetic characters."
   ]
  },
  {
   "cell_type": "markdown",
   "metadata": {},
   "source": [
    "## 思路\n",
    "思路：BFS。\n",
    "1. 将start入队列\n",
    "2. 每次取出队首（一共取当前层的长度），对队首每个字母分别进行变换（a~z)，判断其是否在字典中，如果存在，加入队列。\n",
    "3. 每一层结束后，将dis+1\n",
    "\n",
    "### 性能\n",
    "- dict给的是set类型, 检查一个单词在不在其中(word in dict)为O(1)时间。\n",
    "- 设单词长度为L, dict里有N个单词, 每次扫一遍dict判断每个单词是否与当前单词只差一个字母的时间复杂度是`O(N*L)`, 而每次变换当前单词的一个字母, 看变换出的词是否在dict中的时间复杂度是`O(26*L)`, 所以要选择后者。\n"
   ]
  },
  {
   "cell_type": "markdown",
   "metadata": {},
   "source": [
    "## 坑\n"
   ]
  },
  {
   "cell_type": "markdown",
   "metadata": {},
   "source": [
    "## code(616 ms)"
   ]
  },
  {
   "cell_type": "code",
   "execution_count": 36,
   "metadata": {
    "collapsed": false
   },
   "outputs": [],
   "source": [
    "class Solution(object):\n",
    "    def ladderLength(self, beginWord, endWord, wordList):\n",
    "        \"\"\"\n",
    "        :type beginWord: str\n",
    "        :type endWord: str\n",
    "        :type wordList: Set[str]\n",
    "        :rtype: int\n",
    "        \"\"\"\n",
    "        # 边界\n",
    "        if len(beginWord) == 0 or len(endWord) == 0:\n",
    "            return  \n",
    "        if beginWord == endWord:\n",
    "            return 1\n",
    "        # 小写\n",
    "        beg = beginWord.lower()\n",
    "        end = endWord.lower()\n",
    "        wd = set()\n",
    "        for w in wordList:\n",
    "            wd.add(w.lower())\n",
    "        \n",
    "        chars = 'qwertyuiopasdfghjklzxcvbnm'\n",
    "        \n",
    "        n = len(beg)\n",
    "        queue = [beg]\n",
    "        res =set()\n",
    "        count = 2\n",
    "        \n",
    "        ec = list(end)\n",
    "        while queue:\n",
    "            \n",
    "            for _ in xrange(len(queue)):\n",
    "                word = queue.pop(0)\n",
    "                ws = list(word)\n",
    "                for i in range(n):\n",
    "                    for c in chars:\n",
    "                        tmp = word[:i] + c + word[i + 1:]\n",
    "                        if tmp == end:\n",
    "                            return count\n",
    "                        if tmp in wd and tmp not in res:\n",
    "                            queue.append(tmp)\n",
    "                            res.add(tmp)\n",
    "            count += 1\n",
    "            \n",
    "        return 0"
   ]
  },
  {
   "cell_type": "markdown",
   "metadata": {},
   "source": [
    "## test"
   ]
  },
  {
   "cell_type": "code",
   "execution_count": 35,
   "metadata": {
    "collapsed": false
   },
   "outputs": [
    {
     "name": "stdout",
     "output_type": "stream",
     "text": [
      "         43 function calls in 0.001 seconds\n",
      "\n",
      "   Ordered by: standard name\n",
      "\n",
      "   ncalls  tottime  percall  cumtime  percall filename:lineno(function)\n",
      "       10    0.000    0.000    0.000    0.000 :0(add)\n",
      "        5    0.000    0.000    0.000    0.000 :0(append)\n",
      "        7    0.000    0.000    0.000    0.000 :0(len)\n",
      "        7    0.000    0.000    0.000    0.000 :0(lower)\n",
      "        5    0.000    0.000    0.000    0.000 :0(pop)\n",
      "        5    0.000    0.000    0.000    0.000 :0(range)\n",
      "        1    0.000    0.000    0.000    0.000 :0(setprofile)\n",
      "        1    0.001    0.001    0.001    0.001 <ipython-input-34-5f82846f849f>:2(ladderLength)\n",
      "        1    0.000    0.000    0.001    0.001 <string>:1(<module>)\n",
      "        0    0.000             0.000          profile:0(profiler)\n",
      "        1    0.000    0.000    0.001    0.001 profile:0(test.ladderLength(\"hit\", \"cog\",[\"hot\",\"dot\",\"dog\",\"lot\",\"log\"]))\n",
      "\n",
      "\n"
     ]
    }
   ],
   "source": [
    "import profile\n",
    "test = Solution()\n",
    "profile.run('test.ladderLength(\"hit\", \"cog\",[\"hot\",\"dot\",\"dog\",\"lot\",\"log\"])')\n",
    "#print test.ladderLength(\"a\", \"c\", [\"a\",\"b\",\"c\"])"
   ]
  }
 ],
 "metadata": {
  "kernelspec": {
   "display_name": "Python 2",
   "language": "python",
   "name": "python2"
  },
  "language_info": {
   "codemirror_mode": {
    "name": "ipython",
    "version": 2
   },
   "file_extension": ".py",
   "mimetype": "text/x-python",
   "name": "python",
   "nbconvert_exporter": "python",
   "pygments_lexer": "ipython2",
   "version": "2.7.11"
  }
 },
 "nbformat": 4,
 "nbformat_minor": 0
}
