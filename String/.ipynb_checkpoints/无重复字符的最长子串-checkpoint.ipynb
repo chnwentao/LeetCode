{
 "cells": [
  {
   "cell_type": "markdown",
   "metadata": {},
   "source": [
    "给定一个字符串，找出不含有重复字符的 最长子串 的长度。\n",
    "示例：\n",
    "\n",
    "\n",
    "给定 \"abcabcbb\" ，没有重复字符的最长子串是 \"abc\" ，那么长度就是3。\n",
    "\n",
    "\n",
    "给定 \"bbbbb\" ，最长的子串就是 \"b\" ，长度是1。\n",
    "\n",
    "\n",
    "给定 \"pwwkew\" ，最长子串是 \"wke\" ，长度是3。请注意答案必须是一个子串，\"pwke\" 是 子序列 而不是子串。\n"
   ]
  },
  {
   "cell_type": "markdown",
   "metadata": {},
   "source": [
    "## 思路\n",
    "\n",
    "- 滑动窗口问题， 保证窗口里的字符是不重复， 然后缓存最长的size. 最后输出。\n",
    "    - 怎么保证呢？ 当前字符的重复字符不在窗口里面（重复字符的位置在 start 后，）\n",
    "\n",
    "\n",
    "算法步骤 \n",
    "- 使用一个字典保存 前面的字符的 最后一次出现的位置\n",
    "- 新建 两个指针， 一个缓存 子串起始位置 start，一个是 缓存的长度（输出） size\n",
    "- 遍历一般输入字符串。\n",
    "    -  当前字符的重复字符在start 的后面（那就是有重复了）:  更新 start ,   \n",
    "        - 细节：更新后的start 不是当前位置，而是重复字符的下一位。\n",
    "    - 其他情况，更新最长子串长度和 缓存当前字符位置字典 "
   ]
  },
  {
   "cell_type": "code",
   "execution_count": null,
   "metadata": {},
   "outputs": [],
   "source": [
    "class Solution(object):\n",
    "    def lengthOfLongestSubstring(self, s):\n",
    "        \"\"\"\n",
    "        :type s: str\n",
    "        :rtype: int\n",
    "        \"\"\"\n",
    "        chars = {}\n",
    "        start = 0\n",
    "        size = 0 \n",
    "        for i, char in enumerate(s):\n",
    "            if char in chars and start <= chars[char]:  # 当前子串有两个字符了\n",
    "                start = chars[char] + 1  # 更新 start \n",
    "            size = max(size, i - start  + 1)  # 更新字符串长度\n",
    "            chars[char] = i \n",
    "        return size\n",
    "                "
   ]
  }
 ],
 "metadata": {
  "kernelspec": {
   "display_name": "Python 2",
   "language": "python",
   "name": "python2"
  },
  "language_info": {
   "codemirror_mode": {
    "name": "ipython",
    "version": 2
   },
   "file_extension": ".py",
   "mimetype": "text/x-python",
   "name": "python",
   "nbconvert_exporter": "python",
   "pygments_lexer": "ipython2",
   "version": "2.7.15"
  }
 },
 "nbformat": 4,
 "nbformat_minor": 2
}
