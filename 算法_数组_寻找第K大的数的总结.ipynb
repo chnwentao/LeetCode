{
 "cells": [
  {
   "cell_type": "markdown",
   "metadata": {},
   "source": [
    "### 题目\n",
    "k大数问题”指的是在长度为n(n>=k)的乱序数组中S找出从大到小顺序的第（前）k个数 或第k 个数的的问题。同理的还有 k小数问题。\n",
    "\n",
    "这种题的解法是很多的。\n",
    "\n",
    "### 暴力解法： 排序后取出， O(n*logn + k)\n",
    "我们可以对这个乱序数组按照从大到小先行排序，然后取出前k大，总的时间复杂度为O(n*logn + k)。 这是个暴力的姐夫，不推荐使用。\n",
    "\n",
    "### 解法 ： k大小的最小堆解法 ， O(n * logk)\n",
    "维护一个k大小的最小堆，对于数组中的每一个元素判断与堆顶的大小，若堆顶较大，则不管，否则，弹出堆顶，将当前值插入到堆中。时间复杂度O(n * logk)"
   ]
  },
  {
   "cell_type": "code",
   "execution_count": 29,
   "metadata": {
    "collapsed": false
   },
   "outputs": [
    {
     "name": "stdout",
     "output_type": "stream",
     "text": [
      "30\n"
     ]
    }
   ],
   "source": [
    "import heapq\n",
    "class BtmKHeap(object):\n",
    "    \"\"\" 利用 heapq 实现了一个 保存最小 K 个数的堆\n",
    "        注意，默认的heap是一个小顶堆！ 所以：在存入堆、从堆中取出的时候，都用相反数 \n",
    "        这个确实很 trick 啊\n",
    "    \"\"\"\n",
    "    def __init__(self, k):\n",
    "        self.k = k\n",
    "        self.data = []\n",
    "    def push(self, elem):\n",
    "        if len(self.data) < self.k:\n",
    "            heapq.heappush(self.data, -elem)\n",
    "        else:\n",
    "            min_ = self.data[0]\n",
    "            if -elem > min_:\n",
    "                heapq.heapreplace(self.data,-elem)\n",
    "\n",
    "def get_3th(N, arr):\n",
    "    \n",
    "    heap = BtmKHeap(3)\n",
    "    for num in arr:\n",
    "        heap.push(num)\n",
    "    if len(heap.data) <= 3:\n",
    "        return -heap.data[0]\n",
    "    else:\n",
    "        return -1\n",
    "    \n",
    "# TEST\n",
    "print get_3th(9, [10, 40, 50, 20, 70, 80, 30, 90, 60,]) "
   ]
  },
  {
   "cell_type": "code",
   "execution_count": 28,
   "metadata": {
    "collapsed": false
   },
   "outputs": [
    {
     "data": {
      "text/plain": [
       "30"
      ]
     },
     "execution_count": 28,
     "metadata": {},
     "output_type": "execute_result"
    }
   ],
   "source": [
    "## 其他解法\n"
   ]
  },
  {
   "cell_type": "code",
   "execution_count": null,
   "metadata": {
    "collapsed": true
   },
   "outputs": [],
   "source": [
    "### 参考\n",
    "- [Python使用heapq实现小顶堆（TopK大）、大顶堆（BtmK小）](https://www.coder4.com/archives/3844)\n",
    "- [寻找第K大的数的方法总结](http://www.cnblogs.com/zhjp11/archive/2010/02/26/1674227.html)"
   ]
  }
 ],
 "metadata": {
  "kernelspec": {
   "display_name": "Python 2",
   "language": "python",
   "name": "python2"
  },
  "language_info": {
   "codemirror_mode": {
    "name": "ipython",
    "version": 2
   },
   "file_extension": ".py",
   "mimetype": "text/x-python",
   "name": "python",
   "nbconvert_exporter": "python",
   "pygments_lexer": "ipython2",
   "version": "2.7.12"
  }
 },
 "nbformat": 4,
 "nbformat_minor": 0
}
