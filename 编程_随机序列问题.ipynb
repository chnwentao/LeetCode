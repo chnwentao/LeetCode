{
 "cells": [
  {
   "cell_type": "markdown",
   "metadata": {},
   "source": [
    "#### 题目：\n",
    "\n",
    "假设有一个数组，里面有10个元素 int a[10]={0, 1, 2, 3, 4, 5, 6, 7, 8, 9}。请写一个算法，得到a数组的一个随机排列。要求时间复杂度尽量小，可以使用random函数。例如输出的随机序列可以是：3 6 2 4 5 1 9 8 0思路：1.\n",
    "\n",
    "#### 思路 1：时间 O(N2) ， 空间O(N)\n",
    "- 创建一个List，用于保存随机生成的数值，每次插入时，先判断这个数值是否已经在List中存在了，如果已经存在，则重新生成。\n",
    "- 简单易懂，时间复杂度是O(N²) ，空间复杂度是O(N)。该算法的局限在于，每生成一个随机数，都要遍历List，判断是否已经存在，这就导致时间复杂度太高。\n",
    "\n",
    "##### 思路 2 时间 O(N) ， 空间O(N)\n",
    "\n",
    "遍历List的时间复杂度是O(N)，访问Hashtable的时间复杂度是O(1)。所以，如果我们使用Hashtable来判断是否重复，就可以将整个算法的时间复杂度从O(N²)降至O(N)，而空间复杂度仍然基本保持在O(N)。\n",
    "\n",
    "##### 思路 3  时间和空间复杂度都是O(N)，性能非常高\n",
    "\n",
    "1. 按顺序列出0～N，维护一个变量max，max=N；\n",
    "2. 从0～max中产生一个随机数r，将位置r的元素与位置max的元素交换，将max递减1；\n",
    "3. 重复第2步至max等于0；\n"
   ]
  },
  {
   "cell_type": "code",
   "execution_count": 10,
   "metadata": {
    "collapsed": false
   },
   "outputs": [
    {
     "data": {
      "text/plain": [
       "[1, 6, 0, 3, 8, 2, 5, 9, 7, 4]"
      ]
     },
     "execution_count": 10,
     "metadata": {},
     "output_type": "execute_result"
    }
   ],
   "source": [
    "import random\n",
    "def random_q(arr):\n",
    "    for e in xrange(len(arr) - 1, -1,-1):\n",
    "        w = random.randint(0, e)\n",
    "        arr[w], arr[e] = arr[e], arr[w]\n",
    "    return arr\n",
    "arr = [0, 1, 2, 3, 4, 5, 6, 7, 8, 9]\n",
    "random_q(arr)"
   ]
  },
  {
   "cell_type": "markdown",
   "metadata": {},
   "source": [
    "### 参考\n",
    "- [blog: 非重复随机序列生成算法](http://www.cnblogs.com/lavezhang/archive/2012/05/14/2498981.html)"
   ]
  },
  {
   "cell_type": "markdown",
   "metadata": {},
   "source": [
    "### 技巧"
   ]
  },
  {
   "cell_type": "code",
   "execution_count": 11,
   "metadata": {
    "collapsed": false
   },
   "outputs": [
    {
     "data": {
      "text/plain": [
       "[9, 8, 7, 6, 5, 4, 3, 2, 1, 0]"
      ]
     },
     "execution_count": 11,
     "metadata": {},
     "output_type": "execute_result"
    }
   ],
   "source": [
    "# 倒序的产生\n",
    "beg = 0\n",
    "end = 10\n",
    "range(end - 1, beg - 1, -1) # 易错，忘了减1"
   ]
  },
  {
   "cell_type": "code",
   "execution_count": 12,
   "metadata": {
    "collapsed": false
   },
   "outputs": [
    {
     "name": "stdout",
     "output_type": "stream",
     "text": [
      "11\n",
      "10.6583682886\n",
      "0.942352869477\n"
     ]
    }
   ],
   "source": [
    "### 随机数的产生\n",
    "#### 用于生成一个指定范围内的整数。其中参数a是下限，参数b是上限，生成的随机数n: a <= n <= b\n",
    "print random.randint(10 ,20)\n",
    "\n",
    "#### 用于生成一个指定范围内的随机符点数，两个参数其中一个是上限\n",
    "print  random.uniform(10, 20)\n",
    "\n",
    "#### 用于生成一个0到1的随机符点数: 0 <= n < 1.0\n",
    "print random.random()\n"
   ]
  },
  {
   "cell_type": "code",
   "execution_count": null,
   "metadata": {
    "collapsed": true
   },
   "outputs": [],
   "source": []
  }
 ],
 "metadata": {
  "kernelspec": {
   "display_name": "Python 2",
   "language": "python",
   "name": "python2"
  },
  "language_info": {
   "codemirror_mode": {
    "name": "ipython",
    "version": 2
   },
   "file_extension": ".py",
   "mimetype": "text/x-python",
   "name": "python",
   "nbconvert_exporter": "python",
   "pygments_lexer": "ipython2",
   "version": "2.7.12"
  }
 },
 "nbformat": 4,
 "nbformat_minor": 0
}
