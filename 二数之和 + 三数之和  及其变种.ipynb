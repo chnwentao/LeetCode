{
 "cells": [
  {
   "cell_type": "markdown",
   "metadata": {},
   "source": [
    "## 二数之和\n",
    "问题描述（167. 两数之和 II - 输入有序数组）\n",
    "\n",
    "给定一个已按照升序排列 的有序数组，找到两个数使得它们相加之和等于目标数。\n",
    "\n",
    "函数应该返回这两个下标值 index1 和 index2，其中 index1 必须小于 index2。\n",
    "\n",
    "说明:\n",
    "    返回的下标值（index1 和 index2）不是从零开始的。\n",
    "    \n",
    "    你可以假设每个输入只对应唯一的答案，而且你不可以重复使用相同的元素。\n",
    "\n",
    "示例:\n",
    "    输入: numbers = [2, 7, 11, 15], target = 9\n",
    "    \n",
    "    输出: [1,2]\n",
    "    \n",
    "    解释: 2 与 7 之和等于目标数 9 。因此 index1 = 1, index2 = 2 。"
   ]
  },
  {
   "cell_type": "markdown",
   "metadata": {},
   "source": [
    "思路 1\n",
    "- 首尾双指针\n",
    "- 因为是有序的，可以尝试使用首尾双指针解决该问题，时间复杂度为 O(N)\n",
    "- 从两端开始遍历， 大于 目标 尾部指针 - 1  ， 小于则  首部指针+1 ，不会有"
   ]
  },
  {
   "cell_type": "code",
   "execution_count": null,
   "metadata": {},
   "outputs": [],
   "source": [
    "class Solution:\n",
    "    def twoSum(self, A, t):\n",
    "        \"\"\"\n",
    "        :type A: List[int]\n",
    "        :type t: int\n",
    "        :rtype: List[int]\n",
    "        \"\"\"\n",
    "        ret = [] \n",
    "        n = len(A)\n",
    "        lo, lh = 0, n - 1\n",
    "        while lo < lh:\n",
    "            tmp = A[lo]  + A[lh]\n",
    "            if tmp > t:\n",
    "                lh -= 1\n",
    "            elif tmp < t:\n",
    "                lo += 1\n",
    "            else:\n",
    "                ret.append(lo + 1)\n",
    "                ret.append(lh + 1)\n",
    "                break\n",
    "        return ret\n",
    "        "
   ]
  },
  {
   "cell_type": "markdown",
   "metadata": {},
   "source": [
    "思路2\n",
    "\n",
    "- 本题还可以利用 Hash 表解决，时间复杂度 O(N)，空间复杂度 O(N)\n",
    "\n",
    "- 使用 Hash 表不要求数组有序\n",
    "\n",
    "- 关键步骤： 一个hash , key 是 目标  - 当前数字 的差   val 是 当前数字的位置"
   ]
  },
  {
   "cell_type": "code",
   "execution_count": null,
   "metadata": {},
   "outputs": [],
   "source": [
    "class Solution:\n",
    "    def twoSum(self, A, t):\n",
    "        \"\"\"\n",
    "        :type A: List[int]\n",
    "        :type t: int\n",
    "        :rtype: List[int]\n",
    "        \"\"\"\n",
    "        d = {}\n",
    "        ret = []\n",
    "        for i, num in enumerate(A):\n",
    "            tmp = t - num\n",
    "            if num in d:\n",
    "                ret.append(i + 1)\n",
    "                ret.append(d[tmp] + 1)\n",
    "            else:\n",
    "                d[tmp] = i\n",
    "        return ret "
   ]
  },
  {
   "cell_type": "code",
   "execution_count": null,
   "metadata": {},
   "outputs": [],
   "source": []
  },
  {
   "cell_type": "markdown",
   "metadata": {},
   "source": [
    "## 思路"
   ]
  },
  {
   "cell_type": "markdown",
   "metadata": {},
   "source": [
    "给定一个包含 n 个整数的数组 nums，判断 nums 中是否存在三个元素 a，b，c ，使得 a + b + c = 0 ？找出所有满足条件且不重复的三元组。\n",
    "\n",
    "注意：答案中不可以包含重复的三元组。\n",
    "\n",
    "例如, 给定数组 nums = [-1, 0, 1, 2, -1, -4]，\n",
    "\n",
    "满足要求的三元组集合为：\n",
    "[\n",
    "  [-1, 0, 1],\n",
    "  [-1, -1, 2]\n",
    "]"
   ]
  },
  {
   "cell_type": "code",
   "execution_count": 1,
   "metadata": {},
   "outputs": [],
   "source": [
    "class Solution(object):\n",
    "    def threeSum(self, nums):\n",
    "        \"\"\"\n",
    "        :type nums: List[int]\n",
    "        :rtype: List[List[int]]\n",
    "        \"\"\"\n",
    "        "
   ]
  },
  {
   "cell_type": "code",
   "execution_count": null,
   "metadata": {},
   "outputs": [],
   "source": []
  }
 ],
 "metadata": {
  "kernelspec": {
   "display_name": "Python 2",
   "language": "python",
   "name": "python2"
  },
  "language_info": {
   "codemirror_mode": {
    "name": "ipython",
    "version": 2
   },
   "file_extension": ".py",
   "mimetype": "text/x-python",
   "name": "python",
   "nbconvert_exporter": "python",
   "pygments_lexer": "ipython2",
   "version": "2.7.15"
  }
 },
 "nbformat": 4,
 "nbformat_minor": 2
}
