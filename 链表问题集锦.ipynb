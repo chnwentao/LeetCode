{
 "cells": [
  {
   "cell_type": "markdown",
   "metadata": {},
   "source": [
    "### 参考\n",
    "- [面试精选：链表问题集锦](http://wuchong.me/blog/2014/03/25/interview-link-questions/)"
   ]
  },
  {
   "cell_type": "markdown",
   "metadata": {},
   "source": [
    "### 在O(1)时间复杂度删除链表节点\n",
    "- 题目描述：给定链表的头指针和一个节点指针，在O(1)时间删除该节点。[Google面试题]\n",
    "- 方法： 「狸猫换太子」，即用下一个节点数据覆盖要删除的节点，然后删除下一个节点。\n",
    "- 边界：对最后一个节点无效（node.next == null）"
   ]
  },
  {
   "cell_type": "code",
   "execution_count": 24,
   "metadata": {
    "collapsed": true
   },
   "outputs": [],
   "source": [
    "class ListNode(object):\n",
    "    \"\"\"\n",
    "    Definition of ListNode\n",
    "    \"\"\"\n",
    "    def __init__(self, val, next=None):\n",
    "        self.val = val\n",
    "        self.next = next"
   ]
  },
  {
   "cell_type": "code",
   "execution_count": 4,
   "metadata": {
    "collapsed": true
   },
   "outputs": [],
   "source": [
    "class Solution:\n",
    "    # @param node: the node in the list should be deleted\n",
    "    # @return: nothing\n",
    "    def deleteNode(self, node):\n",
    "        if node == None or node.next == None:\n",
    "            return\n",
    "        node.val = node.next.val\n",
    "        node.next = node.next.val"
   ]
  },
  {
   "cell_type": "markdown",
   "metadata": {},
   "source": [
    "###  单链表的转置\n",
    "- 边界：head == None or head.next == None\n",
    "- 方法：循环的方法反转链表   使用pre指向前一个结点，cur指向当前结点，每次把cur->next指向pre即可。"
   ]
  },
  {
   "cell_type": "code",
   "execution_count": 85,
   "metadata": {
    "collapsed": false
   },
   "outputs": [],
   "source": [
    "class Solution:\n",
    "    def recurse(self, head):\n",
    "        if head == None or head.next == None:\n",
    "            return\n",
    "        pre = None\n",
    "        cur = head\n",
    "        next = None\n",
    "        while cur:\n",
    "            next = cur.next\n",
    "            cur.next = pre\n",
    "            pre = cur\n",
    "            cur = next\n",
    "        return pre"
   ]
  },
  {
   "cell_type": "code",
   "execution_count": 89,
   "metadata": {
    "collapsed": false
   },
   "outputs": [
    {
     "name": "stdout",
     "output_type": "stream",
     "text": [
      "4 --> 3 --> 2 --> 1 -->\n"
     ]
    }
   ],
   "source": [
    "## test \n",
    "head = ListNode(1)              #测试代码  \n",
    "p1 = ListNode(2)                 # 建立链表1->2->3->4->None  \n",
    "p2 = ListNode(3) \n",
    "p3 = ListNode(4) \n",
    "head.next = p1 \n",
    "p1.next = p2  \n",
    "p2.next = p3\n",
    "test = Solution()  #输出链表4->3->2->1->None  \n",
    "p = test.recurse(head)\n",
    "while p:  \n",
    "    print p.val,'-->',\n",
    "    p = p.next"
   ]
  },
  {
   "cell_type": "markdown",
   "metadata": {},
   "source": [
    "### 求链表倒数第k个节点\n",
    "- 题目描述：输入一个单向链表，输出该链表中倒数第k个节点，链表的倒数第0个节点为链表的尾指针。\n",
    "- 分析：设置两个指针 p1、p2，首先 p1 和 p2 都指向 head，然后 p2 向前走 k 步，这样 p1 和 p2 之间就间隔 k 个节点，最后 p1 和 p2 同时向前移动，直至 p2 走到链表末尾。\n",
    "- 边界： K < 1"
   ]
  },
  {
   "cell_type": "code",
   "execution_count": 91,
   "metadata": {
    "collapsed": false
   },
   "outputs": [],
   "source": [
    "class Solution:\n",
    "    def the_K_node(self, head, k):\n",
    "        if head == None or k < 1:\n",
    "            return\n",
    "        ps = head\n",
    "        pf = head\n",
    "        for i in xrange(k):\n",
    "            pf = pf.next\n",
    "        while pf:\n",
    "            ps = ps.next\n",
    "            pf= pf.next\n",
    "        \n",
    "        return ps"
   ]
  },
  {
   "cell_type": "code",
   "execution_count": 92,
   "metadata": {
    "collapsed": false
   },
   "outputs": [
    {
     "name": "stdout",
     "output_type": "stream",
     "text": [
      "3 --> 4 --> 5 -->\n"
     ]
    }
   ],
   "source": [
    "## test \n",
    "head = ListNode(1)              #测试代码  \n",
    "p1 = ListNode(2)                 # 建立链表1->2->3->4->5 ->None  \n",
    "p2 = ListNode(3) \n",
    "p3 = ListNode(4) \n",
    "p4 = ListNode(5) \n",
    "head.next = p1 \n",
    "p1.next = p2  \n",
    "p2.next = p3\n",
    "p3.next = p4\n",
    "\n",
    "test = Solution()  #输出链表 3,4,5\n",
    "p = test.the_K_node(head, 3)\n",
    "while p:  \n",
    "    print p.val,'-->',\n",
    "    p = p.next"
   ]
  },
  {
   "cell_type": "markdown",
   "metadata": {},
   "source": [
    "### 4. 求链表的中间节点\n",
    "- 题目描述：求链表的中间节点，如果链表的长度为偶数，返回中间两个节点的任意一个，若为奇数，则返回中间节点。\n",
    "- 方法1： O(N + N / 2 ) 。可以先求链表的长度，然后计算出中间节点所在链表顺序的位置。\n",
    "- 方法2：快慢指针法， pfast 一次一步 ，pslow 一次两步， 当pfast到头是， pslow 为所求节点.\n",
    "- 边界： head 为空 head == None\n",
    "- 细节： 快指针 的循环结束条件： pfast and  pfast.next  都不是 None "
   ]
  },
  {
   "cell_type": "code",
   "execution_count": 93,
   "metadata": {
    "collapsed": true
   },
   "outputs": [],
   "source": [
    "class Solution:\n",
    "    def the_middle_node(self, head):\n",
    "        if head == None:\n",
    "            return\n",
    "        pfast, pslow = head, head\n",
    "        while pfast and  pfast.next :\n",
    "            pslow = pslow.next\n",
    "            pfast = pfast.next.next\n",
    "        return pslow"
   ]
  },
  {
   "cell_type": "code",
   "execution_count": 94,
   "metadata": {
    "collapsed": false
   },
   "outputs": [
    {
     "name": "stdout",
     "output_type": "stream",
     "text": [
      "3\n"
     ]
    }
   ],
   "source": [
    "## test \n",
    "l = ListNode\n",
    "head,p1, p2, p3, p4, =l(1), l(2),l(3), l(4), l(5)    # 建立链表1->2->3->4->5 ->None  \n",
    "head.next = p1 \n",
    "p1.next = p2  \n",
    "p2.next = p3\n",
    "p3.next = p4\n",
    "\n",
    "test = Solution()  #输出链表 3,4,5\n",
    "p = test.the_middle_node(head)\n",
    "print p.val"
   ]
  },
  {
   "cell_type": "markdown",
   "metadata": {},
   "source": [
    "## 判断单链表是否存在环\n",
    "- 题目描述：输入一个单向链表，判断链表是否有环？\n",
    "- 分析：快慢指针法，一个每次移动一步，另一个移动两步，两个指针移动速度不一样，如果存在环，那么两个指针一定会在环里相遇。\n",
    "- 细节 ： 快指针 的循环结束条件： pfast and  pfast.next  都不是 None "
   ]
  },
  {
   "cell_type": "code",
   "execution_count": 96,
   "metadata": {
    "collapsed": true
   },
   "outputs": [],
   "source": [
    "class Solution:\n",
    "    def has_loop(self, head):\n",
    "        if head is None:\n",
    "            return None\n",
    "        pfast = head\n",
    "        pslow = head\n",
    "        while pfast and pfast.next:\n",
    "            pfast = pfast.next.next\n",
    "            pslow = pslow.next\n",
    "            if pfast is pslow:\n",
    "                return True\n",
    "        return False"
   ]
  },
  {
   "cell_type": "code",
   "execution_count": 97,
   "metadata": {
    "collapsed": false
   },
   "outputs": [
    {
     "name": "stdout",
     "output_type": "stream",
     "text": [
      "True\n"
     ]
    }
   ],
   "source": [
    "## test \n",
    "l = ListNode\n",
    "head,p1, p2, p3, p4,p5, p6, p7, p8  = l(0), l(1), l(2),l(3), l(4), l(5), l(6), l(7), l(8)   # 建立链表 \n",
    "head.next = p1 \n",
    "p1.next = p2  \n",
    "p2.next = p3\n",
    "p3.next = p4\n",
    "p4.next = p5\n",
    "p5.next = p6\n",
    "p6.next = p7\n",
    "p7.next = p8\n",
    "p8.next = p4\n",
    "\n",
    "test = Solution()  #输出True\n",
    "print  test.has_loop(head)"
   ]
  },
  {
   "cell_type": "markdown",
   "metadata": {},
   "source": [
    "## 上题的进一步：找到环的入口点\n",
    "- 题目描述：输入一个单向链表，判断链表是否有环。如果链表存在环，如何找到环的入口点？\n",
    "- 方法：\n",
    "    1.  判断链表是否有环？ 参见上题 按照 p2 每次两步，p1 每次一步的方式走，发现 p2 和 p1 重合，确定了单向链表有环路了。\n",
    "    2. 接下来，让p2回到链表的头部，重新走，每次步长不是走2了，而是走1，那么当 p1 和 p2 再次相遇的时候，就是环路的入口了"
   ]
  },
  {
   "cell_type": "code",
   "execution_count": 98,
   "metadata": {
    "collapsed": true
   },
   "outputs": [],
   "source": [
    "class Solution:\n",
    "    def find_loop(self, head):\n",
    "        if not head:\n",
    "            return None\n",
    "        pf = head\n",
    "        ps = head\n",
    "        while pf and pf.next:\n",
    "            pf = pf.next.next\n",
    "            ps = ps.next\n",
    "            if pf is ps:\n",
    "                break\n",
    "        \n",
    "        if not pf: # 无环的情况\n",
    "            return None\n",
    "        \n",
    "        pf = head\n",
    "        while pf is not ps:\n",
    "            pf = pf.next\n",
    "            ps = ps.next\n",
    "        \n",
    "        return pf"
   ]
  },
  {
   "cell_type": "code",
   "execution_count": 99,
   "metadata": {
    "collapsed": false
   },
   "outputs": [
    {
     "name": "stdout",
     "output_type": "stream",
     "text": [
      "4\n"
     ]
    }
   ],
   "source": [
    "## test \n",
    "l = ListNode\n",
    "head,p1, p2, p3, p4,p5, p6, p7, p8  = l(0), l(1), l(2),l(3), l(4), l(5), l(6), l(7), l(8)   # 建立有环链表  入口为 p4 \n",
    "head.next = p1 \n",
    "p1.next = p2  \n",
    "p2.next = p3\n",
    "p3.next = p4\n",
    "p4.next = p5\n",
    "p5.next = p6\n",
    "p6.next = p7\n",
    "p7.next = p8\n",
    "p8.next = p4\n",
    "\n",
    "test = Solution()  #输出True\n",
    "p =  test.find_loop(head)\n",
    "if p:\n",
    "    print p.val"
   ]
  },
  {
   "cell_type": "code",
   "execution_count": null,
   "metadata": {
    "collapsed": true
   },
   "outputs": [],
   "source": []
  }
 ],
 "metadata": {
  "kernelspec": {
   "display_name": "Python 2",
   "language": "python",
   "name": "python2"
  },
  "language_info": {
   "codemirror_mode": {
    "name": "ipython",
    "version": 2
   },
   "file_extension": ".py",
   "mimetype": "text/x-python",
   "name": "python",
   "nbconvert_exporter": "python",
   "pygments_lexer": "ipython2",
   "version": "2.7.12"
  }
 },
 "nbformat": 4,
 "nbformat_minor": 0
}
