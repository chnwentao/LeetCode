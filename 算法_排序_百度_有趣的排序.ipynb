{
 "cells": [
  {
   "cell_type": "markdown",
   "metadata": {},
   "source": [
    "### 有趣的排序\n",
    "- 时间限制：1秒\n",
    "- 空间限制：32768K\n",
    "- 度度熊有一个N个数的数组，他想将数组从大到小排好序，但是萌萌的度度熊只会下面这个操作：\n",
    "- 任取数组中的一个数然后将它放置在数组的最后一个位置。\n",
    "- 问最少操作多少次可以使得数组从小到大有序？ \n",
    "\n",
    "```\n",
    "输出描述:\n",
    "输出一个整数表示最少的操作次数。\n",
    " \n",
    "输入例子:\n",
    "4 19 7 8 25\n",
    " \n",
    "输出例子:\n",
    "2\n",
    "```\n",
    "### 思路\n",
    "用一个备份数组b，把a中元素放到b中，对b数组进行排序。从第一个排好序的元素开始，即最小的元素开始与没排好序数组元素比较，检查有多少个已经是从小到大排好序的，位置可以不连续，但是大的元素必须在小的元素后面，统计出一共有 count个，这些元素是不需要移动的元素，一共有 n 个元素，所以需要移动 n - count 次\n",
    "\n",
    "```\n",
    "输入为 19  7  8  25  ，用 arr1表示\n",
    "排序后 7  8  19  25  ，用 arr2 表示\n",
    "都从数组第一个元素开始 ： 7 和  19 比较 ，7 < 19 ,\n",
    "继续看arr1 的下一个元素 跟 arr2 的第一个元素 7 比较，此时 7 = 7  所以count++ ，\n",
    "看两个数组后面的元素 \n",
    "```"
   ]
  },
  {
   "cell_type": "code",
   "execution_count": 3,
   "metadata": {
    "collapsed": false
   },
   "outputs": [
    {
     "name": "stdout",
     "output_type": "stream",
     "text": [
      "2\n",
      "2\n"
     ]
    }
   ],
   "source": [
    "def get_count(arr):\n",
    "    st_arr = sorted(arr)\n",
    "    ind , cnt = 0, 0\n",
    "    for k in arr:\n",
    "        if st_arr[ind] < k:\n",
    "            continue\n",
    "        else:\n",
    "            ind += 1\n",
    "            cnt += 1\n",
    "    return cnt\n",
    "#test \n",
    "print get_count([19,  7,  8,  25]) # 2\n",
    "print get_count({4, 19, 7, 8, 25}) # 2"
   ]
  },
  {
   "cell_type": "code",
   "execution_count": null,
   "metadata": {
    "collapsed": true
   },
   "outputs": [],
   "source": []
  }
 ],
 "metadata": {
  "kernelspec": {
   "display_name": "Python 2",
   "language": "python",
   "name": "python2"
  },
  "language_info": {
   "codemirror_mode": {
    "name": "ipython",
    "version": 2
   },
   "file_extension": ".py",
   "mimetype": "text/x-python",
   "name": "python",
   "nbconvert_exporter": "python",
   "pygments_lexer": "ipython2",
   "version": "2.7.12"
  }
 },
 "nbformat": 4,
 "nbformat_minor": 0
}
