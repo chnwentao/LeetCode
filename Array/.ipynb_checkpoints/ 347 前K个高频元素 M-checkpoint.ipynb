{
 "cells": [
  {
   "cell_type": "markdown",
   "metadata": {},
   "source": [
    "给定一个非空的整数数组，返回其中出现频率前 k 高的元素。\n",
    "\n",
    "例如，\n",
    "\n",
    "给定数组 [1,1,1,2,2,3] , 和 k = 2，返回 [1,2]。\n",
    " \n",
    "注意：\n",
    "\n",
    "你可以假设给定的 k 总是合理的，1 ≤ k ≤ 数组中不相同的元素的个数。\n",
    "\n",
    "你的算法的时间复杂度必须优于 O(n log n) , n 是数组的大小。\n",
    "\n",
    "\n"
   ]
  },
  {
   "cell_type": "code",
   "execution_count": null,
   "metadata": {},
   "outputs": [],
   "source": [
    "思路:\n",
    "1. 先遍历出 重复数据的 counter\n",
    "2. 然后遍历 counter 放入最大堆"
   ]
  },
  {
   "cell_type": "code",
   "execution_count": 2,
   "metadata": {},
   "outputs": [],
   "source": [
    "class Solution(object):\n",
    "    def topKFrequent(self, nums, k):\n",
    "        \"\"\"\n",
    "        :type nums: List[int]\n",
    "        :type k: int\n",
    "        :rtype: List[int]\n",
    "        \"\"\"\n",
    "        from cllections import Counter\n",
    "        # 源码中 counter 是一个 dict 的子类\n",
    "        cnts =  Counter(nums)\n",
    "        \n",
    "        #  源码中 most common 在 指定 k 的时候 使用的就是最大堆\n",
    "        return [i[0] for i in cnts.most_common(k)]\n",
    "        \n",
    "        \n",
    "    "
   ]
  },
  {
   "cell_type": "code",
   "execution_count": 47,
   "metadata": {},
   "outputs": [],
   "source": [
    "\n",
    "# 这版本调用的是 python 中间的堆\n",
    "class Solution(object):\n",
    "    def topKFrequent(self, nums, k):\n",
    "        \"\"\"\n",
    "        :type nums: List[int]\n",
    "        :type k: int\n",
    "        :rtype: List[int]\n",
    "        \"\"\"\n",
    "        from collections import Counter\n",
    "        # 源码中 counter 是一个 dict 的子类\n",
    "        cnts =  Counter(nums)\n",
    "        \n",
    "        import heapq\n",
    "        \n",
    "        q = [] # 这个存的是 [(cnt, num )] 注意不要反了哈\n",
    "        for num, cnt in cnts.items():\n",
    "            heapq.heappush(q, (cnt,num))\n",
    "        \n",
    "        return [i[1] for i in heapq.nlargest(k, q)]\n",
    "        "
   ]
  },
  {
   "cell_type": "code",
   "execution_count": 48,
   "metadata": {},
   "outputs": [],
   "source": [
    "t = Solution()"
   ]
  },
  {
   "cell_type": "code",
   "execution_count": 46,
   "metadata": {},
   "outputs": [
    {
     "data": {
      "text/plain": [
       "[1, 2]"
      ]
     },
     "execution_count": 46,
     "metadata": {},
     "output_type": "execute_result"
    }
   ],
   "source": [
    "t.topKFrequent([1,1,1,2,2,3]  , 2)"
   ]
  },
  {
   "cell_type": "code",
   "execution_count": null,
   "metadata": {},
   "outputs": [],
   "source": []
  }
 ],
 "metadata": {
  "kernelspec": {
   "display_name": "Python 2",
   "language": "python",
   "name": "python2"
  },
  "language_info": {
   "codemirror_mode": {
    "name": "ipython",
    "version": 2
   },
   "file_extension": ".py",
   "mimetype": "text/x-python",
   "name": "python",
   "nbconvert_exporter": "python",
   "pygments_lexer": "ipython2",
   "version": "2.7.15"
  }
 },
 "nbformat": 4,
 "nbformat_minor": 2
}
