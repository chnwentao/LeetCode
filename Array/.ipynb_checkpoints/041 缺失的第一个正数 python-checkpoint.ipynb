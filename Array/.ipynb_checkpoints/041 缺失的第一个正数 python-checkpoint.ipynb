{
 "cells": [
  {
   "cell_type": "markdown",
   "metadata": {},
   "source": [
    "题目：\n",
    "\n",
    "给定一个未排序的整数数组，找出其中没有出现的最小的正整数。\n",
    "\n",
    "示例 1:\n",
    "\n",
    "输入: [1,2,0]\n",
    "    \n",
    "输出: 3\n",
    "    \n",
    "示例 2:\n",
    "\n",
    "输入: [3,4,-1,1]\n",
    "    \n",
    "输出: 2\n",
    "    \n",
    "示例 3:\n",
    "\n",
    "输入: [7,8,9,11,12]\n",
    "    \n",
    "输出: 1\n",
    "    \n",
    "说明:\n",
    "\n",
    "你的算法的时间复杂度应为O(n)，并且只能使用常数级别的空间。\n",
    "\n",
    "\n",
    "\n",
    "\n"
   ]
  },
  {
   "cell_type": "markdown",
   "metadata": {},
   "source": [
    "思路\n",
    "\n",
    "这道题的要求线性的复杂度和常数的空间，所以基本定下了一个总基调：1.一遍循环。2.原地修改\n",
    "\n",
    "假如给定的数组的长度为n，那么缺失的第一个正数肯定在[1,n+1]内，根据这个特点，\n",
    "\n",
    "可以将范围为[1,n]的数字移动到与其数值相等的下标的位置，对所有的数这样操作后从头遍历一遍数组，找出的第一个 i+1 != a[i]的i,那么i+1就是第一个缺失的正整数。\n",
    "\n",
    "易错： 遍历的时候，要注意num[i] 不要越界"
   ]
  },
  {
   "cell_type": "code",
   "execution_count": 17,
   "metadata": {},
   "outputs": [],
   "source": [
    "\n",
    "class Solution(object):\n",
    "    def firstMissingPositive(self, nums):\n",
    "        \"\"\"\n",
    "        :type nums: List[int]\n",
    "        :rtype: int\n",
    "        \"\"\"\n",
    "        n = len(nums)\n",
    "        for i in range(n):\n",
    "            if  0 < nums[i] <= n and nums[nums[i] -1 ] !=  nums[i]:\n",
    "                print i, nums[i] , nums[nums[i] - 1]\n",
    "                nums[nums[i] - 1],  nums[i], = nums[i], nums[nums[i] -1 ]\n",
    "        print nums\n",
    "        for i in range(n):\n",
    "            if i + 1  != nums[i]:\n",
    "                return i + 1\n",
    "        return n + 1"
   ]
  },
  {
   "cell_type": "code",
   "execution_count": 16,
   "metadata": {},
   "outputs": [
    {
     "name": "stdout",
     "output_type": "stream",
     "text": [
      "0 3 -1\n",
      "1 4 1\n",
      "[-1, 1, 3, 4]\n"
     ]
    },
    {
     "data": {
      "text/plain": [
       "2"
      ]
     },
     "execution_count": 16,
     "metadata": {},
     "output_type": "execute_result"
    }
   ],
   "source": [
    "t = Solution()\n",
    "\n",
    "in_ = [-10,-3,-100,-1000,-239,1]\n",
    "in_ = [3,4,-1,1]\n",
    "t.firstMissingPositive(in_)\n",
    "\n"
   ]
  },
  {
   "cell_type": "code",
   "execution_count": null,
   "metadata": {},
   "outputs": [],
   "source": []
  }
 ],
 "metadata": {
  "kernelspec": {
   "display_name": "Python 2",
   "language": "python",
   "name": "python2"
  },
  "language_info": {
   "codemirror_mode": {
    "name": "ipython",
    "version": 2
   },
   "file_extension": ".py",
   "mimetype": "text/x-python",
   "name": "python",
   "nbconvert_exporter": "python",
   "pygments_lexer": "ipython2",
   "version": "2.7.15"
  }
 },
 "nbformat": 4,
 "nbformat_minor": 2
}
