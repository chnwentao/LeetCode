{
 "cells": [
  {
   "cell_type": "markdown",
   "metadata": {},
   "source": [
    "# 016. 3Sum Closest   \n",
    "## Question\n",
    "\n",
    "Total Accepted: 101691\n",
    "\n",
    "Total Submissions: 335146\n",
    "\n",
    "Difficulty: Medium\n",
    "\n",
    "\n",
    "Given an array S of n integers, find three integers in S such that the sum is closest to a given number, target.\n",
    "\n",
    "Return the sum of the three integers. You may assume that each input would have exactly one solution.\n",
    "```\n",
    "For example, given array S = {-1 2 1 -4}, and target = 1.\n",
    "\n",
    "The sum that is closest to the target is 2. (-1 + 2 + 1 = 2).\n",
    "```"
   ]
  },
  {
   "cell_type": "markdown",
   "metadata": {},
   "source": [
    "## analysis\n",
    "此题与15题基本类似，甚至更简单一些，只需要比较和的结果即可，碰到和等于target的时候就直接返回吧！！！"
   ]
  },
  {
   "cell_type": "markdown",
   "metadata": {},
   "source": [
    "## 坑"
   ]
  },
  {
   "cell_type": "markdown",
   "metadata": {},
   "source": [
    "## code Runtime: 112 ms"
   ]
  },
  {
   "cell_type": "code",
   "execution_count": 27,
   "metadata": {
    "collapsed": false
   },
   "outputs": [],
   "source": [
    "class Solution(object):\n",
    "    def threeSumClosest(self, nums, target):\n",
    "        \"\"\"\n",
    "        :type nums: List[int]\n",
    "        :type target: int\n",
    "        :rtype: int\n",
    "        \"\"\"\n",
    "\n",
    "        \n",
    "        if len(nums) <= 3:\n",
    "            return sum(nums)\n",
    "        import sys\n",
    "        Min = sys.maxint\n",
    "        n = len(nums)\n",
    "        nums.sort()\n",
    "        for i in range(n-2):\n",
    "            b ,e = i+1,n-1\n",
    "            while b < e:\n",
    "                s = nums[i] + nums[b] + nums[e]\n",
    "                if abs(target - s) < abs(Min):\n",
    "                \n",
    "                    Min = s - target\n",
    "                if s == target:\n",
    "                    return s\n",
    "                if s > target:\n",
    "                    e -= 1\n",
    "                else:\n",
    "                    b += 1\n",
    "            \n",
    "        return Min + target\n",
    "                \n",
    "                "
   ]
  },
  {
   "cell_type": "code",
   "execution_count": 28,
   "metadata": {
    "collapsed": false
   },
   "outputs": [
    {
     "data": {
      "text/plain": [
       "3"
      ]
     },
     "execution_count": 28,
     "metadata": {},
     "output_type": "execute_result"
    }
   ],
   "source": [
    "test = Solution()\n",
    "test.threeSumClosest([1,1,-1,-1,3], 3)"
   ]
  },
  {
   "cell_type": "code",
   "execution_count": 30,
   "metadata": {
    "collapsed": false
   },
   "outputs": [
    {
     "data": {
      "text/plain": [
       "9223372036854775807"
      ]
     },
     "execution_count": 30,
     "metadata": {},
     "output_type": "execute_result"
    }
   ],
   "source": [
    "## 求绝对值\n",
    "abs( 1-2)\n",
    "## 求负无穷(float)\n",
    "x = float('inf')\n",
    "## 求最大的int\n",
    "import sys\n",
    "sys.maxint"
   ]
  },
  {
   "cell_type": "code",
   "execution_count": null,
   "metadata": {
    "collapsed": true
   },
   "outputs": [],
   "source": []
  }
 ],
 "metadata": {
  "kernelspec": {
   "display_name": "Python 2",
   "language": "python",
   "name": "python2"
  },
  "language_info": {
   "codemirror_mode": {
    "name": "ipython",
    "version": 2
   },
   "file_extension": ".py",
   "mimetype": "text/x-python",
   "name": "python",
   "nbconvert_exporter": "python",
   "pygments_lexer": "ipython2",
   "version": "2.7.11"
  }
 },
 "nbformat": 4,
 "nbformat_minor": 0
}
