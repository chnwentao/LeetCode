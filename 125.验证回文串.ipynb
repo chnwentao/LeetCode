{
 "cells": [
  {
   "cell_type": "code",
   "execution_count": 1,
   "metadata": {},
   "outputs": [],
   "source": [
    "#\n",
    "# @lc app=leetcode.cn id=125 lang=python\n",
    "#\n",
    "# [125] 验证回文串\n",
    "#\n",
    "# https://leetcode-cn.com/problems/valid-palindrome/description/\n",
    "#\n",
    "# algorithms\n",
    "# Easy (38.02%)\n",
    "# Total Accepted:    23.6K\n",
    "# Total Submissions: 62K\n",
    "# Testcase Example:  '\"A man, a plan, a canal: Panama\"'\n",
    "#\n",
    "# 给定一个字符串，验证它是否是回文串，只考虑字母和数字字符，可以忽略字母的大小写。\n",
    "# \n",
    "# 说明：本题中，我们将空字符串定义为有效的回文串。\n",
    "# \n",
    "# 示例 1:\n",
    "# \n",
    "# 输入: \"A man, a plan, a canal: Panama\"\n",
    "# 输出: true\n",
    "# \n",
    "# \n",
    "# 示例 2:\n",
    "# \n",
    "# 输入: \"race a car\"\n",
    "# 输出: false\n",
    "# \n",
    "# \n",
    "#"
   ]
  },
  {
   "cell_type": "markdown",
   "metadata": {},
   "source": [
    "思路\n",
    "\n",
    "1. 对字符串进行处理：大小写归一，剔除非字符和数字 (使用 str.isalnum())\n",
    "\n",
    "2. 然后看到倒叙 ，正序是否相等。"
   ]
  },
  {
   "cell_type": "code",
   "execution_count": 26,
   "metadata": {},
   "outputs": [],
   "source": [
    "class Solution(object):\n",
    "    def isPalindrome(self, s):\n",
    "        \"\"\"\n",
    "        :type s: str\n",
    "        :rtype: bool\n",
    "        \"\"\"\n",
    "        new_str = [i.lower() for i in s if i.isalnum() ]\n",
    "        return new_str == new_str[::-1]"
   ]
  },
  {
   "cell_type": "code",
   "execution_count": 23,
   "metadata": {},
   "outputs": [
    {
     "data": {
      "text/plain": [
       "False"
      ]
     },
     "execution_count": 23,
     "metadata": {},
     "output_type": "execute_result"
    }
   ],
   "source": [
    "s = '\"A man, a plan, a canal: Panama\"'\n",
    "s = '\"0P\"'\n",
    "t =  Solution()\n",
    "t.isPalindrome(s)"
   ]
  },
  {
   "cell_type": "code",
   "execution_count": 24,
   "metadata": {},
   "outputs": [],
   "source": [
    "x= \"\""
   ]
  },
  {
   "cell_type": "code",
   "execution_count": null,
   "metadata": {},
   "outputs": [],
   "source": [
    "x.isalnum"
   ]
  }
 ],
 "metadata": {
  "kernelspec": {
   "display_name": "Python 2",
   "language": "python",
   "name": "python2"
  },
  "language_info": {
   "codemirror_mode": {
    "name": "ipython",
    "version": 2
   },
   "file_extension": ".py",
   "mimetype": "text/x-python",
   "name": "python",
   "nbconvert_exporter": "python",
   "pygments_lexer": "ipython2",
   "version": "2.7.15"
  }
 },
 "nbformat": 4,
 "nbformat_minor": 2
}
