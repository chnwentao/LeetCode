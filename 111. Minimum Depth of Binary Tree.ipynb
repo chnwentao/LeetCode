{
 "cells": [
  {
   "cell_type": "markdown",
   "metadata": {},
   "source": [
    "# 111. Minimum Depth of Binary Tree"
   ]
  },
  {
   "cell_type": "markdown",
   "metadata": {},
   "source": [
    "### Question\n",
    "\n",
    "Total Accepted: 135036\n",
    "\n",
    "Total Submissions: 423072\n",
    "\n",
    "Difficulty: Easy\n",
    "\n",
    "Given a binary tree, find its minimum depth.\n",
    "\n",
    "The minimum depth is the number of nodes along the shortest path from the root node down to the nearest leaf node."
   ]
  },
  {
   "cell_type": "markdown",
   "metadata": {},
   "source": [
    "## 思路\n",
    "1.非递归解法同样采用层序遍历(相当于图的BFS）\n"
   ]
  },
  {
   "cell_type": "markdown",
   "metadata": {},
   "source": [
    "## 坑\n",
    "- 如何计数----不能以循环为单位）\n",
    "- return条件 - ---左子叶为null, 右不为null 时的判断\n",
    "- 边界判断—— 不是return 而 contiune\n"
   ]
  },
  {
   "cell_type": "markdown",
   "metadata": {},
   "source": [
    "## code(Runtime: 89 ms)"
   ]
  },
  {
   "cell_type": "code",
   "execution_count": null,
   "metadata": {
    "collapsed": true
   },
   "outputs": [],
   "source": [
    "# Definition for a binary tree node.\n",
    "# class TreeNode(object):\n",
    "#     def __init__(self, x):\n",
    "#         self.val = x\n",
    "#         self.left = None\n",
    "#         self.right = None\n",
    "\n",
    "class Solution(object):\n",
    "    def minDepth(self, root):\n",
    "        \"\"\"\n",
    "        :type root: TreeNode\n",
    "        :rtype: int\n",
    "        \"\"\"\n",
    "        if root == None:\n",
    "            return 0\n",
    "        \n",
    "        count = 1\n",
    "        st = [(root,count)]\n",
    "        \n",
    "        while st:\n",
    "            node, count = st.pop(0)\n",
    "            if node == None:\n",
    "                continue\n",
    "            if node.left == None and node.right == None:\n",
    "                return count\n",
    "            else:\n",
    "                count += 1\n",
    "                st.append((node.left, count))\n",
    "                st.append((node.right, count))\n",
    "        return count     "
   ]
  }
 ],
 "metadata": {
  "kernelspec": {
   "display_name": "Python 2",
   "language": "python",
   "name": "python2"
  },
  "language_info": {
   "codemirror_mode": {
    "name": "ipython",
    "version": 2
   },
   "file_extension": ".py",
   "mimetype": "text/x-python",
   "name": "python",
   "nbconvert_exporter": "python",
   "pygments_lexer": "ipython2",
   "version": "2.7.11"
  }
 },
 "nbformat": 4,
 "nbformat_minor": 0
}
