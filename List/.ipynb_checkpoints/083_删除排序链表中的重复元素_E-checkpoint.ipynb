{
 "cells": [
  {
   "cell_type": "code",
   "execution_count": null,
   "metadata": {},
   "outputs": [],
   "source": [
    "#\n",
    "# @lc app=leetcode.cn id=83 lang=python\n",
    "#\n",
    "# [83] 删除排序链表中的重复元素\n",
    "#\n",
    "# https://leetcode-cn.com/problems/remove-duplicates-from-sorted-list/description/\n",
    "#\n",
    "# algorithms\n",
    "# Easy (44.00%)\n",
    "# Total Accepted:    17.8K\n",
    "# Total Submissions: 40.4K\n",
    "# Testcase Example:  '[1,1,2]'\n",
    "#\n",
    "# 给定一个排序链表，删除所有重复的元素，使得每个元素只出现一次。\n",
    "# \n",
    "# 示例 1:\n",
    "# \n",
    "# 输入: 1->1->2\n",
    "# 输出: 1->2\n",
    "# \n",
    "# \n",
    "# 示例 2:\n",
    "# \n",
    "# 输入: 1->1->2->3->3\n",
    "# 输出: 1->2->3\n",
    "# \n",
    "#\n",
    "# Definition for singly-linked list.\n",
    "# class ListNode(object):\n",
    "#     def __init__(self, x):\n",
    "#         self.val = x\n",
    "#         self.next = None\n",
    "\n",
    "class Solution(object):\n",
    "    def deleteDuplicates(self, head):\n",
    "        \"\"\"\n",
    "        :type head: ListNode\n",
    "        :rtype: ListNode\n",
    "        \"\"\"\n",
    "        \n"
   ]
  },
  {
   "cell_type": "markdown",
   "metadata": {},
   "source": [
    "[Leetcode 83:删除排序链表中的重复元素（最详细解决方案！！！） - coordinate的博客 - CSDN博客](https://blog.csdn.net/qq_17550379/article/details/80654239 )"
   ]
  },
  {
   "cell_type": "code",
   "execution_count": null,
   "metadata": {},
   "outputs": [],
   "source": [
    "class Solution(object):\n",
    "    def deleteDuplicates(self, head):\n",
    "        \"\"\"\n",
    "        :type head: ListNode\n",
    "        :rtype: ListNode\n",
    "        \"\"\"\n",
    "\n",
    "        if not head or not head.next:\n",
    "            return head\n",
    "        pre = None\n",
    "        cur = head\n",
    "        while cur:\n",
    "            pre = cur\n",
    "            cur = cur.next\n",
    "            while cur and pre.val == cur.val  :\n",
    "                pre.next = cur.next # 节点指向下一个， （删除）\n",
    "                cur = cur.next # （指针后移）\n",
    "\n",
    "\n",
    "        return head\n",
    "                \n",
    "                \n",
    "                "
   ]
  }
 ],
 "metadata": {
  "kernelspec": {
   "display_name": "Python 2",
   "language": "python",
   "name": "python2"
  },
  "language_info": {
   "codemirror_mode": {
    "name": "ipython",
    "version": 2
   },
   "file_extension": ".py",
   "mimetype": "text/x-python",
   "name": "python",
   "nbconvert_exporter": "python",
   "pygments_lexer": "ipython2",
   "version": "2.7.15"
  }
 },
 "nbformat": 4,
 "nbformat_minor": 2
}
