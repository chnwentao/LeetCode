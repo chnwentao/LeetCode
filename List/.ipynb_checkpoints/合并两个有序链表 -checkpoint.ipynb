{
 "cells": [
  {
   "cell_type": "markdown",
   "metadata": {},
   "source": [
    "LeetCode 第二十一题 合并两个有序链表\n",
    "\n",
    "合并两个已排序的链表，并将其作为一个新列表返回。新列表应该通过拼接前两个列表的节点来完成。\n",
    "\n",
    "示例：\n",
    "\n",
    "输入：1->2->4, 1->3->4\n",
    "\n",
    "输出：1->1->2->3->4->4\n",
    "\n",
    "方法一\n",
    "\n",
    "使用最原始的办法，定义一个头指针dummy，遍历两个链表，根据链表节点，进行连接，直到一个链表为空为止，再将dummy和剩下的一个链接起来。\n",
    "\n"
   ]
  },
  {
   "cell_type": "markdown",
   "metadata": {},
   "source": [
    "步骤：\n",
    "\n",
    "构建一个头节点 head ，注意保存头指针的位置 为 first\n",
    "\n",
    "遍历 l1 和 l2  （退出条件是 其中有一个到头）：\n",
    "    \n",
    "    把值小的附在 head 后面，注意 head 和 当前列表的指针都要前进\n",
    "    \n",
    "把没到头的附在head 后面。然后返回 first.next(易错哦)"
   ]
  },
  {
   "cell_type": "code",
   "execution_count": null,
   "metadata": {},
   "outputs": [],
   "source": [
    "# Definition for singly-linked list.\n",
    "# class ListNode(object):\n",
    "#     def __init__(self, x):\n",
    "#         self.val = x\n",
    "#         self.next = None\n",
    "\n",
    "class Solution(object):\n",
    "    def mergeTwoLists(self, l1, l2):\n",
    "        \"\"\"\n",
    "        :type l1: ListNode\n",
    "        :type l2: ListNode\n",
    "        :rtype: ListNode\n",
    "        \"\"\"\n",
    "        \n",
    "        head = ListNode(0)\n",
    "        first = head \n",
    "        \n",
    "        while l1 and l2:\n",
    "            \n",
    "            if l1.val < l2.val:\n",
    "                head.next = l1\n",
    "                l1 = l1.next\n",
    "            else:\n",
    "                head.next = l2\n",
    "                l2 = l2.next\n",
    "        \n",
    "            \n",
    "            head = head.next\n",
    "            \n",
    "        if l1 is None:\n",
    "            head.next = l2\n",
    "        if l2 is None:\n",
    "            head.next = l1\n",
    "\n",
    "        \n",
    "        return first.next"
   ]
  }
 ],
 "metadata": {
  "kernelspec": {
   "display_name": "Python 2",
   "language": "python",
   "name": "python2"
  },
  "language_info": {
   "codemirror_mode": {
    "name": "ipython",
    "version": 2
   },
   "file_extension": ".py",
   "mimetype": "text/x-python",
   "name": "python",
   "nbconvert_exporter": "python",
   "pygments_lexer": "ipython2",
   "version": "2.7.15"
  }
 },
 "nbformat": 4,
 "nbformat_minor": 2
}
