{
 "cells": [
  {
   "cell_type": "markdown",
   "metadata": {},
   "source": [
    "一个机器人位于一个 m x n 网格的左上角 （起始点在下图中标记为“Start” ）。\n",
    "\n",
    "机器人每次只能向下或者向右移动一步。机器人试图达到网格的右下角（在下图中标记为“Finish”）。\n",
    "\n",
    "问总共有多少条不同的路径？\n",
    "\n",
    "\n",
    "\n",
    "例如，上图是一个7 x 3 的网格。有多少可能的路径？\n",
    "\n",
    "说明：m 和 n 的值均不超过 100。\n",
    "\n",
    "示例 1:\n",
    "\n",
    "输入: m = 3, n = 2\n",
    "    \n",
    "输出: 3\n",
    "    \n",
    "解释:\n",
    "    \n",
    "从左上角开始，总共有 3 条路径可以到达右下角。\n",
    "\n",
    "1. 向右 -> 向右 -> 向下\n",
    "\n",
    "2. 向右 -> 向下 -> 向右\n",
    "\n",
    "3. 向下 -> 向右 -> 向右\n",
    "\n",
    "示例 2:\n",
    "\n",
    "输入: m = 7, n = 3\n",
    "    \n",
    "输出: 28"
   ]
  },
  {
   "cell_type": "markdown",
   "metadata": {},
   "source": [
    "动态规划 递推公式是： mn步数 = (m -1)n 路径 +  m(n -1) 路径\n",
    "\n",
    "注意点： 初始化 为 1 ， 注意数组的mn"
   ]
  },
  {
   "cell_type": "code",
   "execution_count": 21,
   "metadata": {},
   "outputs": [],
   "source": [
    "class Solution(object):\n",
    "    def uniquePaths(self, m, n):\n",
    "        \"\"\"\n",
    "        :type m: int\n",
    "        :type n: int\n",
    "        :rtype: int\n",
    "        \"\"\"\n",
    "        if m == 1 or n == 1:\n",
    "            return 1\n",
    "        mn = [[1 for j in range(n)] for i in range(m)]\n",
    "        for i in range(1, m):\n",
    "            for j in range(1, n):\n",
    "                mn[i][j] = mn[i - 1][j] + mn[i][j - 1]\n",
    "        \n",
    "        return mn[-1][-1]"
   ]
  },
  {
   "cell_type": "code",
   "execution_count": 23,
   "metadata": {},
   "outputs": [
    {
     "name": "stdout",
     "output_type": "stream",
     "text": [
      "28\n",
      "28\n"
     ]
    }
   ],
   "source": [
    "m = 7 \n",
    "n = 3\n",
    "\n",
    "test =  Solution()\n",
    "print test.uniquePaths(7,3)\n",
    "print test.uniquePaths(3,7)"
   ]
  },
  {
   "cell_type": "code",
   "execution_count": null,
   "metadata": {},
   "outputs": [],
   "source": []
  }
 ],
 "metadata": {
  "kernelspec": {
   "display_name": "Python 2",
   "language": "python",
   "name": "python2"
  },
  "language_info": {
   "codemirror_mode": {
    "name": "ipython",
    "version": 2
   },
   "file_extension": ".py",
   "mimetype": "text/x-python",
   "name": "python",
   "nbconvert_exporter": "python",
   "pygments_lexer": "ipython2",
   "version": "2.7.15"
  }
 },
 "nbformat": 4,
 "nbformat_minor": 2
}
