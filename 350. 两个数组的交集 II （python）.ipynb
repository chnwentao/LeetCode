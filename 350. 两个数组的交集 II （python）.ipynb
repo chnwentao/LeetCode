{
 "cells": [
  {
   "cell_type": "markdown",
   "metadata": {},
   "source": [
    "一. 题目\n",
    "\n",
    "给定两个数组，写一个方法来计算它们的交集。\n",
    "\n",
    "例如:\n",
    "    \n",
    "给定 nums1 = [1, 2, 2, 1], nums2 = [2, 2], 返回 [2, 2].\n",
    "\n",
    "注意：\n",
    "\n",
    "   输出结果中每个元素出现的次数，应与元素在两个数组中出现的次数一致。\n",
    "    \n",
    "   我们可以不考虑输出结果的顺序。\n",
    "\n",
    "跟进:\n",
    "\n",
    "如果给定的数组已经排好序呢？你将如何优化你的算法？\n",
    "\n",
    "如果 nums1 的大小比 nums2 小很多，哪种方法更优？\n",
    "\n",
    "如果nums2的元素存储在磁盘上，内存是有限的，你不能一次加载所有的元素到内存中，你该怎么办？\n"
   ]
  },
  {
   "cell_type": "markdown",
   "metadata": {},
   "source": [
    "## 思路\n",
    "\n",
    "使用 有序链表排序的思路， 先排序， 两个指针， 逐个遍历，在小的节点上+ 1 ，当两个节点相当的时候，存储该元素，然后两个指针同时+ 1 \n",
    "\n",
    "有序的时候也可以这么做啊！"
   ]
  },
  {
   "cell_type": "code",
   "execution_count": 1,
   "metadata": {},
   "outputs": [],
   "source": [
    "class Solution(object):\n",
    "    def intersect(self, nums1, nums2):\n",
    "        \"\"\"\n",
    "        :type nums1: List[int]\n",
    "        :type nums2: List[int]\n",
    "        :rtype: List[int]\n",
    "        \"\"\"\n",
    "        nums1.sort()\n",
    "        nums2.sort()\n",
    "        l1 = 0\n",
    "        l2 = 0\n",
    "        res = []\n",
    "        while l1 < len(nums1) and l2 < len(nums2):\n",
    "            if nums1[l1] == nums2[l2]:\n",
    "                res.append( nums1[l1])\n",
    "                l1 += 1\n",
    "                l2 += 1\n",
    "            elif nums1[l1] < nums2[l2]:\n",
    "                l1 += 1\n",
    "            else:\n",
    "                l2 += 1\n",
    "                \n",
    "        return res\n",
    "    "
   ]
  },
  {
   "cell_type": "code",
   "execution_count": null,
   "metadata": {},
   "outputs": [],
   "source": []
  }
 ],
 "metadata": {
  "kernelspec": {
   "display_name": "Python 2",
   "language": "python",
   "name": "python2"
  },
  "language_info": {
   "codemirror_mode": {
    "name": "ipython",
    "version": 2
   },
   "file_extension": ".py",
   "mimetype": "text/x-python",
   "name": "python",
   "nbconvert_exporter": "python",
   "pygments_lexer": "ipython2",
   "version": "2.7.15"
  }
 },
 "nbformat": 4,
 "nbformat_minor": 2
}
