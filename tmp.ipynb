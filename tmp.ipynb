{
 "cells": [
  {
   "cell_type": "code",
   "execution_count": 3,
   "metadata": {},
   "outputs": [],
   "source": [
    "def sift_down(arr, start, end):\n",
    "    root = start\n",
    "    while True:\n",
    "        # 从root开始对最大堆调整\n",
    "        child = 2 * root + 1\n",
    "        if child > end:\n",
    "            break\n",
    "\n",
    "        # 找出两个child中交大的一个\n",
    "        if child + 1 <= end and arr[child] < arr[child + 1]:\n",
    "            child += 1\n",
    "\n",
    "        if arr[root] < arr[child]:\n",
    "            # 最大堆小于较大的child, 交换顺序\n",
    "            arr[root], arr[child] = arr[child], arr[root]\n",
    "\n",
    "            # 正在调整的节点设置为root\n",
    "            root = child\n",
    "        else:\n",
    "            # 无需调整的时候, 退出\n",
    "            break\n",
    "\n",
    "\n",
    "def heap_sort(arr):\n",
    "    # 从最后一个有子节点的孩子还是调整最大堆\n",
    "    first = len(arr) // 2 - 1\n",
    "    for start in range(first, -1, -1):\n",
    "        sift_down(arr, start, len(arr) - 1)\n",
    "        \n",
    "    print arr\n",
    "\n",
    "    # 将最大的放到堆的最后一个, 堆-1, 继续调整排序\n",
    "    for end in range(len(arr) -1, 0, -1):\n",
    "        arr[0], arr[end] = arr[end], arr[0]\n",
    "        sift_down(arr, 0, end - 1)\n",
    "\n",
    "def main():\n",
    "    # [7, 95, 73, 65, 60, 77, 28, 62, 43]\n",
    "    # [3, 1, 4, 9, 6, 7, 5, 8, 2, 10]\n",
    "    l = [3, 1, 4, 9, 6, 7, 5, 8, 2, 10]\n",
    "    print l\n",
    "    heap_sort(l)\n",
    "    print l\n"
   ]
  },
  {
   "cell_type": "code",
   "execution_count": 4,
   "metadata": {},
   "outputs": [
    {
     "name": "stdout",
     "output_type": "stream",
     "text": [
      "[3, 1, 4, 9, 6, 7, 5, 8, 2, 10]\n",
      "[10, 9, 7, 8, 6, 4, 5, 3, 2, 1]\n",
      "[1, 2, 3, 4, 5, 6, 7, 8, 9, 10]\n"
     ]
    }
   ],
   "source": [
    "main()"
   ]
  },
  {
   "cell_type": "code",
   "execution_count": null,
   "metadata": {},
   "outputs": [],
   "source": []
  }
 ],
 "metadata": {
  "kernelspec": {
   "display_name": "Python 2",
   "language": "python",
   "name": "python2"
  },
  "language_info": {
   "codemirror_mode": {
    "name": "ipython",
    "version": 2
   },
   "file_extension": ".py",
   "mimetype": "text/x-python",
   "name": "python",
   "nbconvert_exporter": "python",
   "pygments_lexer": "ipython2",
   "version": "2.7.15"
  }
 },
 "nbformat": 4,
 "nbformat_minor": 2
}
