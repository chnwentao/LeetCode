{
 "cells": [
  {
   "cell_type": "code",
   "execution_count": null,
   "metadata": {},
   "outputs": [],
   "source": [
    "#\n",
    "# @lc app=leetcode.cn id=454 lang=python\n",
    "#\n",
    "# [454] 四数相加 II\n",
    "#\n",
    "# https://leetcode-cn.com/problems/4sum-ii/description/\n",
    "#\n",
    "# algorithms\n",
    "# Medium (48.12%)\n",
    "# Total Accepted:    3.5K\n",
    "# Total Submissions: 7.2K\n",
    "# Testcase Example:  '[1,2]\\n[-2,-1]\\n[-1,2]\\n[0,2]'\n",
    "#\n",
    "# 给定四个包含整数的数组列表 A , B , C , D ,计算有多少个元组 (i, j, k, l) ，使得 A[i] + B[j] + C[k] +\n",
    "# D[l] = 0。\n",
    "# \n",
    "# 为了使问题简单化，所有的 A, B, C, D 具有相同的长度 N，且 0 ≤ N ≤ 500 。所有整数的范围在 -2^28 到 2^28 - 1\n",
    "# 之间，最终结果不会超过 2^31 - 1 。\n",
    "# \n",
    "# 例如:\n",
    "# \n",
    "# \n",
    "# 输入:\n",
    "# A = [ 1, 2]\n",
    "# B = [-2,-1]\n",
    "# C = [-1, 2]\n",
    "# D = [ 0, 2]\n",
    "# \n",
    "# 输出:\n",
    "# 2\n",
    "# \n",
    "# 解释:\n",
    "# 两个元组如下:\n",
    "# 1. (0, 0, 0, 1) -> A[0] + B[0] + C[0] + D[1] = 1 + (-2) + (-1) + 2 = 0\n",
    "# 2. (1, 1, 0, 0) -> A[1] + B[1] + C[0] + D[0] = 2 + (-1) + (-1) + 0 = 0\n",
    "# \n",
    "# \n",
    "#\n",
    "class Solution(object):\n",
    "    def fourSumCount(self, A, B, C, D):\n",
    "        \"\"\"\n",
    "        :type A: List[int]\n",
    "        :type B: List[int]\n",
    "        :type C: List[int]\n",
    "        :type D: List[int]\n",
    "        :rtype: int\n",
    "        \"\"\"\n",
    "        \n",
    "\n"
   ]
  },
  {
   "cell_type": "markdown",
   "metadata": {},
   "source": [
    "思路\n",
    "四个数相加如果四层循环复杂度太高，O(N^4) ，将数组两两分组， 可以将复杂度降低时间复杂度降到了O(N^2)。\n",
    "\n",
    "因为只是求个数，所以对每对儿数组遍历所以可能并把每种结果对应的个数存入一个map中。生成 A B --> d1, C D --> d2 \n",
    "\n",
    "\n",
    "\n",
    "\n",
    "遍历 d1 , 如果当前的和的相反数在d2 中，那么满足条件并且满足条件的个数是d2中对应的值 * d1 中对应的值，\n",
    "\n",
    "最后求出所有满足条件的个数的总和即为答案"
   ]
  },
  {
   "cell_type": "code",
   "execution_count": null,
   "metadata": {},
   "outputs": [],
   "source": [
    "class Solution(object):\n",
    "    def fourSumCount(self, A, B, C, D):\n",
    "        \"\"\"\n",
    "        :type A: List[int]\n",
    "        :type B: List[int]\n",
    "        :type C: List[int]\n",
    "        :type D: List[int]\n",
    "        :rtype: int\n",
    "        \"\"\"\n",
    "        "
   ]
  }
 ],
 "metadata": {
  "kernelspec": {
   "display_name": "Python 2",
   "language": "python",
   "name": "python2"
  },
  "language_info": {
   "codemirror_mode": {
    "name": "ipython",
    "version": 2
   },
   "file_extension": ".py",
   "mimetype": "text/x-python",
   "name": "python",
   "nbconvert_exporter": "python",
   "pygments_lexer": "ipython2",
   "version": "2.7.15"
  }
 },
 "nbformat": 4,
 "nbformat_minor": 2
}
