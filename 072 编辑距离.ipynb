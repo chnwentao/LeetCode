{
 "cells": [
  {
   "cell_type": "code",
   "execution_count": 1,
   "metadata": {},
   "outputs": [],
   "source": [
    "#\n",
    "# @lc app=leetcode.cn id=72 lang=python\n",
    "#\n",
    "# [72] 编辑距离\n",
    "#\n",
    "# https://leetcode-cn.com/problems/edit-distance/description/\n",
    "#\n",
    "# algorithms\n",
    "# Hard (47.98%)\n",
    "# Total Accepted:    4.1K\n",
    "# Total Submissions: 8.6K\n",
    "# Testcase Example:  '\"horse\"\\n\"ros\"'\n",
    "#\n",
    "# 给定两个单词 word1 和 word2，计算出将 word1 转换成 word2 所使用的最少操作数 。\n",
    "# \n",
    "# 你可以对一个单词进行如下三种操作：\n",
    "# \n",
    "# \n",
    "# 插入一个字符\n",
    "# 删除一个字符\n",
    "# 替换一个字符\n",
    "# \n",
    "# \n",
    "# 示例 1:\n",
    "# \n",
    "# 输入: word1 = \"horse\", word2 = \"ros\"\n",
    "# 输出: 3\n",
    "# 解释: \n",
    "# horse -> rorse (将 'h' 替换为 'r')\n",
    "# rorse -> rose (删除 'r')\n",
    "# rose -> ros (删除 'e')\n",
    "# \n",
    "# \n",
    "# 示例 2:\n",
    "# \n",
    "# 输入: word1 = \"intention\", word2 = \"execution\"\n",
    "# 输出: 5\n",
    "# 解释: \n",
    "# intention -> inention (删除 't')\n",
    "# inention -> enention (将 'i' 替换为 'e')\n",
    "# enention -> exention (将 'n' 替换为 'x')\n",
    "# exention -> exection (将 'n' 替换为 'c')\n",
    "# exection -> execution (插入 'u')\n",
    "# \n",
    "# \n",
    "#\n",
    "class Solution(object):\n",
    "    def minDistance(self, word1, word2):\n",
    "        \"\"\"\n",
    "        :type word1: str\n",
    "        :type word2: str\n",
    "        :rtype: int\n",
    "        \"\"\"\n",
    "        \n",
    "\n"
   ]
  },
  {
   "attachments": {
    "v2-6ebcd50b733f4bd918cfc1793ece6f37_hd.jpg": {
     "image/jpeg": "[encoded data removed]"
    }
   },
   "cell_type": "markdown",
   "metadata": {},
   "source": [
    "算法原理\n",
    "\n",
    "\n",
    "字符串 X，Y 的长度分别是 i, j 求他们的最小编辑距离。\n",
    "\n",
    "只会有 insertion/deletion/substitution 3 个操作。\n",
    "\n",
    "所有，有 3 个方法可以从子串推导出他们的最小编辑距离。\n",
    "\n",
    "![v2-6ebcd50b733f4bd918cfc1793ece6f37_hd.jpg](attachment:v2-6ebcd50b733f4bd918cfc1793ece6f37_hd.jpg)\n",
    "\n",
    "\n",
    "这个问题可以使用 动态规划\n",
    "\n",
    "例如对word1是“bbc\"，word2是”abcd“，那么我们可以得到dp数组如下： \n",
    "\n",
    "```\n",
    "  Ø a b c d\n",
    "Ø 0 1 2 3 4\n",
    "b 1 1 1 2 3\n",
    "b 2 2 1 2 3\n",
    "c 3 3 2 1 2\n",
    "```\n",
    "\n",
    "递推公式：当word1[i] == word2[j]时，dp[i][j] = dp[i - 1][j - 1]，其他情况时，dp[i][j]是其左，左上，上的三个值中的最小值加1，"
   ]
  },
  {
   "cell_type": "code",
   "execution_count": 21,
   "metadata": {},
   "outputs": [],
   "source": [
    "class Solution(object):\n",
    "    def minDistance(self, word1, word2):\n",
    "        \"\"\"\n",
    "        :type word1: str\n",
    "        :type word2: str\n",
    "        :rtype: int\n",
    "        \"\"\"\n",
    "        if not word1:\n",
    "            return len(word2 or '') or 0\n",
    "\n",
    "        if not word2:\n",
    "            return len(word1 or '') or 0\n",
    "\n",
    "    \n",
    "        size1 = len(word1)\n",
    "        size2 = len(word2)\n",
    "        # 初始化\n",
    "        dp = [[0 for _ in range(size2)] for _ in range(size1)]\n",
    "        dp[0] = range(size2)\n",
    "        for i in range(size1):\n",
    "            dp[i][0] = i\n",
    "        \n",
    "        print dp\n",
    "        for i in range(1, size1):\n",
    "            for j in range(1, size2):\n",
    "                if  word1[i] == word2[j]:\n",
    "                    dp[i][j] = dp[i - 1][j - 1]\n",
    "                else:\n",
    "                    dp[i][j] = min(dp[i - 1][j], dp[i - 1][j - 1], dp[i][j - 1]) + 1\n",
    "        print dp\n",
    "        return dp[-1][-1]"
   ]
  },
  {
   "cell_type": "code",
   "execution_count": 22,
   "metadata": {},
   "outputs": [
    {
     "name": "stdout",
     "output_type": "stream",
     "text": [
      "5\n",
      "[[0, 1, 2], [1, 0, 0], [2, 0, 0], [3, 0, 0], [4, 0, 0]]\n",
      "[[0, 1, 2], [1, 0, 1], [2, 1, 1], [3, 2, 1], [4, 3, 2]]\n",
      "2\n"
     ]
    }
   ],
   "source": [
    "t= Solution()\n",
    "# == 5\n",
    "print t.minDistance('horse', '')\n",
    "# ==3\n",
    "print t.minDistance('horse', 'ros')"
   ]
  },
  {
   "cell_type": "code",
   "execution_count": 23,
   "metadata": {},
   "outputs": [
    {
     "data": {
      "text/plain": [
       "1"
      ]
     },
     "execution_count": 23,
     "metadata": {},
     "output_type": "execute_result"
    }
   ],
   "source": [
    "min(3,4,1)"
   ]
  },
  {
   "cell_type": "code",
   "execution_count": null,
   "metadata": {},
   "outputs": [],
   "source": []
  }
 ],
 "metadata": {
  "kernelspec": {
   "display_name": "Python 2",
   "language": "python",
   "name": "python2"
  },
  "language_info": {
   "codemirror_mode": {
    "name": "ipython",
    "version": 2
   },
   "file_extension": ".py",
   "mimetype": "text/x-python",
   "name": "python",
   "nbconvert_exporter": "python",
   "pygments_lexer": "ipython2",
   "version": "2.7.15"
  }
 },
 "nbformat": 4,
 "nbformat_minor": 2
}
