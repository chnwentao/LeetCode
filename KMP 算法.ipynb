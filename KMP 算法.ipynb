{
 "cells": [
  {
   "cell_type": "markdown",
   "metadata": {},
   "source": [
    "## 问题\n",
    "问题：有一个文本串S，和一个模式串P，现在要查找P在S中的位置，怎么查找呢？"
   ]
  },
  {
   "cell_type": "markdown",
   "metadata": {},
   "source": [
    "## 暴力匹配\n",
    "\n",
    "基本思想：\n",
    "- 从主串的第一个位置起和模式串的第一个字符开始比较，如果相等，则继续逐一比较后续字符；否则从主串的第二个字符开始，再重新用上一步的方法与模式串做比较，以此类推，直到比较完模式串中的所有字符。\n",
    "- 若匹配成功，则返回模式串在主串中的位置；若匹配不成功，则返回一个可区别与主串的位置标记"
   ]
  },
  {
   "cell_type": "code",
   "execution_count": 13,
   "metadata": {},
   "outputs": [
    {
     "name": "stdout",
     "output_type": "stream",
     "text": [
      "score = 15, out = 15\n",
      "score = 2, out = 2\n"
     ]
    }
   ],
   "source": [
    "## 暴力匹配\n",
    "def native_search(txt, pattern):\n",
    "    t_len = len(txt)\n",
    "    p_len = len(pattern)\n",
    "    i = 0\n",
    "    j = 0\n",
    "    while j < p_len and i < t_len:\n",
    "        # ①如果当前字符匹配成功（即S[i] == P[j]），则i++，j++ \n",
    "        if txt[i] == pattern[j]:\n",
    "            i += 1\n",
    "            j += 1\n",
    "        # 如果失配 则回溯  pattern 指针归零，原始字符串下一位。\n",
    "        else:\n",
    "            i = i - j + 1\n",
    "            j = 0\n",
    "    # 匹配成功，返回模式串p在文本串s中的位置，否则返回-1\n",
    "    if j == p_len:\n",
    "        return i - j\n",
    "    else:\n",
    "        return -1\n",
    "txt = 'BBC ABCDAB ABCDABCDABDE'\n",
    "pattern = 'ABCDABD'\n",
    "print  'score = 15, out =', native_search(txt, pattern)\n",
    "\n",
    "txt = 'abcde'\n",
    "pattern = 'cde'\n",
    "print 'score = 2, out =', native_search(txt, pattern)"
   ]
  },
  {
   "cell_type": "markdown",
   "metadata": {},
   "source": [
    "## KMP\n",
    "- KMP算法的实现，相比于朴素（暴力）方法，主要的变换就是模式字符串下一跳的改变，不会每次都是回退到0，然后重新匹配。\n",
    "- 预处理就是： 对模式串p进行预处理,得到前后缀的部分匹配表,使得我们可以借助已知信息,算出可以右移多少位.\n",
    "    - 求每个子串的前缀\"和\"后缀\"的最长的共有元素的长度\n",
    "    - 求next 数组： 共有元素的长度数组整体右移一位，然后初值赋为-1"
   ]
  },
  {
   "cell_type": "code",
   "execution_count": 46,
   "metadata": {},
   "outputs": [
    {
     "name": "stdout",
     "output_type": "stream",
     "text": [
      "score = 15, out = 15\n",
      "score = 2, out = 2\n"
     ]
    }
   ],
   "source": [
    "def KMP_search(txt, pattern):\n",
    "    t_len = len(txt)\n",
    "    p_len = len(pattern)\n",
    "    i = 0\n",
    "    j = 0\n",
    "    # 求next 数组\n",
    "    next_ = get_next(pattern)\n",
    "    # 类似暴力匹配\n",
    "    while i < t_len and j < p_len:\n",
    "        if j == -1 or txt[i] == pattern[j]: # 比暴力匹配对了一个 -1 的判断\n",
    "            i += 1\n",
    "            j += 1\n",
    "        else:\n",
    "            # 按照next数组移动位数 而不是从头开始\n",
    "            j = next_[j]\n",
    "    if j == p_len:\n",
    "        return i - j\n",
    "    else:\n",
    "        return -1\n",
    "\n",
    "txt = 'BBC ABCDAB ABCDABCDABDE'\n",
    "pattern = 'ABCDABD'\n",
    "print  'score = 15, out =', KMP_search(txt, pattern)\n",
    "\n",
    "txt = 'abcde'\n",
    "pattern = 'cde'\n",
    "print 'score = 2, out =', KMP_search(txt, pattern)"
   ]
  },
  {
   "cell_type": "code",
   "execution_count": 44,
   "metadata": {},
   "outputs": [
    {
     "name": "stdout",
     "output_type": "stream",
     "text": [
      "[-1, 0, 0, 0, 0, 1, 2]\n"
     ]
    }
   ],
   "source": [
    "# 预处理 求next 数组\n",
    "# 求每个子串的前缀\"和\"后缀\"的最长的共有元素的长度\n",
    "# 求next 数组： 共有元素的长度数组整体右移一位，然后初值赋为-1\n",
    "\n",
    "def get_next(pattern):\n",
    "    p_len = len(pattern)\n",
    "    # 求每个子串的前缀\"和\"后缀\"的最长的共有元素的长度\n",
    "    com_ret = []\n",
    "    for i in range(1, p_len + 1):\n",
    "        prefix = [pattern[:j] for j in range(i)]\n",
    "        postfix = [pattern[j:i] for j in range(i, 0, -1)]\n",
    "        com = set(prefix) & set(postfix)\n",
    "        len_com = max([len(j) for j in com])\n",
    "        com_ret.append(len_com)\n",
    " \n",
    "    # 求next 数组： 共有元素的长度数组整体右移一位，然后初值赋为-1\n",
    "    next_ = [-1]\n",
    "    for i in range(1,len(com_ret)):\n",
    "        next_.append( com_ret[i - 1])\n",
    "    return next_\n",
    "\n",
    "\n",
    "pattern = 'abcdabd'\n",
    "print get_next(pattern)"
   ]
  },
  {
   "cell_type": "markdown",
   "metadata": {},
   "source": [
    "## 参考\n",
    "\n",
    "- [字符串匹配的KMP算法 - 阮一峰的网络日志](http://www.ruanyifeng.com/blog/2013/05/Knuth%E2%80%93Morris%E2%80%93Pratt_algorithm.html)\n",
    "\n",
    "- [从头到尾彻底理解KMP（2014年8月22日版） - 结构之法 算法之道 - CSDN博客](https://blog.csdn.net/v_july_v/article/details/7041827)\n"
   ]
  }
 ],
 "metadata": {
  "kernelspec": {
   "display_name": "Python 2",
   "language": "python",
   "name": "python2"
  },
  "language_info": {
   "codemirror_mode": {
    "name": "ipython",
    "version": 2
   },
   "file_extension": ".py",
   "mimetype": "text/x-python",
   "name": "python",
   "nbconvert_exporter": "python",
   "pygments_lexer": "ipython2",
   "version": "2.7.15"
  }
 },
 "nbformat": 4,
 "nbformat_minor": 2
}
