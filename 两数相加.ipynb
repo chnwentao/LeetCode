{
 "cells": [
  {
   "cell_type": "markdown",
   "metadata": {},
   "source": [
    "给出两个 非空 的链表用来表示两个非负的整数。其中，它们各自的位数是按照 逆序 的方式存储的，并且它们的每个节点只能存储 一位 数字。\n",
    "\n",
    "如果，我们将这两个数相加起来，则会返回一个新的链表来表示它们的和。\n",
    "\n",
    "您可以假设除了数字 0 之外，这两个数都不会以 0 开头。\n",
    "\n",
    "示例：\n",
    "\n",
    "输入：(2 -> 4 -> 3) + (5 -> 6 -> 4)\n",
    "\n",
    "输出：7 -> 0 -> 8\n",
    "\n",
    "原因：342 + 465 = 807"
   ]
  },
  {
   "cell_type": "code",
   "execution_count": 23,
   "metadata": {},
   "outputs": [],
   "source": [
    "# Definition for singly-linked list.\n",
    "class ListNode(object):\n",
    "    def __init__(self, x):\n",
    "        self.val = x\n",
    "        self.next = None\n",
    "\n",
    "class Solution(object):\n",
    "    def addTwoNumbers(self, l1, l2):\n",
    "        \"\"\"\n",
    "        :type l1: ListNode\n",
    "        :type l2: ListNode\n",
    "        :rtype: ListNode\n",
    "        \"\"\"\n",
    "        head = ListNode(0)\n",
    "        first = head\n",
    "        \n",
    "        next_val = 0\n",
    "        while l1 or l2 :\n",
    "            v1 = 0\n",
    "            v2 = 0\n",
    "            \n",
    "            if l1 :\n",
    "                v1 = l1.val\n",
    "                l1 = l1.next\n",
    "            \n",
    "            if l2:\n",
    "                v2 = l2.val\n",
    "                l2 = l2.next\n",
    "            \n",
    "            tmp = v1 + v2 + next_val\n",
    "            print tmp ,v1 ,v2\n",
    "            print '--'\n",
    "            \n",
    "            head.next =  ListNode(tmp % 10)\n",
    "            \n",
    "            next_val = tmp / 10\n",
    "            head = head.next\n",
    "        \n",
    "        if next_val:\n",
    "             head.next =  ListNode(1)\n",
    "    \n",
    "            \n",
    "        return first.next\n",
    "    \n",
    "            "
   ]
  },
  {
   "cell_type": "code",
   "execution_count": 24,
   "metadata": {},
   "outputs": [
    {
     "name": "stdout",
     "output_type": "stream",
     "text": [
      "7 2 5\n",
      "--\n",
      "10 4 6\n",
      "--\n",
      "10 5 4\n",
      "--\n",
      "7\n",
      "0\n",
      "0\n",
      "1\n"
     ]
    }
   ],
   "source": [
    "sol = Solution()\n",
    "# 定义l1链表\n",
    "l1 = ListNode(2)\n",
    "l1.next = l11 = ListNode(4)\n",
    "l11.next = l12 = ListNode(5)\n",
    "# 定义l2链表\n",
    "l2 = ListNode(5)\n",
    "l2.next = l21 = ListNode(6)\n",
    "l21.next = l22 = ListNode(4)\n",
    "# 获取返回值的链表\n",
    "res = sol.addTwoNumbers(l1, l2)\n",
    "# 循环遍历出来\n",
    "while res:\n",
    "    print(res.val)\n",
    "    res = res.next"
   ]
  },
  {
   "cell_type": "code",
   "execution_count": null,
   "metadata": {},
   "outputs": [],
   "source": []
  }
 ],
 "metadata": {
  "kernelspec": {
   "display_name": "Python 2",
   "language": "python",
   "name": "python2"
  },
  "language_info": {
   "codemirror_mode": {
    "name": "ipython",
    "version": 2
   },
   "file_extension": ".py",
   "mimetype": "text/x-python",
   "name": "python",
   "nbconvert_exporter": "python",
   "pygments_lexer": "ipython2",
   "version": "2.7.15"
  }
 },
 "nbformat": 4,
 "nbformat_minor": 2
}
