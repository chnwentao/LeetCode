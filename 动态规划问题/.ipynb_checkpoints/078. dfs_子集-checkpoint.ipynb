{
 "cells": [
  {
   "cell_type": "markdown",
   "metadata": {},
   "source": [
    "题目\n",
    "\n",
    "给定一组不含重复元素的整数数组 nums，返回该数组所有可能的子集（幂集）。\n",
    "\n",
    "说明：解集不能包含重复的子集。\n",
    "\n",
    "示例:\n",
    "\n",
    "输入: nums = [1,2,3]\n",
    "\n",
    "输出:\n",
    "\n",
    "[ [3], [1], [2], [1,2,3], [1,3], [2,3], [1,2], [] ]\n"
   ]
  },
  {
   "attachments": {
    "20180420220724861.jpeg": {
     "image/jpeg": "[encoded data removed]"
    }
   },
   "cell_type": "markdown",
   "metadata": {},
   "source": [
    "题意：枚举所有子集。\n",
    "\n",
    "解题思路：碰到这种问题，一律dfs。\n",
    "\n",
    "\n",
    "\n",
    "深度优先算法回溯：以【1,2,3】为例\n",
    "\n",
    "每轮都传递一个数组起始指针的值，保证遍历顺序：\n",
    "\n",
    "第一轮：先遍历以1 开头的所有子集，1→12→123 →13\n",
    "\n",
    "第二轮：遍历以2开头的所有子集，2→23\n",
    "\n",
    "第三轮:遍历以3开头的所有子集，3\n",
    "\n",
    "这样三轮遍历保证能找到全部1开头，2开头，3开头的所有子集；同时，每轮遍历后又把上轮的头元素去掉，这样不会出现重复子集。（包括空集）\n",
    "![20180420220724861.jpeg](attachment:20180420220724861.jpeg)"
   ]
  },
  {
   "cell_type": "code",
   "execution_count": 26,
   "metadata": {},
   "outputs": [],
   "source": [
    "class Solution(object):\n",
    "    def subsets(self, nums):\n",
    "        \"\"\"\n",
    "        :type nums: List[int]\n",
    "        :rtype: List[List[int]]\n",
    "        \"\"\"\n",
    "        res = []\n",
    "        nums.sort()\n",
    "        \n",
    "        def dfs(index, vals, res):\n",
    "            res.append(vals)\n",
    "            for i in range(index, len(nums)): \n",
    "                dfs(i + 1, vals + [nums[i]] ,res)\n",
    "                \n",
    "        dfs(0, [],res)\n",
    "        \n",
    "        return res  "
   ]
  },
  {
   "cell_type": "code",
   "execution_count": 27,
   "metadata": {},
   "outputs": [
    {
     "data": {
      "text/plain": [
       "[[], [1], [1, 2], [1, 2, 3], [1, 3], [2], [2, 3], [3]]"
      ]
     },
     "execution_count": 27,
     "metadata": {},
     "output_type": "execute_result"
    }
   ],
   "source": [
    "test= Solution()\n",
    "test.subsets([1,2,3])"
   ]
  },
  {
   "cell_type": "code",
   "execution_count": null,
   "metadata": {},
   "outputs": [],
   "source": []
  }
 ],
 "metadata": {
  "kernelspec": {
   "display_name": "Python 2",
   "language": "python",
   "name": "python2"
  },
  "language_info": {
   "codemirror_mode": {
    "name": "ipython",
    "version": 2
   },
   "file_extension": ".py",
   "mimetype": "text/x-python",
   "name": "python",
   "nbconvert_exporter": "python",
   "pygments_lexer": "ipython2",
   "version": "2.7.15"
  }
 },
 "nbformat": 4,
 "nbformat_minor": 2
}
