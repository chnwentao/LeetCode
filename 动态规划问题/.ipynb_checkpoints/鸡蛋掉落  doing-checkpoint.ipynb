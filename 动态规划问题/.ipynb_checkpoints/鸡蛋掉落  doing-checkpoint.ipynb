{
 "cells": [
  {
   "cell_type": "markdown",
   "metadata": {},
   "source": [
    "你将获得 K 个鸡蛋，并可以使用一栋从 1 到 N 共有 N 层楼的建筑。\n",
    "\n",
    "每个蛋的功能都是一样的，如果一个蛋碎了，你就不能再把它掉下去。\n",
    "\n",
    "你知道存在楼层 F ，满足 0 <= F <= N 任何从高于 F 的楼层落下的鸡蛋都会碎，从 F 楼层或比它低的楼层落下的鸡蛋都不会破。\n",
    "\n",
    "每次移动，你可以取一个鸡蛋（如果你有完整的鸡蛋）并把它从任一楼层 X 扔下（满足 1 <= X <= N）。\n",
    "\n",
    "你的目标是确切地知道 F 的值是多少。\n",
    "\n",
    "无论 F 的初始值如何，你确定 F 的值的最小移动次数是多少？\n",
    "\n",
    "示例 1：\n",
    "\n",
    "输入：K = 1, N = 2\n",
    "\n",
    "输出：2\n",
    "\n",
    "解释：\n",
    "\n",
    "鸡蛋从 1 楼掉落。如果它碎了，我们肯定知道 F = 0 。\n",
    "\n",
    "否则，鸡蛋从 2 楼掉落。如果它碎了，我们肯定知道 F = 1 。\n",
    "\n",
    "如果它没碎，那么我们肯定知道 F = 2 。\n",
    "\n",
    "因此，在最坏的情况下我们需要移动 2 次以确定 F 是多少。\n",
    "\n",
    "示例 2：\n",
    "\n",
    "\n",
    "输入：K = 2, N = 6\n",
    "\n",
    "输出：3\n",
    "\n",
    "示例 3：\n",
    "\n",
    "输入：K = 3, N = 14\n",
    "\n",
    "输出：4\n",
    "\n"
   ]
  },
  {
   "cell_type": "markdown",
   "metadata": {},
   "source": [
    "思路\n",
    "\n",
    "一看就是动态规划，看到有两个变量，\n",
    "\n",
    "首先找出状态转移方程，令二维数组dp[K][Step], K表示鸡蛋个数，Step表示第几次摔落。dp[i][j] 表示i个鸡蛋经过j次摔落最多可以确定多少层楼。显然j <= N。\n",
    "\n",
    "求d[i][j]\n",
    "\n",
    "当第j次摔落鸡蛋不破，我们可以继续往上确定dp[i][j - 1]层\n",
    "\n",
    "当第j次摔落鸡蛋不破，我们最多只能确定dp[i - 1][j - 1]层\n",
    "\n",
    "状态方程 d[i][j] = dp[i - 1][j - 1] + ( dp[i][j - 1] + 1 ) 最后的1表示本层"
   ]
  },
  {
   "cell_type": "code",
   "execution_count": null,
   "metadata": {},
   "outputs": [],
   "source": [
    "class Solution(object):\n",
    "    def superEggDrop(self, K, N):\n",
    "        \"\"\"\n",
    "        :type K: int\n",
    "        :type N: int\n",
    "        :rtype: int\n",
    "        \"\"\"\n",
    "        kn = [[0 for _ in range(N + 1)] for _ in range(K + 1)]\n",
    "        \n",
    "        for i in range(1, K + 1):\n",
    "            for i in range(1, N + 1):\n",
    "                kn[i][j] = kn[i -1][j - 1] + (kn[i][j - 1] + 1)\n",
    "                \n",
    "        return kn[K][N]"
   ]
  }
 ],
 "metadata": {
  "kernelspec": {
   "display_name": "Python 2",
   "language": "python",
   "name": "python2"
  },
  "language_info": {
   "codemirror_mode": {
    "name": "ipython",
    "version": 2
   },
   "file_extension": ".py",
   "mimetype": "text/x-python",
   "name": "python",
   "nbconvert_exporter": "python",
   "pygments_lexer": "ipython2",
   "version": "2.7.15"
  }
 },
 "nbformat": 4,
 "nbformat_minor": 2
}
