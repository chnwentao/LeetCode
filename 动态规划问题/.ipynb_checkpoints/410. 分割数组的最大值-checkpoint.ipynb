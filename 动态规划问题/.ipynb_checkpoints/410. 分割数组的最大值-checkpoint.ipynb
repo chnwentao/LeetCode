{
 "cells": [
  {
   "cell_type": "code",
   "execution_count": 1,
   "metadata": {},
   "outputs": [],
   "source": [
    "# [410] 分割数组的最大值\n",
    "#\n",
    "# https://leetcode-cn.com/problems/split-array-largest-sum/description/\n",
    "#\n",
    "# algorithms\n",
    "# Hard (34.94%)\n",
    "# Total Accepted:    694\n",
    "# Total Submissions: 2K\n",
    "# Testcase Example:  '[7,2,5,10,8]\\n2'\n",
    "#\n",
    "# 给定一个非负整数数组和一个整数 m，你需要将这个数组分成 m 个非空的连续子数组。设计一个算法使得这 m 个子数组各自和的最大值最小。\n",
    "# \n",
    "# 注意:\n",
    "# 数组长度 n 满足以下条件:\n",
    "# \n",
    "# \n",
    "# 1 ≤ n ≤ 1000\n",
    "# 1 ≤ m ≤ min(50, n)\n",
    "# \n",
    "# \n",
    "# 示例: \n",
    "# \n",
    "# \n",
    "# 输入:\n",
    "# nums = [7,2,5,10,8]\n",
    "# m = 2\n",
    "# \n",
    "# 输出:\n",
    "# 18\n",
    "# \n",
    "# 解释:\n",
    "# 一共有四种方法将nums分割为2个子数组。\n",
    "# 其中最好的方式是将其分为[7,2,5] 和 [10,8]，\n",
    "# 因为此时这两个子数组各自的和的最大值为18，在所有情况中最小。\n",
    "# \n",
    "# \n",
    "#"
   ]
  },
  {
   "cell_type": "code",
   "execution_count": null,
   "metadata": {},
   "outputs": [],
   "source": [
    "# 思路 一看就是动态规划，\n",
    "定义数据"
   ]
  }
 ],
 "metadata": {
  "kernelspec": {
   "display_name": "Python 2",
   "language": "python",
   "name": "python2"
  },
  "language_info": {
   "codemirror_mode": {
    "name": "ipython",
    "version": 2
   },
   "file_extension": ".py",
   "mimetype": "text/x-python",
   "name": "python",
   "nbconvert_exporter": "python",
   "pygments_lexer": "ipython2",
   "version": "2.7.15"
  }
 },
 "nbformat": 4,
 "nbformat_minor": 2
}
