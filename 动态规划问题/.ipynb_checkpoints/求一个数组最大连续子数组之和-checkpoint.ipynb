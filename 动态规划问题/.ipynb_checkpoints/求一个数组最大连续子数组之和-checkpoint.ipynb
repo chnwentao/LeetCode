{
 "cells": [
  {
   "cell_type": "markdown",
   "metadata": {},
   "source": [
    "求一个数组最大连续子数组之和。\n",
    "\n",
    "示例：int[] nums = {2,1,3,6,-10,5};  最大连续子数组是2,1,3,6，所以输出12。"
   ]
  },
  {
   "cell_type": "markdown",
   "metadata": {},
   "source": [
    "- 定义两个变量，\n",
    "    - 一个用来存储之前的累加值，\n",
    "    - 一个用来存储当前的最大和。\n",
    "\n",
    "- 遍历数组中的每个元素，假设遍历到第i个数时：\n",
    "    - ①如果前面的累加值为负数或者等于0，那对累加值清0重新累加，把当前的第i个数的值赋给累加值。\n",
    "    - ②如果前面的累加值为整数，那么继续累加，即之前的累加值加上当前第i个数的值作为新的累加值。\n",
    "\n",
    "\n",
    "- 为啥小于0 就要清零呢？？？\n",
    "\n",
    "    - 如果累加和出现小于0的情况，\n",
    "    - 则和最大的子序列肯定不可能包含前面的元素，\n",
    "    - 这时将累加和置0，从下个元素重新开始累加\n"
   ]
  },
  {
   "cell_type": "code",
   "execution_count": 1,
   "metadata": {},
   "outputs": [
    {
     "data": {
      "text/plain": [
       "12"
      ]
     },
     "execution_count": 1,
     "metadata": {},
     "output_type": "execute_result"
    }
   ],
   "source": [
    "def max_sub(arr):\n",
    "    size = len(arr)\n",
    "    max_ = arr[0] # 记录目前出现过最大的子组和\n",
    "    sum_ = arr[0] # 记录当前子组和，当子组合<0,则重置为0，重新开始计和 ? ???\n",
    "    for i, num in enumerate(arr[1:]):\n",
    "        sum_ += num\n",
    "        if sum_ < 0:\n",
    "            sum_ = 0\n",
    "        \n",
    "        max_ = max(sum_, max_)\n",
    "        \n",
    "    return max_\n",
    "        \n",
    "test_l = [2,1,3,6,-10,5]\n",
    "# 12\n",
    "max_sub(test_l)"
   ]
  },
  {
   "cell_type": "code",
   "execution_count": null,
   "metadata": {},
   "outputs": [],
   "source": []
  }
 ],
 "metadata": {
  "kernelspec": {
   "display_name": "Python 2",
   "language": "python",
   "name": "python2"
  },
  "language_info": {
   "codemirror_mode": {
    "name": "ipython",
    "version": 2
   },
   "file_extension": ".py",
   "mimetype": "text/x-python",
   "name": "python",
   "nbconvert_exporter": "python",
   "pygments_lexer": "ipython2",
   "version": "2.7.15"
  }
 },
 "nbformat": 4,
 "nbformat_minor": 2
}
