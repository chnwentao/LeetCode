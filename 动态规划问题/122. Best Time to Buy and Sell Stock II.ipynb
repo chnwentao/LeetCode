{
 "cells": [
  {
   "cell_type": "markdown",
   "metadata": {},
   "source": [
    "# 122. Best Time to Buy and Sell Stock II   \n",
    "## Question\n",
    "- Total Accepted: 113358\n",
    "- Total Submissions: 251928\n",
    "- Difficulty: Medium\n",
    "\n",
    "Say you have an array for which the ith element is the price of a given stock on day i.\n",
    "\n",
    "Design an algorithm to find the maximum profit. You may complete as many transactions as you like (ie, buy one and sell one share of the stock multiple times). However, you may not engage in multiple transactions at the same time (ie, you must sell the stock before you buy again)."
   ]
  },
  {
   "cell_type": "markdown",
   "metadata": {},
   "source": [
    "## analysis\n",
    "题目：用一个数组表示股票每天的价格，数组的第i个数表示股票在第i天的价格。交易次数不限，但一次只能交易一支股票，也就是说手上最多只能持有一支股票，求最大收益。\n",
    "\n",
    "本题由于是可以操作任意次数，只为获得最大收益，而且对于一个上升子序列，比如：[5, 1, 2, 3, 4]中的1, 2, 3, 4序列来说，对于两种操作方案：\n",
    "1. 在1买入，4卖出\n",
    "2. 在1买入，2卖出同时买入，3卖出同时买入，4卖出\n",
    "这两种操作下，收益是一样的。\n",
    "\n",
    "\n",
    "分析：贪心法。从前向后遍历数组，只要当天的价格高于前一天的价格，就算入收益。\n",
    "\n",
    "代码：时间O(n)，空间O(1)。"
   ]
  },
  {
   "cell_type": "markdown",
   "metadata": {},
   "source": [
    "## AC code\n",
    "Your runtime beats 63.03% of python submissions."
   ]
  },
  {
   "cell_type": "code",
   "execution_count": 1,
   "metadata": {
    "collapsed": false
   },
   "outputs": [
    {
     "data": {
      "text/plain": [
       "5"
      ]
     },
     "execution_count": 1,
     "metadata": {},
     "output_type": "execute_result"
    }
   ],
   "source": [
    "class Solution(object):\n",
    "    def maxProfit(self, prices):\n",
    "        \"\"\"\n",
    "        :type prices: List[int]\n",
    "        :rtype: int\n",
    "        \"\"\"\n",
    "        if len(prices) < 2:\n",
    "            return 0\n",
    "        \n",
    "        n = len(prices)\n",
    "        res = 0\n",
    "        for i in range(1, n):\n",
    "            diff = prices[i] - prices[i - 1]\n",
    "            if diff > 0:\n",
    "                res += diff\n",
    "        \n",
    "        return res\n",
    "t = Solution()\n",
    "t.maxProfit([5,6,3,7])"
   ]
  },
  {
   "cell_type": "markdown",
   "metadata": {},
   "source": [
    "## one more things\n",
    "\n",
    "但是这个会违反“不能同一天买卖的规则”，例如3天的价格分别为1，2，3，那么按上述算法就会在2那天同一天买卖了。。。\n",
    "\n",
    " 正确的做法是： 第1天买第3天卖。\n",
    "\n",
    " 虽然两种方法数字结果是对的，但是逻辑不一样。。\n",
    "\n",
    " 不过虽然这么说，这道题的本事仍然是让你找最大利润，并没有让你明确哪天买哪天卖。\n",
    "\n",
    " 所以对面试官你仍然可以说，这种方法只是帮助我找到最大利润，我并没有说是要在同一天买卖，只是计算：所有第二天比前一天大的差值的合，我是为了找最大利润而已（画个趋势图讲解一下就行了。。）。\n",
    "\n",
    " "
   ]
  },
  {
   "cell_type": "code",
   "execution_count": null,
   "metadata": {
    "collapsed": true
   },
   "outputs": [],
   "source": []
  }
 ],
 "metadata": {
  "kernelspec": {
   "display_name": "Python 2",
   "language": "python",
   "name": "python2"
  },
  "language_info": {
   "codemirror_mode": {
    "name": "ipython",
    "version": 2
   },
   "file_extension": ".py",
   "mimetype": "text/x-python",
   "name": "python",
   "nbconvert_exporter": "python",
   "pygments_lexer": "ipython2",
   "version": "2.7.11"
  }
 },
 "nbformat": 4,
 "nbformat_minor": 0
}
