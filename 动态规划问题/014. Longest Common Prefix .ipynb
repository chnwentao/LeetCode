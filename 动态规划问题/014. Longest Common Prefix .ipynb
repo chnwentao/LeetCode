{
 "cells": [
  {
   "cell_type": "markdown",
   "metadata": {},
   "source": [
    "# 14. Longest Common Prefix   \n",
    "## Question\n",
    "\n",
    "Total Accepted: 133068\n",
    "\n",
    "Total Submissions: 441764\n",
    "\n",
    "Difficulty: Easy\n",
    "\n",
    "Write a function to find the longest common prefix string amongst an array of strings.\n"
   ]
  },
  {
   "cell_type": "markdown",
   "metadata": {},
   "source": [
    "## 思路\n",
    "题目描述不清晰。。。补充几个例子，比如：\n",
    "```\n",
    "{“a”,”a”,”b”} 返回 “” ，因为三个字符串没有公共前缀；\n",
    "{“a”, “a”} 返回 “a” 因为它是两个字符串的公共前缀；\n",
    "{“abca”, “abc”} 返回 “abc”；\n",
    "{“ac”, “ac”, “a”, “a”} 返回 “a”。\n",
    "```\n",
    "\n",
    "找最长前缀，实现简单，主要性能问题\n",
    "\n",
    "很直观的思路，从(最短的)一个字符串开始，扫描该字符串，依次检查其他字符串的同一位置是否是一样的字符，当遇到不一样时则返回当前得到的前缀。\n",
    "O(L*N)"
   ]
  },
  {
   "cell_type": "markdown",
   "metadata": {},
   "source": [
    "## 坑\n",
    "- 判断一个一个list 是不是 `[]`  \n",
    "1. 传统 `if len(list) == 0` :, \n",
    "2. []  python 转意为 False  ， so可以用：  `if not list`:"
   ]
  },
  {
   "cell_type": "markdown",
   "metadata": {},
   "source": [
    "## code  48 ms"
   ]
  },
  {
   "cell_type": "code",
   "execution_count": 46,
   "metadata": {
    "collapsed": true
   },
   "outputs": [],
   "source": [
    "class Solution(object):\n",
    "    def longestCommonPrefix(self, strs):\n",
    "        \"\"\"\n",
    "        :type strs: List[str]\n",
    "        :rtype: str\n",
    "        \"\"\"\n",
    "        ## 边界\n",
    "        if len(strs) == 0:\n",
    "            return \"\"\n",
    "        if len(strs) == 1:\n",
    "            return strs[0]\n",
    "        \n",
    "        strs_len = len(strs)\n",
    "        lens = [len(i) for i in strs]\n",
    "        \n",
    "        for i in xrange(min(lens)):\n",
    "            tmp = strs[0][i]\n",
    "            for s in strs:\n",
    "                if s[i] != tmp:\n",
    "                    return s[:i]\n",
    "        return strs[0][:min(lens)]"
   ]
  },
  {
   "cell_type": "code",
   "execution_count": 45,
   "metadata": {
    "collapsed": false
   },
   "outputs": [
    {
     "data": {
      "text/plain": [
       "''"
      ]
     },
     "execution_count": 45,
     "metadata": {},
     "output_type": "execute_result"
    }
   ],
   "source": [
    "##test\n",
    "test = Solution()\n",
    "test.longestCommonPrefix([\"\",\"\"])"
   ]
  },
  {
   "cell_type": "code",
   "execution_count": 44,
   "metadata": {
    "collapsed": false
   },
   "outputs": [
    {
     "data": {
      "text/plain": [
       "True"
      ]
     },
     "execution_count": 44,
     "metadata": {},
     "output_type": "execute_result"
    }
   ],
   "source": [
    "not []  == True"
   ]
  },
  {
   "cell_type": "code",
   "execution_count": null,
   "metadata": {
    "collapsed": true
   },
   "outputs": [],
   "source": []
  }
 ],
 "metadata": {
  "kernelspec": {
   "display_name": "Python 2",
   "language": "python",
   "name": "python2"
  },
  "language_info": {
   "codemirror_mode": {
    "name": "ipython",
    "version": 2
   },
   "file_extension": ".py",
   "mimetype": "text/x-python",
   "name": "python",
   "nbconvert_exporter": "python",
   "pygments_lexer": "ipython2",
   "version": "2.7.11"
  }
 },
 "nbformat": 4,
 "nbformat_minor": 0
}
