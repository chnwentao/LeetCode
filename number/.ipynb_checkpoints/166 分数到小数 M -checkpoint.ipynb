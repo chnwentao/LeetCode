{
 "cells": [
  {
   "cell_type": "code",
   "execution_count": null,
   "metadata": {},
   "outputs": [],
   "source": [
    "#\n",
    "# @lc app=leetcode.cn id=166 lang=python\n",
    "#\n",
    "# [166] 分数到小数\n",
    "#\n",
    "# https://leetcode-cn.com/problems/fraction-to-recurring-decimal/description/\n",
    "#\n",
    "# algorithms\n",
    "# Medium (21.96%)\n",
    "# Total Accepted:    1.9K\n",
    "# Total Submissions: 8.5K\n",
    "# Testcase Example:  '1\\n2'\n",
    "#\n",
    "# 给定两个整数，分别表示分数的分子 numerator 和分母 denominator，以字符串形式返回小数。\n",
    "# \n",
    "# 如果小数部分为循环小数，则将循环的部分括在括号内。\n",
    "# \n",
    "# 示例 1:\n",
    "# \n",
    "# 输入: numerator = 1, denominator = 2\n",
    "# 输出: \"0.5\"\n",
    "# \n",
    "# \n",
    "# 示例 2:\n",
    "# \n",
    "# 输入: numerator = 2, denominator = 1\n",
    "# 输出: \"2\"\n",
    "# \n",
    "# 示例 3:\n",
    "# \n",
    "# 输入: numerator = 2, denominator = 3\n",
    "# 输出: \"0.(6)\"\n",
    "# \n",
    "# \n",
    "#\n",
    "class Solution(object):\n",
    "    def fractionToDecimal(self, numerator, denominator):\n",
    "        \"\"\"\n",
    "        :type numerator: int\n",
    "        :type denominator: int\n",
    "        :rtype:"
   ]
  },
  {
   "cell_type": "markdown",
   "metadata": {},
   "source": [
    "可以写成分数的都是有理数，而有理数要么是有限的，要么是无限循环小数，无限不循环的叫无理数，例如圆周率pi或自然数e"
   ]
  },
  {
   "cell_type": "code",
   "execution_count": 6,
   "metadata": {},
   "outputs": [
    {
     "name": "stdout",
     "output_type": "stream",
     "text": [
      "-1\n",
      "6 2\n"
     ]
    }
   ],
   "source": [
    "print  - 2/3\n",
    "print 20 / 3, 20 %3\n"
   ]
  },
  {
   "cell_type": "code",
   "execution_count": null,
   "metadata": {},
   "outputs": [],
   "source": [
    "class Solution(object):\n",
    "    def fractionToDecimal(self, numerator, denominator):\n",
    "        \"\"\"\n",
    "        :type numerator: int\n",
    "        :type denominator: int\n",
    "        :rtype:\n",
    "        \"\"\"\n",
    "        flag = \"\"\n",
    "        if (numerator < 0 and  denominator > 0) or (numerator > 0  and denominator <  0)  :\n",
    "            flag = '-'\n",
    "        numerator = abs(numerator)\n",
    "        denominator = abs(denominator)\n",
    "        \n",
    "        int_ =  flag + str(numerator/denominator)\n",
    "        mo = numerator %  denominator\n",
    "        if mo == 0:\n",
    "            return int_\n",
    "        int_ += \".\"\n",
    "        decimal = \"\"\n",
    "        s_d = set()\n",
    "        while mo != 0:\n",
    "            tmp = str(mo * 10 / denominator)\n",
    "            if tmp in s_d:\n",
    "                return int_ + decimal\n",
    "            \n",
    "            decimal += str(tmp)\n",
    "            mo = mo * 10 % denominator\n",
    "        "
   ]
  }
 ],
 "metadata": {
  "kernelspec": {
   "display_name": "Python 2",
   "language": "python",
   "name": "python2"
  },
  "language_info": {
   "codemirror_mode": {
    "name": "ipython",
    "version": 2
   },
   "file_extension": ".py",
   "mimetype": "text/x-python",
   "name": "python",
   "nbconvert_exporter": "python",
   "pygments_lexer": "ipython2",
   "version": "2.7.15"
  }
 },
 "nbformat": 4,
 "nbformat_minor": 2
}
