{
 "cells": [
  {
   "cell_type": "markdown",
   "metadata": {},
   "source": [
    "给定两个有序整数数组 nums1 和 nums2，将 nums2 合并到 nums1 中，使得 num1 成为一个有序数组。\n",
    "\n",
    "说明:\n",
    "\n",
    "初始化 nums1 和 nums2 的元素数量分别为 m 和 n。\n",
    "\n",
    "你可以假设 nums1 有足够的空间（空间大小大于或等于 m + n）来保存 nums2 中的元素。\n",
    "\n",
    "示例:\n",
    "\n",
    "输入:\n",
    "    \n",
    "nums1 = [1,2,3,0,0,0], m = 3\n",
    "\n",
    "nums2 = [2,5,6],       n = 3\n",
    "\n",
    "输出: [1,2,2,3,5,6]"
   ]
  },
  {
   "cell_type": "code",
   "execution_count": null,
   "metadata": {},
   "outputs": [],
   "source": [
    "思路1： 需要一个额外数组 ，然后双指针变量\n",
    "思路2： 原地， 技巧是从尾巴（m,n 不是真的数组-1）开始遍历，大的放到最后"
   ]
  },
  {
   "cell_type": "code",
   "execution_count": 80,
   "metadata": {},
   "outputs": [],
   "source": [
    "class Solution(object):\n",
    "    def merge(self, nums1, m, nums2, n):\n",
    "        \"\"\"\n",
    "        :type nums1: List[int]\n",
    "        :type m: int\n",
    "        :type nums2: List[int]\n",
    "        :type n: int\n",
    "        :rtype: None Do not return anything, modify nums1 in-place instead.\n",
    "        \"\"\"\n",
    "        ret = []\n",
    "        p1 = 0\n",
    "        p2 = 0\n",
    "        while p1 < m and p2 < n:\n",
    "            if nums1[p1] < nums2[p2]:\n",
    "                ret.append(nums1[p1])\n",
    "                p1 += 1\n",
    "            else:\n",
    "                ret.append(nums2[p2])\n",
    "                p2 += 1\n",
    "\n",
    "        if p1 < m:\n",
    "            ret = ret + nums1[p1:m]\n",
    "        elif p2 < n:\n",
    "            ret = ret + nums2[p2:n]\n",
    "        \n",
    "        nums1 = ret\n",
    "\n",
    "# 这是原地排序的结果        \n",
    "class Solution(object):\n",
    "    def merge(self, nums1, m, nums2, n):\n",
    "        \"\"\"\n",
    "        :type nums1: List[int]\n",
    "        :type m: int\n",
    "        :type nums2: List[int]\n",
    "        :type n: int\n",
    "        :rtype: None Do not return anything, modify nums1 in-place instead.\n",
    "        \"\"\"\n",
    "        while m>0 and n>0:\n",
    "            if nums1[m-1]>nums2[n-1]:#若nums1中最后一个元素大于nums2[]中最后一个元素\n",
    "                nums1[m+n-1]=nums1[m-1]#则扩展后的列表最后一个元素是俩元素中最大的\n",
    "                m-=1       #nums1中元素-1\n",
    "            else:\n",
    "                nums1[m+n-1]=nums2[n-1]\n",
    "                n-=1\n",
    "        if n>0:#若nums1完了，nums2还没完\n",
    "            nums1[:n]=nums2[:n]#把剩下nums2加在最开始"
   ]
  },
  {
   "cell_type": "code",
   "execution_count": 79,
   "metadata": {},
   "outputs": [
    {
     "name": "stdout",
     "output_type": "stream",
     "text": [
      "2 2\n",
      "2 1\n",
      "2 0\n",
      "1 0\n",
      "[1, 2, 2, 3, 5, 6]\n"
     ]
    }
   ],
   "source": [
    "test = Solution()\n",
    "nums1 = [1,2,3,0,0,0]\n",
    "m = 3\n",
    "\n",
    "nums2 = [2,5,6]\n",
    "n = 3\n",
    "test.merge( nums1, m, nums2, n)\n",
    "print nums1"
   ]
  },
  {
   "cell_type": "code",
   "execution_count": 76,
   "metadata": {},
   "outputs": [
    {
     "name": "stdout",
     "output_type": "stream",
     "text": [
      "Object `insert` not found.\n"
     ]
    }
   ],
   "source": [
    "? insert()"
   ]
  },
  {
   "cell_type": "code",
   "execution_count": 41,
   "metadata": {},
   "outputs": [],
   "source": [
    "\n"
   ]
  },
  {
   "cell_type": "code",
   "execution_count": 46,
   "metadata": {},
   "outputs": [
    {
     "name": "stdout",
     "output_type": "stream",
     "text": [
      "5\n",
      "x [2, 'x', 5, 6]\n"
     ]
    }
   ],
   "source": [
    "nums2 = [2,5,6]\n",
    "print nums2[1]\n",
    "nums2.insert(1, 'x')\n",
    "print nums2[1], nums2"
   ]
  },
  {
   "cell_type": "code",
   "execution_count": null,
   "metadata": {},
   "outputs": [],
   "source": []
  },
  {
   "cell_type": "code",
   "execution_count": null,
   "metadata": {},
   "outputs": [],
   "source": []
  }
 ],
 "metadata": {
  "kernelspec": {
   "display_name": "Python 2",
   "language": "python",
   "name": "python2"
  },
  "language_info": {
   "codemirror_mode": {
    "name": "ipython",
    "version": 2
   },
   "file_extension": ".py",
   "mimetype": "text/x-python",
   "name": "python",
   "nbconvert_exporter": "python",
   "pygments_lexer": "ipython2",
   "version": "2.7.15"
  }
 },
 "nbformat": 4,
 "nbformat_minor": 2
}
