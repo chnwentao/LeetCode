{
 "cells": [
  {
   "cell_type": "code",
   "execution_count": 1,
   "metadata": {},
   "outputs": [],
   "source": [
    "#\n",
    "# @lc app=leetcode.cn id=149 lang=python\n",
    "#\n",
    "# [149] 直线上最多的点数\n",
    "#\n",
    "# https://leetcode-cn.com/problems/max-points-on-a-line/description/\n",
    "#\n",
    "# algorithms\n",
    "# Hard (14.90%)\n",
    "# Total Accepted:    1.8K\n",
    "# Total Submissions: 11.9K\n",
    "# Testcase Example:  '[[1,1],[2,2],[3,3]]'\n",
    "#\n",
    "# 给定一个二维平面，平面上有 n 个点，求最多有多少个点在同一条直线上。\n",
    "# \n",
    "# 示例 1:\n",
    "# \n",
    "# 输入: [[1,1],[2,2],[3,3]]\n",
    "# 输出: 3\n",
    "# 解释:\n",
    "# ^\n",
    "# |\n",
    "# |        o\n",
    "# |     o\n",
    "# |  o  \n",
    "# +------------->\n",
    "# 0  1  2  3  4\n",
    "# \n",
    "# \n",
    "# 示例 2:\n",
    "# \n",
    "# 输入: [[1,1],[3,2],[5,3],[4,1],[2,3],[1,4]]\n",
    "# 输出: 4\n",
    "# 解释:\n",
    "# ^\n",
    "# |\n",
    "# |  o\n",
    "# |     o        o\n",
    "# |        o\n",
    "# |  o        o\n",
    "# +------------------->\n",
    "# 0  1  2  3  4  5  6\n",
    "# \n",
    "#\n",
    "# Definition for a point.\n",
    "# class Point(object):\n",
    "#     def __init__(self, a=0, b=0):\n",
    "#         self.x = a\n",
    "#         self.y = b\n",
    "\n",
    "class Solution(object):\n",
    "    def maxPoints(self, points):\n",
    "        \"\"\"\n",
    "        :type points: List[Point]\n",
    "        :rtype: int\n",
    "        \"\"\"\n",
    "        \n",
    "\n"
   ]
  },
  {
   "cell_type": "code",
   "execution_count": null,
   "metadata": {},
   "outputs": [],
   "source": []
  }
 ],
 "metadata": {
  "kernelspec": {
   "display_name": "Python 2",
   "language": "python",
   "name": "python2"
  },
  "language_info": {
   "codemirror_mode": {
    "name": "ipython",
    "version": 2
   },
   "file_extension": ".py",
   "mimetype": "text/x-python",
   "name": "python",
   "nbconvert_exporter": "python",
   "pygments_lexer": "ipython2",
   "version": "2.7.15"
  }
 },
 "nbformat": 4,
 "nbformat_minor": 2
}
