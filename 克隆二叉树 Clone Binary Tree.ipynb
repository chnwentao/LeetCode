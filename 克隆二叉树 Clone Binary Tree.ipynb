{
 "cells": [
  {
   "cell_type": "markdown",
   "metadata": {},
   "source": [
    "二叉树拷贝，就是指将一颗二叉树，复制一份"
   ]
  },
  {
   "cell_type": "code",
   "execution_count": null,
   "metadata": {},
   "outputs": [],
   "source": [
    "\n",
    "\"\"\"\n",
    "Definition of TreeNode:\n",
    "class TreeNode:\n",
    "    def __init__(self, val):\n",
    "        this.val = val\n",
    "        this.left, this.right = None, None\n",
    "\"\"\"\n",
    "class Solution:\n",
    "    \"\"\"\n",
    "    @param {TreeNode} root: The root of binary tree\n",
    "    @return {TreeNode} root of new tree\n",
    "    \"\"\"\n",
    "    def cloneTree(self, root):\n",
    "        if not root:\n",
    "            return\n",
    "        clone_tree =  TreeNode(root.val)\n",
    "        clone_tree.left = cloneTree(root.left)\n",
    "        clone_tree.right = cloneTree(root.right)\n",
    "        return clone_tree"
   ]
  }
 ],
 "metadata": {
  "kernelspec": {
   "display_name": "Python 2",
   "language": "python",
   "name": "python2"
  },
  "language_info": {
   "codemirror_mode": {
    "name": "ipython",
    "version": 2
   },
   "file_extension": ".py",
   "mimetype": "text/x-python",
   "name": "python",
   "nbconvert_exporter": "python",
   "pygments_lexer": "ipython2",
   "version": "2.7.15"
  }
 },
 "nbformat": 4,
 "nbformat_minor": 2
}
