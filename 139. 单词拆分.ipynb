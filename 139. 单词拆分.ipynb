{
 "cells": [
  {
   "cell_type": "markdown",
   "metadata": {},
   "source": [
    "给定一个非空字符串 s 和一个包含非空单词列表的字典 wordDict，判定 s 是否可以被空格拆分为一个或多个在字典中出现的单词。\n",
    "\n",
    "说明：\n",
    "\n",
    "拆分时可以重复使用字典中的单词。\n",
    "\n",
    "你可以假设字典中没有重复的单词。\n",
    "\n",
    "示例 1：\n",
    "\n",
    "输入: s = \"leetcode\", wordDict = [\"leet\", \"code\"]\n",
    "    \n",
    "输出: true\n",
    "    \n",
    "解释: 返回 true 因为 \"leetcode\" 可以被拆分成 \"leet code\"。\n",
    "    \n",
    "示例 2：\n",
    "\n",
    "输入: s = \"applepenapple\", wordDict = [\"apple\", \"pen\"]\n",
    "    \n",
    "输出: true\n",
    "    \n",
    "解释: 返回 true 因为 \"applepenapple\" 可以被拆分成 \"apple pen apple\"。\n",
    "    \n",
    "     注意你可以重复使用字典中的单词。\n",
    "        \n",
    "示例 3：\n",
    "\n",
    "\n",
    "输入: s = \"catsandog\", wordDict = [\"cats\", \"dog\", \"sand\", \"and\", \"cat\"]\n",
    "    \n",
    "输出: false"
   ]
  },
  {
   "cell_type": "markdown",
   "metadata": {},
   "source": [
    "## 思路\n",
    "\n",
    "动态规划： 建立一个数组dp，dp[i] 为s[0:i+1] 前是否都在字典中，判断条件是 s[:i]（整体） 在worddict 或者 s[:j] 和 [j+1:i] 都在 worddict 中\n",
    "\n",
    "\n",
    "注意： 初始化的换\n"
   ]
  },
  {
   "cell_type": "code",
   "execution_count": 10,
   "metadata": {},
   "outputs": [],
   "source": [
    "class Solution(object):\n",
    "    def wordBreak(self, s, wordDict):\n",
    "        \"\"\"\n",
    "        :type s: str\n",
    "        :type wordDict: List[str]\n",
    "        :rtype: bool\n",
    "        \"\"\"\n",
    "        n = len(s)\n",
    "        dp = [False for _ in range(n)]\n",
    "        \n",
    "        for i in range(n):\n",
    "            if s[:i + 1] in wordDict:\n",
    "                dp[i] = True\n",
    "            else:\n",
    "                for j in range(i):\n",
    "                    if dp[j] and s[j+ 1: i + 1] in wordDict:\n",
    "                        dp[i] = True\n",
    "        \n",
    "        return dp[-1]\n",
    "t = Solution()               "
   ]
  },
  {
   "cell_type": "code",
   "execution_count": 11,
   "metadata": {},
   "outputs": [
    {
     "data": {
      "text/plain": [
       "False"
      ]
     },
     "execution_count": 11,
     "metadata": {},
     "output_type": "execute_result"
    }
   ],
   "source": [
    "s = \"catsandog\"\n",
    "wordDict = [\"cats\", \"dog\", \"sand\", \"and\", \"cat\"]\n",
    "t.wordBreak(s, wordDict)"
   ]
  },
  {
   "cell_type": "code",
   "execution_count": 12,
   "metadata": {},
   "outputs": [
    {
     "data": {
      "text/plain": [
       "True"
      ]
     },
     "execution_count": 12,
     "metadata": {},
     "output_type": "execute_result"
    }
   ],
   "source": [
    "s = \"applepenapple\"\n",
    "wordDict = [\"apple\", \"pen\"]\n",
    "t.wordBreak(s, wordDict)\n"
   ]
  },
  {
   "cell_type": "code",
   "execution_count": null,
   "metadata": {},
   "outputs": [],
   "source": []
  }
 ],
 "metadata": {
  "kernelspec": {
   "display_name": "Python 2",
   "language": "python",
   "name": "python2"
  },
  "language_info": {
   "codemirror_mode": {
    "name": "ipython",
    "version": 2
   },
   "file_extension": ".py",
   "mimetype": "text/x-python",
   "name": "python",
   "nbconvert_exporter": "python",
   "pygments_lexer": "ipython2",
   "version": "2.7.15"
  }
 },
 "nbformat": 4,
 "nbformat_minor": 2
}
