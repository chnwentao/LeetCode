{
 "cells": [
  {
   "cell_type": "markdown",
   "metadata": {},
   "source": [
    "以 Unix 风格给出一个文件的绝对路径，你需要简化它。或者换句话说，将其转换为规范路径。\n",
    "\n",
    "在 Unix 风格的文件系统中，一个点（.）表示当前目录本身；此外，两个点 （..） 表示将目录切换到上一级（指向父目录）；两者都可以是复杂相对路径的组成部分。更多信息请参阅：Linux / Unix中的绝对路径 vs 相对路径\n",
    "\n",
    "请注意，返回的规范路径必须始终以斜杠 / 开头，并且两个目录名之间必须只有一个斜杠 /。最后一个目录名（如果存在）不能以 / 结尾。此外，规范路径必须是表示绝对路径的最短字符串。\n",
    "\n",
    " \n",
    "\n",
    "示例 1：\n",
    "\n",
    "输入：\"/home/\"\n",
    "\n",
    "\n",
    "输出：\"/home\"\n",
    "\n",
    "解释：注意，最后一个目录名后面没有斜杠。\n",
    "\n",
    "示例 2：\n",
    "\n",
    "输入：\"/../\"\n",
    "\n",
    "输出：\"/\"\n",
    "\n",
    "解释：从根目录向上一级是不可行的，因为根是你可以到达的最高级。\n",
    "\n",
    "示例 3：\n",
    "\n",
    "输入：\"/home//foo/\"\n",
    "\n",
    "输出：\"/home/foo\"\n",
    "\n",
    "解释：在规范路径中，多个连续斜杠需要用一个斜杠替换。\n",
    "\n",
    "示例 4：\n",
    "\n",
    "输入：\"/a/./b/../../c/\"\n",
    "\n",
    "输出：\"/c\"\n",
    "\n",
    "示例 5：\n",
    "\n",
    "输入：\"/a/../../b/../c//.//\"\n",
    "\n",
    "输出：\"/c\"\n",
    "\n",
    "示例 6：\n",
    "\n",
    "输入：\"/a//b////c/d//././/..\"\n",
    "\n",
    "输出：\"/a/b/c\""
   ]
  },
  {
   "cell_type": "markdown",
   "metadata": {},
   "source": [
    "## 思路\n",
    "\n",
    "- 将路径按照 斜杠`/` 分割。 \n",
    "\n",
    "- 从根节点开始，将有意义的（非 空， 非 `.`） 入栈，遇见 '..' 出栈。\n",
    "\n",
    "- join 栈中的数据 。细节 注意前面加上 `/`"
   ]
  },
  {
   "cell_type": "markdown",
   "metadata": {},
   "source": [
    "代码（Python）：时间O(n), 空间O(n)"
   ]
  },
  {
   "cell_type": "code",
   "execution_count": 2,
   "metadata": {},
   "outputs": [],
   "source": [
    "class Solution(object):\n",
    "    def simplifyPath(self, path):\n",
    "        \"\"\"\n",
    "        :type path: str\n",
    "        :rtype: str\n",
    "        \"\"\"\n",
    "        path = path.split('/')\n",
    "        new_path = []\n",
    "        for name in path:\n",
    "            if name == '' or name ==  '.':\n",
    "                continue\n",
    "            elif name == '..':\n",
    "                if new_path:\n",
    "                    new_path.pop()\n",
    "            else:\n",
    "                new_path.append(name)\n",
    "        \n",
    "        return '/' + \"/\".join(new_path)\n",
    "                "
   ]
  },
  {
   "cell_type": "code",
   "execution_count": null,
   "metadata": {},
   "outputs": [],
   "source": []
  }
 ],
 "metadata": {
  "kernelspec": {
   "display_name": "Python 2",
   "language": "python",
   "name": "python2"
  },
  "language_info": {
   "codemirror_mode": {
    "name": "ipython",
    "version": 2
   },
   "file_extension": ".py",
   "mimetype": "text/x-python",
   "name": "python",
   "nbconvert_exporter": "python",
   "pygments_lexer": "ipython2",
   "version": "2.7.15"
  }
 },
 "nbformat": 4,
 "nbformat_minor": 2
}
