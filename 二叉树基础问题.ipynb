{
 "cells": [
  {
   "cell_type": "code",
   "execution_count": 17,
   "metadata": {
    "collapsed": true
   },
   "outputs": [],
   "source": [
    "class TreeNode:  \n",
    "    def __init__(self, x):  \n",
    "        self.val = x  \n",
    "        self.left = None  \n",
    "        self.right = None\n",
    "tree = TreeNode(0)\n",
    "\n",
    "tree.left = TreeNode(1)\n",
    "tree.right = TreeNode(2)\n",
    "\n",
    "tree.left.left = TreeNode(3)\n",
    "tree.right.left = TreeNode(7)\n",
    "\n",
    "tree.left.left.right = TreeNode(4)\n"
   ]
  },
  {
   "cell_type": "markdown",
   "metadata": {},
   "source": [
    "### 二叉树的深度\n",
    "- 方法：递归遍历，返回 左右 + 1 的 max "
   ]
  },
  {
   "cell_type": "code",
   "execution_count": 18,
   "metadata": {},
   "outputs": [
    {
     "name": "stdout",
     "output_type": "stream",
     "text": [
      "4\n"
     ]
    }
   ],
   "source": [
    "def tree_deep(node):\n",
    "    if node is None:\n",
    "        return 0\n",
    "    left = tree_deep(node.left)\n",
    "    right = tree_deep(node.right)\n",
    "    return max(left + 1, right + 1 )\n",
    "# test\n",
    "print tree_deep(tree)"
   ]
  },
  {
   "cell_type": "markdown",
   "metadata": {},
   "source": [
    "## 求二叉树的镜像\n",
    "- 方法：递归遍历，翻转左右节点，就正好是镜像了"
   ]
  },
  {
   "cell_type": "code",
   "execution_count": 23,
   "metadata": {},
   "outputs": [],
   "source": [
    "def __swap(node):\n",
    "    \"\"\"翻转左右节点\"\"\"\n",
    "    tmp = node.left\n",
    "    node.left = node.right\n",
    "    node.right = tmp\n",
    "    return node\n",
    "    \n",
    "def mirror_tree(node):\n",
    "    if node is None:\n",
    "        return \n",
    "    __swap(node)\n",
    "    mirror_tree(node.left)\n",
    "    mirror_tree(node.right)\n",
    "    "
   ]
  },
  {
   "cell_type": "markdown",
   "metadata": {},
   "source": [
    "## 层序遍历 （非递归）\n",
    "\n",
    "使用队列，先append root, 然后循环（队列不为空）：pop 头结点，输出，再append 左右节点"
   ]
  },
  {
   "cell_type": "code",
   "execution_count": 1,
   "metadata": {},
   "outputs": [],
   "source": [
    "def level(node):\n",
    "    q = list()\n",
    "    q.append(node)\n",
    "    while q:\n",
    "        node =  q.pop(0)\n",
    "        if node.left:\n",
    "            q.append(node.left)\n",
    "        if node.right:\n",
    "            q.append(node.right)\n",
    "        print node.val\n",
    "## test\n",
    "# level(tree)"
   ]
  },
  {
   "cell_type": "markdown",
   "metadata": {},
   "source": [
    "## 先序遍历 （非递归）\n",
    "\n",
    "使用堆栈，先append root, 然后循环（队列不为空）：pop 头结点，输出，再append 左右节点"
   ]
  },
  {
   "cell_type": "code",
   "execution_count": null,
   "metadata": {
    "collapsed": true
   },
   "outputs": [],
   "source": [
    "def pre(node):\n",
    "    q = list()\n",
    "    q.append(node)\n",
    "    while q:\n",
    "        node =  q.pop()\n",
    "        if node.left:\n",
    "            q.append(node.left)\n",
    "        if node.right:\n",
    "            q.append(node.right)\n",
    "        print node.val"
   ]
  },
  {
   "cell_type": "code",
   "execution_count": null,
   "metadata": {
    "collapsed": true
   },
   "outputs": [],
   "source": []
  },
  {
   "cell_type": "markdown",
   "metadata": {},
   "source": [
    "第一道求二叉树中某个节点是否出现，如果出现，求深度最大的那个，第二道求二叉树的宽度，在这里：http://blog.csdn.net/free_to_fly/article/details/38737327，"
   ]
  },
  {
   "cell_type": "code",
   "execution_count": null,
   "metadata": {
    "collapsed": true
   },
   "outputs": [],
   "source": []
  },
  {
   "cell_type": "code",
   "execution_count": null,
   "metadata": {
    "collapsed": true
   },
   "outputs": [],
   "source": []
  },
  {
   "cell_type": "code",
   "execution_count": null,
   "metadata": {
    "collapsed": true
   },
   "outputs": [],
   "source": [
    "## 参考\n",
    "[ 轻松搞定面试中的二叉树题目](http://blog.csdn.net/luckyxiaoqiang/article/details/7518888)"
   ]
  }
 ],
 "metadata": {
  "kernelspec": {
   "display_name": "Python 2",
   "language": "python",
   "name": "python2"
  },
  "language_info": {
   "codemirror_mode": {
    "name": "ipython",
    "version": 2
   },
   "file_extension": ".py",
   "mimetype": "text/x-python",
   "name": "python",
   "nbconvert_exporter": "python",
   "pygments_lexer": "ipython2",
   "version": "2.7.13"
  }
 },
 "nbformat": 4,
 "nbformat_minor": 1
}
