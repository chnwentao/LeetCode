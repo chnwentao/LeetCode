{
 "cells": [
  {
   "cell_type": "markdown",
   "metadata": {},
   "source": [
    "# 096. Unique Binary Search Trees  \n",
    "### Question\n",
    "- Total Accepted: 102641\n",
    "- Total Submissions: 260228\n",
    "- Difficulty: Medium\n",
    "\n",
    "Given n, how many structurally unique BST's (binary search trees) that store values 1...n?\n",
    "\n",
    "For example,\n",
    "Given n = 3, there are a total of 5 unique BST's.\n",
    "```\n",
    "\n",
    "   1         3     3      2      1\n",
    "    \\       /     /      / \\      \\\n",
    "     3     2     1      1   3      2\n",
    "    /     /       \\                 \\\n",
    "   2     1         2                 3\n",
    "```\n"
   ]
  },
  {
   "cell_type": "markdown",
   "metadata": {},
   "source": [
    "## 思路\n",
    "定义Count[i] 为以[0,i]能产生的Unique Binary Tree的数目，\n",
    "\n",
    "如果数组为空，毫无疑问，只有一种BST，即空树，\n",
    "Count[0] =1\n",
    "\n",
    "如果数组仅有一个元素{1}，只有一种BST，单个节点\n",
    "Count[1] = 1\n",
    "\n",
    "\n",
    "如果数组有两个元素{1,2}， 那么有如下两种可能\n",
    "```\n",
    "1                       2\n",
    "  \\                    /\n",
    "    2                1\n",
    "Count[2] = Count[0] * Count[1]   (1为根的情况)\n",
    "           + Count[1] * Count[0]  (2为根的情况。\n",
    "```\n",
    "\n",
    "再看一遍三个元素的数组，可以发现BST的取值方式如下：\n",
    "```\n",
    "Count[3] = Count[0]*Count[2]  (1为根的情况)\n",
    "               + Count[1]*Count[1]  (2为根的情况)\n",
    "               + Count[2]*Count[0]  (3为根的情况)\n",
    "```\n",
    "所以，由此观察，可以得出Count的递推公式为\n",
    "```\n",
    "Count[i] = ∑ Count[0...k] * [ n-1-k....i]     0<=k<i-1\n",
    "```\n",
    "\n",
    "问题至此划归为一维动态规划。\n",
    "\n",
    "所以思路也很明确了，维护量res[i]表示含有i个结点的二叉查找树的数量。根据上述递推式依次求出1到n的的结果即可。\n",
    "\n",
    "时间上每次求解i个结点的二叉查找树数量的需要一个i步的循环，总体要求n次，所以总时间复杂度是O(1+2+...+n)=O(n^2)。\n",
    "\n",
    "空间上需要一个数组来维护，并且需要前i个的所有信息，所以是O(n)。"
   ]
  },
  {
   "cell_type": "markdown",
   "metadata": {},
   "source": [
    "## 坑\n",
    "当数组为 1，2，3，4，.. i，.. n时，基于以下原则的BST建树具有唯一性：\n",
    "\n",
    ">以i为根节点的树，其左子树由[0, i-1]构成， 其右子树由[i+1, n]构成。"
   ]
  },
  {
   "cell_type": "markdown",
   "metadata": {},
   "source": [
    "## code Runtime: 58 ms"
   ]
  },
  {
   "cell_type": "code",
   "execution_count": 60,
   "metadata": {
    "collapsed": false
   },
   "outputs": [
    {
     "name": "stdout",
     "output_type": "stream",
     "text": [
      "14\n"
     ]
    }
   ],
   "source": [
    "class Solution(object):\n",
    "    def numTrees(self, n):\n",
    "        \"\"\"\n",
    "        :type n: int\n",
    "        :rtype: int\n",
    "        \"\"\"\n",
    "        if n == 0 or n == 1:\n",
    "            return 1\n",
    "        res = [0]*(n + 1)\n",
    "        res[0], res[1] = 1,1\n",
    "        \n",
    "        for i in range(2, n+1):\n",
    "            for j in range(i):\n",
    "                res[i] += res[j] * res[i - 1 -j]               \n",
    "        return res[n]\n",
    "t = Solution()\n",
    "res = t.numTrees(4)\n",
    "print res"
   ]
  },
  {
   "cell_type": "markdown",
   "metadata": {},
   "source": [
    "## 进一步思考\n",
    "这种求数量的题目一般都容易想到用动态规划的解法，这道题的模型正好是卡特兰数的定义。当然这道题还可以用卡特兰数的通项公式来求解，这样时间复杂度就可以降低到O(n)。\n",
    "[卡塔兰数](https://zh.wikipedia.org/wiki/%E5%8D%A1%E5%A1%94%E5%85%B0%E6%95%B0)"
   ]
  }
 ],
 "metadata": {
  "kernelspec": {
   "display_name": "Python 2",
   "language": "python",
   "name": "python2"
  },
  "language_info": {
   "codemirror_mode": {
    "name": "ipython",
    "version": 2
   },
   "file_extension": ".py",
   "mimetype": "text/x-python",
   "name": "python",
   "nbconvert_exporter": "python",
   "pygments_lexer": "ipython2",
   "version": "2.7.11"
  }
 },
 "nbformat": 4,
 "nbformat_minor": 0
}
