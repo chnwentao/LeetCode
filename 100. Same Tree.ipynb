{
 "cells": [
  {
   "cell_type": "markdown",
   "metadata": {},
   "source": [
    "# 100. Same Tree   \n",
    "## Question \n",
    "https://leetcode.com/problems/same-tree/\n",
    "\n",
    "Total Accepted: 164408\n",
    "\n",
    "Total Submissions: 366737\n",
    "\n",
    "Difficulty: Easy\n",
    "\n",
    "\n",
    "Given two binary trees, write a function to check if they are equal or not.\n",
    "\n",
    "Two binary trees are considered equal if they are structurally identical and the nodes have the same value"
   ]
  },
  {
   "cell_type": "markdown",
   "metadata": {},
   "source": [
    "## Solution \n",
    "题意：判断两棵树是否是同一棵树。\n",
    "\n",
    "解题思路：这题比较简单。用递归来做。首先判断两个根节点的值是否相同，如果相同，递归判断根的左右子"
   ]
  },
  {
   "cell_type": "markdown",
   "metadata": {},
   "source": [
    "## 坑\n",
    "- 类中递归的形式：  `return self.XXX`"
   ]
  },
  {
   "cell_type": "markdown",
   "metadata": {},
   "source": [
    "## 递归\n",
    "用递归来做。首先判断两个根节点的值是否相同，如果相同，递归判断根的左右子."
   ]
  },
  {
   "cell_type": "code",
   "execution_count": 4,
   "metadata": {
    "collapsed": true
   },
   "outputs": [],
   "source": [
    "# Definition for a binary tree node.\n",
    "# class TreeNode(object):\n",
    "#     def __init__(self, x):\n",
    "#         self.val = x\n",
    "#         self.left = None\n",
    "#         self.right = None\n",
    "\n",
    "class Solution(object):\n",
    "    def isSameTree(self, p, q):\n",
    "        \"\"\"\n",
    "        :type p: TreeNode\n",
    "        :type q: TreeNode\n",
    "        :rtype: bool\n",
    "        \"\"\"\n",
    "        ## 边界\n",
    "        if (p == None and q != None) or (p != None and q == None):\n",
    "            return False\n",
    "        \n",
    "        ## 返回条件\n",
    "        if p == None and q == None:\n",
    "            return True\n",
    "    \n",
    "        if p.val == q.val:\n",
    "            return self.isSameTree(p.left, q.left) and self.isSameTree(p.right, q.right)\n",
    "            \n",
    "        return False"
   ]
  },
  {
   "cell_type": "markdown",
   "metadata": {},
   "source": [
    "## 非递归 (栈，36m)\n",
    "首先把根节点入栈，然后在每次循环中执行以下操作：\n",
    "\n",
    "- 此时栈顶元素即为当前的根节点，弹出并打印当前的根节点。\n",
    "- 把当前根节点的右儿子和左儿子分别入栈（注意是右儿子先入栈左儿子后入栈，这样的话下次出栈的元素才是左儿子，这样才符合前序遍历的顺序要求：根节点->左儿子->右儿子）。"
   ]
  },
  {
   "cell_type": "code",
   "execution_count": 5,
   "metadata": {
    "collapsed": true
   },
   "outputs": [],
   "source": [
    "# Definition for a binary tree node.\n",
    "# class TreeNode(object):\n",
    "#     def __init__(self, x):\n",
    "#         self.val = x\n",
    "#         self.left = None\n",
    "#         self.right = None\n",
    "\n",
    "class Solution(object):\n",
    "    def isSameTree(self, p, q):\n",
    "        \"\"\"\n",
    "        :type p: TreeNode\n",
    "        :type q: TreeNode\n",
    "        :rtype: bool\n",
    "        \"\"\"\n",
    "        st = [(p, q)]\n",
    "       \n",
    "        while st1:\n",
    "            p, q = st.pop()\n",
    "            \n",
    "            if p == None and q == None:\n",
    "                continue\n",
    "            ## 边界\n",
    "            if p == None or q == None:\n",
    "                return False\n",
    "\n",
    "            if node1.val != node2.val:\n",
    "                return False\n",
    "            else:\n",
    "                st.append((p.right, q.right))\n",
    "                st.append((p.left, q.left))\n",
    "        return True         "
   ]
  },
  {
   "cell_type": "markdown",
   "metadata": {},
   "source": [
    "## 非递归 (队列，33m)"
   ]
  },
  {
   "cell_type": "code",
   "execution_count": 6,
   "metadata": {
    "collapsed": true
   },
   "outputs": [],
   "source": [
    "# Definition for a binary tree node.\n",
    "# class TreeNode(object):\n",
    "#     def __init__(self, x):\n",
    "#         self.val = x\n",
    "#         self.left = None\n",
    "#         self.right = None\n",
    "\n",
    "class Solution(object):\n",
    "    def isSameTree(self, p, q):\n",
    "        \"\"\"\n",
    "        :type p: TreeNode\n",
    "        :type q: TreeNode\n",
    "        :rtype: bool\n",
    "        \"\"\"\n",
    "        queue = [(p, q)]\n",
    "        while queue:\n",
    "            p, q = queue.pop(0)\n",
    "            if p == None and q == None:\n",
    "                continue\n",
    "            if p == None or q ==None:\n",
    "                return False\n",
    "            if p.val == q.val :\n",
    "                queue.append((p.left, q.left))\n",
    "                queue.append((p.right, q.right))\n",
    "            else:\n",
    "                return False\n",
    "        return True"
   ]
  }
 ],
 "metadata": {
  "kernelspec": {
   "display_name": "Python 2",
   "language": "python",
   "name": "python2"
  },
  "language_info": {
   "codemirror_mode": {
    "name": "ipython",
    "version": 2
   },
   "file_extension": ".py",
   "mimetype": "text/x-python",
   "name": "python",
   "nbconvert_exporter": "python",
   "pygments_lexer": "ipython2",
   "version": "2.7.11"
  }
 },
 "nbformat": 4,
 "nbformat_minor": 0
}
