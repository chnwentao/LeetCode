{
 "cells": [
  {
   "cell_type": "code",
   "execution_count": 1,
   "metadata": {},
   "outputs": [],
   "source": [
    "#\n",
    "# @lc app=leetcode.cn id=328 lang=python\n",
    "#\n",
    "# [328] 奇偶链表\n",
    "#\n",
    "# https://leetcode-cn.com/problems/odd-even-linked-list/description/\n",
    "#\n",
    "# algorithms\n",
    "# Medium (54.10%)\n",
    "# Total Accepted:    6.9K\n",
    "# Total Submissions: 12.8K\n",
    "# Testcase Example:  '[1,2,3,4,5]'\n",
    "#\n",
    "# 给定一个单链表，把所有的奇数节点和偶数节点分别排在一起。请注意，这里的奇数节点和偶数节点指的是节点编号的奇偶性，而不是节点的值的奇偶性。\n",
    "# \n",
    "# 请尝试使用原地算法完成。你的算法的空间复杂度应为 O(1)，时间复杂度应为 O(nodes)，nodes 为节点总数。\n",
    "# \n",
    "# 示例 1:\n",
    "# \n",
    "# 输入: 1->2->3->4->5->NULL\n",
    "# 输出: 1->3->5->2->4->NULL\n",
    "# \n",
    "# \n",
    "# 示例 2:\n",
    "# \n",
    "# 输入: 2->1->3->5->6->4->7->NULL \n",
    "# 输出: 2->3->6->7->1->5->4->NULL\n",
    "# \n",
    "# 说明:\n",
    "# \n",
    "# \n",
    "# 应当保持奇数节点和偶数节点的相对顺序。\n",
    "# 链表的第一个节点视为奇数节点，第二个节点视为偶数节点，以此类推。\n",
    "# \n",
    "# \n",
    "#\n",
    "# Definition for singly-linked list.\n",
    "# class ListNode(object):\n",
    "#     def __init__(self, x):\n",
    "#         self.val = x\n",
    "#         self.next = None\n",
    "\n",
    "class Solution(object):\n",
    "    def oddEvenList(self, head):\n",
    "        \"\"\"\n",
    "        :type head: ListNode\n",
    "        :rtype: ListNode\n",
    "        \"\"\"\n",
    "        \n",
    "\n"
   ]
  },
  {
   "cell_type": "markdown",
   "metadata": {},
   "source": [
    "## 审题\n",
    "\n",
    "将所有奇数位置的结点移动到偶数位置结点的前面\n",
    "\n",
    "in place\n",
    "\n",
    "O(1) space complexity and O(nodes) time complexity\n",
    "\n",
    "保持相对位置不变\n"
   ]
  },
  {
   "cell_type": "markdown",
   "metadata": {},
   "source": [
    "## 思路\n",
    "\n",
    "头节点(head)设为奇数位(odd), 头节点的next(head.next)设为偶数位。\n",
    "\n",
    "将even_head指向第一个偶数位。\n",
    "\n",
    "while 分别将奇数位节点、偶数位节点连接。 注意的是退出条件： even and even.next:\n",
    "\n",
    "奇数位的最后一个节点指向偶数位的第一个节点(even_head)\n",
    "\n"
   ]
  },
  {
   "cell_type": "code",
   "execution_count": null,
   "metadata": {},
   "outputs": [],
   "source": [
    "class Solution(object):\n",
    "    def oddEvenList(self, head):\n",
    "        \"\"\"\n",
    "        :type head: ListNode\n",
    "        :rtype: ListNode\n",
    "        \"\"\"\n",
    "        if not head or not head.next:\n",
    "            return head\n",
    "        odd = head\n",
    "        even = head.next\n",
    "        even_head  = even # 这是本提的特点\n",
    "        while even and even.next: # 注意退出条件\n",
    "            odd.next = odd.next.next\n",
    "            if odd.next: # 这一步是 易错点\n",
    "                odd = odd.next\n",
    "            even.next = even.next.next\n",
    "            even = even.next\n",
    "        odd.next = even_head\n",
    "        \n",
    "        return head \n",
    "            \n",
    "            \n",
    "            "
   ]
  }
 ],
 "metadata": {
  "kernelspec": {
   "display_name": "Python 2",
   "language": "python",
   "name": "python2"
  },
  "language_info": {
   "codemirror_mode": {
    "name": "ipython",
    "version": 2
   },
   "file_extension": ".py",
   "mimetype": "text/x-python",
   "name": "python",
   "nbconvert_exporter": "python",
   "pygments_lexer": "ipython2",
   "version": "2.7.15"
  }
 },
 "nbformat": 4,
 "nbformat_minor": 2
}
