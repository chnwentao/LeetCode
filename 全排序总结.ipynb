{
 "cells": [
  {
   "cell_type": "markdown",
   "metadata": {},
   "source": [
    "对数组进行全排列是一个比较常见问题，如果是一个比较喜欢考算法的公司（貌似一些大公司都比较喜欢考算法），那么估计就会考察应聘者这个全排列的问题了（就算不让你编写完整代码，也会让你描述大致的思路）。\n",
    "### 问题定义\n",
    "\n",
    "对于一个给定的序列 a = [a1, a2, a3, … , an]，请设计一个算法，用于输出这个序列的全部排列方式。 \n",
    "例如：a = [1, 2, 3] \n",
    "输出\n",
    "\n",
    "```\n",
    "[1, 2, 3]\n",
    "[1, 3, 2]\n",
    "[2, 1, 3]\n",
    "[2, 3, 1]\n",
    "[3, 2, 1]\n",
    "[3, 1, 2]\n",
    "```\n",
    "\n",
    "如果要按从小到大输出呢？算法又要怎么写？"
   ]
  },
  {
   "cell_type": "markdown",
   "metadata": {},
   "source": [
    "## 所有元素均无相同的情况\n",
    "### 递归实现\n",
    "\n",
    "全排列可以看做固定前i位，对第i+1位之后的再进行全排列，比如固定第一位，后面跟着n-1位的全排列。那么解决n-1位元素的全排列就能解决n位元素的全排列了，"
   ]
  },
  {
   "cell_type": "code",
   "execution_count": 1,
   "metadata": {},
   "outputs": [
    {
     "name": "stdout",
     "output_type": "stream",
     "text": [
      "[1, 2, 3]\n",
      "[1, 3, 2]\n",
      "[2, 1, 3]\n",
      "[2, 3, 1]\n",
      "[3, 2, 1]\n",
      "[3, 1, 2]\n"
     ]
    }
   ],
   "source": [
    "class Solution(object):\n",
    "    def getPermutation(self, in_list):\n",
    "        n  = len(in_list)\n",
    "        self.fullarray(in_list, 0, n - 1)\n",
    "\n",
    "    def fullarray(self, in_list, cursor, end):\n",
    "        if cursor == end :\n",
    "            print in_list\n",
    "        else:\n",
    "            # for循环遍历该排列中第一个位置的所有可能情况  \n",
    "            for i in range(cursor,end + 1):\n",
    "                in_list[i], in_list[cursor] = in_list[cursor], in_list[i] # 把第i个和第sbegin进行交换  \n",
    "                self.fullarray(in_list, cursor + 1, end)\n",
    "                in_list[i], in_list[cursor] = in_list[cursor], in_list[i]  # 交换回来 \n",
    "    \n",
    "    \n",
    "t = Solution()\n",
    "t.getPermutation([1,2,3])"
   ]
  },
  {
   "cell_type": "markdown",
   "metadata": {},
   "source": [
    "### 非递归 - 字典排序找后继 \n",
    "以6个数字的全排列为例说明，相当于用1,2,3,4,5,6 构造一个六位数，每一位上取一个数，这样一共有6！中方法。\n",
    "很显然，这6！个数是有大小的，如果按从小到大排列，示意如下：\n",
    "```\n",
    "1 2 3 4 5 6\n",
    "1 2 3 4 6 5\n",
    "1 2 3 5 4 6\n",
    "…………\n",
    "6 5 4 3 2 1\n",
    "```\n",
    "显然 ， 每个数有 **唯一后继**  ！ 如果找到一个数没有后继（6 5 4 3 2 1），则停止。\n",
    "\n",
    "那么问题的重点在于如何判断是否有后继，以及怎样找到后继 !\n",
    "\n",
    "是否有后继很好判断，唯一没有后继的只有654321,它的特点是每位的数字比后面的大！\n",
    "\n",
    "如何找到后继，思路很清楚，即对于一个数，找到一个比它大的、最小的数！\n",
    "\n",
    "基本思想是:\n",
    "\n",
    "1.对初始队列进行排序，找到所有排列中最小的一个排列Pmin。\n",
    "\n",
    "2.找到刚刚好比Pmin大比其它都小的排列P(min+1)。\n",
    "\n",
    "3.循环执行第二步,直到找到一个最大的排列,算法结束。"
   ]
  },
  {
   "cell_type": "code",
   "execution_count": 47,
   "metadata": {},
   "outputs": [
    {
     "name": "stdout",
     "output_type": "stream",
     "text": [
      "[1, 2, 3, 4]\n",
      "[1, 2, 4, 3]\n",
      "[1, 3, 2, 4]\n",
      "[1, 3, 4, 2]\n",
      "[1, 4, 2, 3]\n",
      "[1, 4, 3, 2]\n",
      "[2, 1, 3, 4]\n",
      "[2, 1, 4, 3]\n",
      "[2, 3, 1, 4]\n",
      "[2, 3, 4, 1]\n",
      "[2, 4, 1, 3]\n",
      "[2, 4, 3, 1]\n",
      "[3, 1, 2, 4]\n",
      "[3, 1, 4, 2]\n",
      "[3, 2, 1, 4]\n",
      "[3, 2, 4, 1]\n",
      "[3, 4, 1, 2]\n",
      "[3, 4, 2, 1]\n",
      "[4, 1, 2, 3]\n",
      "[4, 1, 3, 2]\n",
      "[4, 2, 1, 3]\n",
      "[4, 2, 3, 1]\n",
      "[4, 3, 1, 2]\n",
      "[4, 3, 2, 1]\n"
     ]
    }
   ],
   "source": [
    "class Solution(object):\n",
    "    def getPermutation(self, in_list):\n",
    "        if len(in_list) < 2:\n",
    "            return\n",
    "        \n",
    "        n  = len(in_list)\n",
    "        # 按字典排序\n",
    "        in_list.sort()\n",
    "        flag = True\n",
    "        while flag:\n",
    "            print in_list\n",
    "            \n",
    "            p1 = 0\n",
    "            # 找到不符合趋势的元素的下标p1  \n",
    "            for i in xrange( n - 2, -1 , -1 ):\n",
    "                if in_list[i] < in_list[i + 1]:\n",
    "                    p1 = i\n",
    "                    break\n",
    "                # 完全符合趋势_没有后继_遍历结束   \n",
    "                elif i == 0:                    \n",
    "                    flag = False\n",
    "            \n",
    "            ## 从后向前,找到第一个比p1大的数j ，交换 p1 ,j 两个数      \n",
    "            for j in xrange(n-1, -1, -1):\n",
    "                if in_list[j]> in_list[p1]:                    \n",
    "                    in_list[p1], in_list[j] = in_list[j], in_list[p1]\n",
    "                    break\n",
    "            \n",
    "            \n",
    "            # 将数组a中的下标p1之后 的所有元素逆序倒置---> 所得到的新排列才刚刚好比上个排列大一。 \n",
    "            left = p1 + 1\n",
    "            right = n - 1\n",
    "            in_list[left : right + 1] =  in_list[right : left - 1 :-1]\n",
    "\n",
    "t = Solution()\n",
    "t.getPermutation([1, 2, 3,4])"
   ]
  },
  {
   "cell_type": "markdown",
   "metadata": {},
   "source": [
    "##  元素中有相同的情况"
   ]
  },
  {
   "cell_type": "code",
   "execution_count": 36,
   "metadata": {
    "collapsed": true
   },
   "outputs": [],
   "source": [
    " left = 2\n",
    "right = 5\n",
    "a[ left : right+1 ] = a[ right : left-1 : -1 ]"
   ]
  },
  {
   "cell_type": "code",
   "execution_count": 37,
   "metadata": {},
   "outputs": [
    {
     "data": {
      "text/plain": [
       "[1, 2, 6, 3, 4, 5]"
      ]
     },
     "execution_count": 37,
     "metadata": {},
     "output_type": "execute_result"
    }
   ],
   "source": [
    "a"
   ]
  },
  {
   "cell_type": "code",
   "execution_count": null,
   "metadata": {
    "collapsed": true
   },
   "outputs": [],
   "source": []
  }
 ],
 "metadata": {
  "kernelspec": {
   "display_name": "Python 2",
   "language": "python",
   "name": "python2"
  },
  "language_info": {
   "codemirror_mode": {
    "name": "ipython",
    "version": 2
   },
   "file_extension": ".py",
   "mimetype": "text/x-python",
   "name": "python",
   "nbconvert_exporter": "python",
   "pygments_lexer": "ipython2",
   "version": "2.7.13"
  }
 },
 "nbformat": 4,
 "nbformat_minor": 1
}
