{
 "cells": [
  {
   "cell_type": "markdown",
   "metadata": {},
   "source": [
    "3.时间复杂度:O(log2n);\n",
    "\n",
    "注意：二分查找的前提必须待查找的序列有序。"
   ]
  },
  {
   "cell_type": "code",
   "execution_count": 2,
   "metadata": {},
   "outputs": [
    {
     "name": "stdout",
     "output_type": "stream",
     "text": [
      "2\n",
      "3\n"
     ]
    }
   ],
   "source": [
    "def search(arr, t):\n",
    "    low = 0\n",
    "    high = len(arr) - 1\n",
    "    while low < high:\n",
    "        mid = (high + low) / 2\n",
    "        if arr[mid] > t:\n",
    "            high = mid\n",
    "        elif arr[mid] < t:\n",
    "            low = mid\n",
    "        else:\n",
    "            return mid\n",
    "    return -1\n",
    "\n",
    "arr = [1, 3, 4, 5 ,6, 8, 9, 10, 20]\n",
    "print search(arr, 4)\n",
    "print  search(arr, 5)"
   ]
  },
  {
   "cell_type": "code",
   "execution_count": null,
   "metadata": {},
   "outputs": [],
   "source": []
  }
 ],
 "metadata": {
  "kernelspec": {
   "display_name": "Python 2",
   "language": "python",
   "name": "python2"
  },
  "language_info": {
   "codemirror_mode": {
    "name": "ipython",
    "version": 2
   },
   "file_extension": ".py",
   "mimetype": "text/x-python",
   "name": "python",
   "nbconvert_exporter": "python",
   "pygments_lexer": "ipython2",
   "version": "2.7.15"
  }
 },
 "nbformat": 4,
 "nbformat_minor": 2
}
