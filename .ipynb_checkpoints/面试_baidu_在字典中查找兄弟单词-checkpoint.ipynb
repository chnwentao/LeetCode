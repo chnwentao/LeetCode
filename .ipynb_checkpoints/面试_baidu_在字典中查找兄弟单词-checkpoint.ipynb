{
 "cells": [
  {
   "cell_type": "markdown",
   "metadata": {},
   "source": [
    "### 题目 ：\n",
    "一个单词如果交换其所含字母顺序，得到的单词称为兄弟单词，例如mary和army是兄弟单词，即所含字母是一样的，只是字母顺序不同，用户输入一个单词，要求在一个字典中找出该单词的所有兄弟单词，并输出。给出相应的数据结构及算法。要求时间和空间复杂度尽可能。\n",
    "\n",
    "### 知识点 ： \n",
    "\n",
    "根据数学定理：任何一个大于1的自然数N，都可以唯一分解成有限个质数的乘积\n",
    "\n",
    "例如：a=2 b=3 c=5 d=7 e=11... f(abcd)=2*3*5*7=210 然后 然后字典里找乘积210的位数相同的一定是这5个字母组合的单词就是兄弟单词\n",
    "\n",
    "### 解法\n",
    "\n",
    "解法一：\n",
    "- 使用hash_map和链表。 \n",
    "- 首先定义一个key，使得兄弟单词有相同的key，不是兄弟的单词有不同的key。例如，将单词按字母从小到大重新排序后作为其key，比如bad的key为abd，good的key为dgoo。 \n",
    "- 使用链表将所有兄弟单词串在一起，hash_map的key为单词的key，value为链表的起始地址。 \n",
    "- 开始时，先遍历字典，将每个单词都按照key加入到对应的链表当中。当需要找兄弟单词时，只需求取这个单词的key，然后到hash_map中找到对应的链表即可。 \n",
    "- 这样创建hash_map时时间复杂度为O(n)，查找兄弟单词时时间复杂度是O(1)。\n",
    " \n",
    "解法二：\n",
    "- 同样使用hash_map和链表。\n",
    "- 将每一个字母对应一个质数，然后让对应的质数相乘，将得到的值进行hash，这样兄弟单词的值就是一样的了，并且不同单词的质数相乘积肯定不同。\n",
    "- 使用链表将所有兄弟单词串在一起，hash_map的key为单词的质数相乘积，value为链表的起始地址。\n",
    "- 对于用户输入的单词进行计算，然后查找hash，将链表遍历输出就得到所有兄弟单词。\n",
    "- 这样创建hash_map时时间复杂度为O(n)，查找兄弟单词时时间复杂度是O(1)。\n",
    "\n"
   ]
  }
 ],
 "metadata": {
  "kernelspec": {
   "display_name": "Python 2",
   "language": "python",
   "name": "python2"
  },
  "language_info": {
   "codemirror_mode": {
    "name": "ipython",
    "version": 2
   },
   "file_extension": ".py",
   "mimetype": "text/x-python",
   "name": "python",
   "nbconvert_exporter": "python",
   "pygments_lexer": "ipython2",
   "version": "2.7.15"
  }
 },
 "nbformat": 4,
 "nbformat_minor": 1
}
