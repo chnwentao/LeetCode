{
 "cells": [
  {
   "cell_type": "code",
   "execution_count": null,
   "metadata": {},
   "outputs": [],
   "source": [
    "#\n",
    "# @lc app=leetcode.cn id=131 lang=python\n",
    "#\n",
    "# [131] 分割回文串\n",
    "#\n",
    "# https://leetcode-cn.com/problems/palindrome-partitioning/description/\n",
    "#\n",
    "# algorithms\n",
    "# Medium (61.86%)\n",
    "# Total Accepted:    3.4K\n",
    "# Total Submissions: 5.5K\n",
    "# Testcase Example:  '\"aab\"'\n",
    "#\n",
    "# 给定一个字符串 s，将 s 分割成一些子串，使每个子串都是回文串。\n",
    "# \n",
    "# 返回 s 所有可能的分割方案。\n",
    "# \n",
    "# 示例:\n",
    "# \n",
    "# 输入: \"aab\"\n",
    "# 输出:\n",
    "# [\n",
    "# ⁠ [\"aa\",\"b\"],\n",
    "# ⁠ [\"a\",\"a\",\"b\"]\n",
    "# ]\n",
    "# \n",
    "#\n",
    "class Solution(object):\n",
    "    def partition(self, s):\n",
    "        \"\"\"\n",
    "        :type s: str\n",
    "        :rtype: List[List[str]]\n",
    "        \"\"\"\n",
    "        "
   ]
  },
  {
   "cell_type": "markdown",
   "metadata": {},
   "source": [
    "思路、\n",
    "\n",
    "分割子串，子串返回有限制，第一反应是动态规划， 因为是子集问题，是需要用到 dfs 的"
   ]
  },
  {
   "cell_type": "markdown",
   "metadata": {},
   "source": [
    "方法1： 直接采用 深度优先的方式递归调用\n",
    "\n",
    "基本形式：\n",
    "1. 当 输入s 是一个字符的话，直接返回，因为他肯定是个回文，注意返回的是嵌套的`[['a']]`\n",
    "2. 其他情况，定义输出list, 自身如果是个回文，也一种输出，注意保存，然后对 s 遍历分割 为 s1 , s2\n",
    "    - 当 s1 不是回文的时候，不处理，因为这种分割是无效的。\n",
    "    - s1 是回文 就递归 处理s2, 然后在返回的 list 的每种结果的头部 插入 s1 就是结果，（s2 肯定有结果的，）"
   ]
  },
  {
   "cell_type": "code",
   "execution_count": 32,
   "metadata": {},
   "outputs": [],
   "source": [
    "class Solution(object):\n",
    "    def partition(self, s):\n",
    "        \"\"\"\n",
    "        :type s: str\n",
    "        :rtype: List[List[str]]\n",
    "        \"\"\"\n",
    "        \n",
    "        if len(s) == 1:\n",
    "            return [[s]]\n",
    "        else:\n",
    "            p_list = []\n",
    "            \n",
    "            if s == s[::-1]:\n",
    "                p_list.append(s)\n",
    "            \n",
    "            for i in range(1,len(s)):\n",
    "                s1 = s[:i]\n",
    "                s2 = s[i:]\n",
    "                if s1 != s1[::-1]:\n",
    "                    continue\n",
    "                sub_l = self.partition(s2)\n",
    "                for sub in sub_l:    \n",
    "                    sub.insert(0, s1)\n",
    "                    p_list.append(sub)\n",
    "    \n",
    "        return p_list"
   ]
  },
  {
   "cell_type": "code",
   "execution_count": 33,
   "metadata": {},
   "outputs": [
    {
     "data": {
      "text/plain": [
       "[['a', 'a', 'b'], ['aa', 'b']]"
      ]
     },
     "execution_count": 33,
     "metadata": {},
     "output_type": "execute_result"
    }
   ],
   "source": [
    "t = Solution()\n",
    "s = 'aab'\n",
    "t.partition(s)"
   ]
  },
  {
   "cell_type": "code",
   "execution_count": null,
   "metadata": {},
   "outputs": [],
   "source": [
    "方法2： 就是 dp + dfs \n",
    "\n",
    "先定义个二位数组db，db[i]保存的是字符串中以 i 为开头的回文的 的结尾字符串的位置\n",
    "\n",
    "然后定义 dfs 递归函数 ( start, cur_part ): 对遍历输入的 start 的位置的dp[start] 字符的位置：\n",
    "    - sub_res 先加入当前节点，然后加入 dp 中保存的回文[start: i + 1]\n",
    "    - 如果 i 已经到低了，则加入sub_res 到 res\n",
    "    - 否则，对该回文 进行dfs 递归。"
   ]
  },
  {
   "cell_type": "code",
   "execution_count": 68,
   "metadata": {},
   "outputs": [],
   "source": [
    "class Solution(object):\n",
    "    def partition(self, s):\n",
    "        \"\"\"\n",
    "        :type s: str\n",
    "        :rtype: List[List[str]]\n",
    "        \"\"\"\n",
    "        dp = [[] for _ in s]\n",
    "        for i in range(len(s)):\n",
    "            for j in range(i, len(s)):\n",
    "\n",
    "                if s[i: j + 1] == s[i: j + 1][::-1]:\n",
    "                    dp[i].append(j)\n",
    "        res = []\n",
    "        def dfs(start, cur_part):\n",
    "            for end  in dp[start]:  # 遍历\n",
    "                sub_res = cur_part[:]\n",
    "                sub_res.append(s[start: end + 1])\n",
    "                \n",
    "                if end + 1 >= len(s): # check \n",
    "                    res.append(sub_res) # 输出 handle \n",
    "                else:\n",
    "                    dfs(end + 1, sub_res)\n",
    "            \n",
    "        dfs(0, [])\n",
    "        return res"
   ]
  },
  {
   "cell_type": "code",
   "execution_count": 69,
   "metadata": {},
   "outputs": [
    {
     "name": "stdout",
     "output_type": "stream",
     "text": [
      "[[0, 1], [1], [2]]\n",
      "0\n",
      "1\n",
      "2\n",
      "1\n",
      "2\n"
     ]
    },
    {
     "data": {
      "text/plain": [
       "[['a', 'a', 'b'], ['aa', 'b']]"
      ]
     },
     "execution_count": 69,
     "metadata": {},
     "output_type": "execute_result"
    }
   ],
   "source": [
    "t = Solution()\n",
    "s = 'aab'\n",
    "t.partition(s)"
   ]
  },
  {
   "cell_type": "markdown",
   "metadata": {},
   "source": [
    "## 参考\n",
    "[LeetCode：字符串的回文划分 | Yong's Blog](https://blog.yongli1992.com/2015/01/28/leetcode-palindrome-partitioning/ )"
   ]
  },
  {
   "cell_type": "markdown",
   "metadata": {},
   "source": []
  }
 ],
 "metadata": {
  "kernelspec": {
   "display_name": "Python 2",
   "language": "python",
   "name": "python2"
  },
  "language_info": {
   "codemirror_mode": {
    "name": "ipython",
    "version": 2
   },
   "file_extension": ".py",
   "mimetype": "text/x-python",
   "name": "python",
   "nbconvert_exporter": "python",
   "pygments_lexer": "ipython2",
   "version": "2.7.15"
  }
 },
 "nbformat": 4,
 "nbformat_minor": 2
}
