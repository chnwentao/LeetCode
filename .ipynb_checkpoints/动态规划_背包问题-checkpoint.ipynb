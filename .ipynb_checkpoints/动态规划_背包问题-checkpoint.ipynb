{
 "cells": [
  {
   "cell_type": "markdown",
   "metadata": {},
   "source": [
    "### 题目\n",
    "有N件物品和一个容量为V的背包。第i件物品的费用是c[i]，价值是w[i]。求解将哪些物品装入背包可使价值总和最大。\n",
    "\n",
    "### 基本思路\n",
    "\n",
    "这是最基础的背包问题，特点是：每种物品仅有一件，可以选择放或不放。\n",
    "\n",
    "用子问题定义状态：即`f[i][v`]表示前i件物品恰放入一个容量为v的背包可以获得的最大价值。则其状态转移方程便是：\n",
    "\n",
    "```f[i][v]=max{f[i-1][v],f[i-1][v-c[i]]+w[i]}```"
   ]
  },
  {
   "cell_type": "code",
   "execution_count": 2,
   "metadata": {},
   "outputs": [
    {
     "ename": "SyntaxError",
     "evalue": "duplicate argument 'w' in function definition (<ipython-input-2-a171d14d6a83>, line 8)",
     "output_type": "error",
     "traceback": [
      "\u001b[0;36m  File \u001b[0;32m\"<ipython-input-2-a171d14d6a83>\"\u001b[0;36m, line \u001b[0;32m8\u001b[0m\n\u001b[0;31m    def bag(c, N, w, w):\u001b[0m\n\u001b[0;31mSyntaxError\u001b[0m\u001b[0;31m:\u001b[0m duplicate argument 'w' in function definition\n"
     ]
    }
   ],
   "source": [
    "\"\"\"最简单的背包问题，背包最大容量是10  总共4件物品，价值和重量分别如下\n",
    "Knapsack Max weight : C = 10 (units)\n",
    "Total items         : N = 4\n",
    "Values of items     : v[] = {10, 40, 30, 50}\n",
    "Weight of items     : w[] = {5, 4, 6, 3}\n",
    "\"\"\"\n",
    "\n",
    "def bag(c, N, w, w):\n",
    "    #第一步建立最大价值矩阵\n",
    "    mat = [[-1 for i in range(c + 1 )] for j in range(n)]  # 构建状态矩阵\n",
    "    \n",
    "    for i in range(c + 1): # 给输出行归零 # dp[i][j]表示前i个物品，在背包容量j的情况下的最多装满空间，初始为0\n",
    "        mat[0][i] = 0\n",
    "    \n",
    "    for i in range(1, n): # 同上，列号0表示背包已满时候，剩余容量为0时候，还可以装载的最大价值；所有从一开始\n",
    "        for j in range(1, c + 1):\n",
    "            mat[i][j] = mat[i - 1][j]\n",
    "            if j > w[j] and mat[i][j] < v[i] + mat[i- 1][v - w[i - 1]]:\n",
    "                mat[1][j] = v[i] + mat[i- 1][v - w[i - 1]]\n",
    "    return mat"
   ]
  },
  {
   "cell_type": "code",
   "execution_count": null,
   "metadata": {
    "collapsed": true
   },
   "outputs": [],
   "source": []
  }
 ],
 "metadata": {
  "kernelspec": {
   "display_name": "Python 2",
   "language": "python",
   "name": "python2"
  },
  "language_info": {
   "codemirror_mode": {
    "name": "ipython",
    "version": 2
   },
   "file_extension": ".py",
   "mimetype": "text/x-python",
   "name": "python",
   "nbconvert_exporter": "python",
   "pygments_lexer": "ipython2",
   "version": "2.7.15"
  }
 },
 "nbformat": 4,
 "nbformat_minor": 1
}
