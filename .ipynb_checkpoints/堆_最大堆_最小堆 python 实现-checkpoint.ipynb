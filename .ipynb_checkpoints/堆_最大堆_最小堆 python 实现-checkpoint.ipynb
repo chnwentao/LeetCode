{
 "cells": [
  {
   "cell_type": "code",
   "execution_count": 22,
   "metadata": {},
   "outputs": [],
   "source": [
    "import heapq\n",
    "\n",
    "\n",
    "class TopK():\n",
    "    \"\"\" 使用 heapq 实现  最小堆， 获取 top K 的数组 \"\"\"\n",
    "    def __init__(self, k):\n",
    "        self.k = k\n",
    "        self.data = []\n",
    "    def push(self, num):\n",
    "        if len(self.data) < self.k:\n",
    "            heapq.heappush(self.data, num)\n",
    "        else:\n",
    "            min_ = self.data[0]\n",
    "            # 当该元素大于 当前最小值的时候 弹出最小值，并push 该值\n",
    "            if num > min_:\n",
    "                heapq.heapreplace(self.data, num)\n",
    "    \n",
    "    def get_topK(self):\n",
    "        return [heapq.heappop(self.data)for _  in  range(len(self.data))][::-1]"
   ]
  },
  {
   "cell_type": "code",
   "execution_count": 23,
   "metadata": {},
   "outputs": [],
   "source": [
    "topk = TopK(3)\n",
    "\n",
    "for i in [5, 8, 6, 3, 4, 7, 0, 1, 2, 9]:\n",
    "    topk.push(i)"
   ]
  },
  {
   "cell_type": "code",
   "execution_count": 24,
   "metadata": {},
   "outputs": [
    {
     "data": {
      "text/plain": [
       "[9, 8, 7]"
      ]
     },
     "execution_count": 24,
     "metadata": {},
     "output_type": "execute_result"
    }
   ],
   "source": [
    "topk.get_topK()"
   ]
  },
  {
   "cell_type": "markdown",
   "metadata": {},
   "source": [
    "[Python使用heapq实现小顶堆（TopK大）、大顶堆（BtmK小） | 四号程序员](https://www.coder4.com/archives/3844 )"
   ]
  },
  {
   "cell_type": "code",
   "execution_count": null,
   "metadata": {},
   "outputs": [],
   "source": []
  }
 ],
 "metadata": {
  "kernelspec": {
   "display_name": "Python 2",
   "language": "python",
   "name": "python2"
  },
  "language_info": {
   "codemirror_mode": {
    "name": "ipython",
    "version": 2
   },
   "file_extension": ".py",
   "mimetype": "text/x-python",
   "name": "python",
   "nbconvert_exporter": "python",
   "pygments_lexer": "ipython2",
   "version": "2.7.15"
  }
 },
 "nbformat": 4,
 "nbformat_minor": 2
}
