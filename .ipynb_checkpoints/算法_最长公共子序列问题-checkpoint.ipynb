{
 "cells": [
  {
   "cell_type": "markdown",
   "metadata": {},
   "source": [
    "对于一般性的LCS问题（即任意数量的序列）是属于NP-hard。但当序列的数量确定时，问题可以使用动态规划（Dynamic Programming）在多项式时间内解决。\n",
    "\n",
    "分解问题：\n",
    "定义如下公式：\n",
    "动态规划的一个计算最长公共子序列的方法如下，以两个序列  X=⟨x1,x2,…,xm⟩、 Y=⟨y1,y2,…,yn⟩为例子，c(i,j)表示Xi和Yj的一个最长公共子序列：\n",
    "```\n",
    "c(i,j) = 0 ;  if i =0, j= 0\n",
    "c(i,j) = c[i-1, j-1] + 1 ; if Xi = Yj\n",
    "c(i,j) =  max(c[i-1, j] , c[i -1, j]) if Xi != Yj\n",
    "```\n",
    "下面就可以求这个最大长度的矩阵 c "
   ]
  },
  {
   "cell_type": "code",
   "execution_count": 25,
   "metadata": {},
   "outputs": [
    {
     "data": {
      "text/plain": [
       "[[0, 0, 0, 0, 0, 0],\n",
       " [0, 0, 0, 0, 0, 0],\n",
       " [0, 1, 1, 1, 1, 1],\n",
       " [0, 1, 1, 1, 1, 1],\n",
       " [0, 1, 2, 2, 2, 2],\n",
       " [0, 1, 2, 2, 2, 2],\n",
       " [0, 1, 2, 3, 3, 3],\n",
       " [0, 1, 2, 3, 3, 3],\n",
       " [0, 1, 2, 3, 4, 4],\n",
       " [0, 1, 2, 3, 4, 4],\n",
       " [0, 1, 2, 3, 4, 5]]"
      ]
     },
     "execution_count": 25,
     "metadata": {},
     "output_type": "execute_result"
    }
   ],
   "source": [
    "def get_len_mat(x_arr, y_arr):\n",
    "    m = len(x_arr)\n",
    "    n = len(y_arr)\n",
    "    c = [[ 0 for i in xrange(m + 1)] for j in xrange(n + 1)]\n",
    "    for i in range(1,n + 1):\n",
    "        for j in xrange(1, m + 1):\n",
    "            if x_arr[j - 1] == y_arr[i - 1]:\n",
    "                c[i][j] = c[i - 1][j - 1] + 1\n",
    "            else:\n",
    "                c[i][j] = max(c[i - 1][j] , c[i][j - 1])\n",
    "    return c\n",
    "c  = get_len_mat('ABCDE','OALBLCLDLE')\n",
    "c"
   ]
  },
  {
   "cell_type": "markdown",
   "metadata": {},
   "source": [
    "这个矩阵中最大的 数据 就是 最长公共子序列的长度 "
   ]
  },
  {
   "cell_type": "code",
   "execution_count": 24,
   "metadata": {},
   "outputs": [
    {
     "data": {
      "text/plain": [
       "5"
      ]
     },
     "execution_count": 24,
     "metadata": {},
     "output_type": "execute_result"
    }
   ],
   "source": [
    "max(max(c))"
   ]
  },
  {
   "cell_type": "markdown",
   "metadata": {},
   "source": [
    "那如果我们要求 最大 的这个序列呢，不仅仅是他的长度··\n",
    "\n",
    "这是需要构建一个记录最大公共子序列的前进方向的矩阵 b，\n",
    "我们 设定  1 为 向上， 2 为 向左， 3，为 斜向上\n",
    "已知 前进方向为3 的时候，也是 xi， yi 相同的时候，也是我们要找的最长子序列的一个元数据"
   ]
  },
  {
   "cell_type": "code",
   "execution_count": null,
   "metadata": {
    "collapsed": true
   },
   "outputs": [],
   "source": [
    "def get_step_mat(x_arr, y_arr):\n",
    "    m = len(x_arr)\n",
    "    n = len(y_arr)\n",
    "    b = [[ 0 for i in xrange(m + 1)] for j in xrange(n + 1)]\n",
    "    for i in range(1,n + 1):\n",
    "        for j in xrange(1, m + 1):\n",
    "            if x_arr[j - 1] == y_arr[i - 1]:\n",
    "                b[i][j] = 3\n",
    "            elif c[i -1][j] >= c[i][j -1]:\n",
    "                b[i][j] = 1\n",
    "            elif: c[i -1][j] = c[i][j -1]:\n",
    "    return b"
   ]
  }
 ],
 "metadata": {
  "kernelspec": {
   "display_name": "Python 2",
   "language": "python",
   "name": "python2"
  },
  "language_info": {
   "codemirror_mode": {
    "name": "ipython",
    "version": 2
   },
   "file_extension": ".py",
   "mimetype": "text/x-python",
   "name": "python",
   "nbconvert_exporter": "python",
   "pygments_lexer": "ipython2",
   "version": "2.7.15"
  }
 },
 "nbformat": 4,
 "nbformat_minor": 1
}
