{
 "cells": [
  {
   "cell_type": "code",
   "execution_count": 2,
   "metadata": {},
   "outputs": [],
   "source": [
    "class TreeNode:  \n",
    "    def __init__(self, x):  \n",
    "        self.val = x  \n",
    "        self.left = None  \n",
    "        self.right = None\n",
    "tree = TreeNode(1)\n",
    "\n",
    "tree.left = TreeNode(2)\n",
    "tree.right = TreeNode(3)\n",
    "\n",
    "tree.left.left = TreeNode(4)\n",
    "tree.right.right = TreeNode(5)\n",
    "\n",
    "tree.left.left.right = TreeNode(6)\n",
    "\n",
    "tree.left.left.right.left = TreeNode(7)\n",
    "tree.left.left.right.right = TreeNode(8)\n",
    "\n",
    "# 先序：1 2 4 6 7 8 3 5\n",
    "# 中序：4 7 6 8 2 1 3 5\n",
    "# 后序：7 8 6 4 2 5 3 1\n",
    "\n",
    "[二叉树遍历(先序、中序、后序) - 简书](https://www.jianshu.com/p/456af5480cee)"
   ]
  },
  {
   "cell_type": "markdown",
   "metadata": {},
   "source": [
    "### 二叉树的深度\n",
    "- 方法：递归遍历，返回 左右 + 1 的 max "
   ]
  },
  {
   "cell_type": "code",
   "execution_count": 3,
   "metadata": {},
   "outputs": [
    {
     "name": "stdout",
     "output_type": "stream",
     "text": [
      "5\n"
     ]
    }
   ],
   "source": [
    "def tree_deep(node):\n",
    "    if node is None:\n",
    "        return 0\n",
    "    left = tree_deep(node.left)\n",
    "    right = tree_deep(node.right)\n",
    "    return max(left + 1, right + 1 )\n",
    "# test\n",
    "print tree_deep(tree)"
   ]
  },
  {
   "cell_type": "markdown",
   "metadata": {},
   "source": [
    "## 求二叉树的镜像\n",
    "- 方法：递归遍历，翻转左右节点，就正好是镜像了"
   ]
  },
  {
   "cell_type": "code",
   "execution_count": 23,
   "metadata": {},
   "outputs": [],
   "source": [
    "def __swap(node):\n",
    "    \"\"\"翻转左右节点\"\"\"\n",
    "    tmp = node.left\n",
    "    node.left = node.right\n",
    "    node.right = tmp\n",
    "    return node\n",
    "    \n",
    "def mirror_tree(node):\n",
    "    if node is None:\n",
    "        return \n",
    "    __swap(node)\n",
    "    mirror_tree(node.left)\n",
    "    mirror_tree(node.right)\n",
    "    "
   ]
  },
  {
   "cell_type": "markdown",
   "metadata": {},
   "source": [
    "## 层序遍历 （非递归）\n",
    "\n",
    "使用队列，先append root, 然后循环（队列不为空）：pop 头结点，输出，再append 左右节点"
   ]
  },
  {
   "cell_type": "code",
   "execution_count": 10,
   "metadata": {},
   "outputs": [
    {
     "name": "stdout",
     "output_type": "stream",
     "text": [
      "1 2 3 4 5 6 7 8\n"
     ]
    }
   ],
   "source": [
    "def level(node):\n",
    "    q = list()\n",
    "    q.append(node)\n",
    "    while q:\n",
    "        node =  q.pop(0)\n",
    "        if node.left:\n",
    "            q.append(node.left)\n",
    "        if node.right:\n",
    "            q.append(node.right)\n",
    "        print node.val,\n",
    "## test\n",
    "level(tree)"
   ]
  },
  {
   "cell_type": "markdown",
   "metadata": {},
   "source": [
    "## 先序 、 中序、后序 递归实现\n",
    "\n",
    "无论先序、中序、后续，程序的路径都是相同的，只是输出的时间不同，\n",
    "\n",
    "先序：考察到一个节点后，即刻输出该节点的值，并继续遍历其左右子树。(根左右)\n",
    "\n",
    "中序：考察到一个节点后，将其暂存，遍历完左子树后，再输出该节点的值，然后遍历右子树。(左根右)\n",
    "\n",
    "后序：考察到一个节点后，将其暂存，遍历完左右子树后，再输出该节点的值。(左右根)\n"
   ]
  },
  {
   "cell_type": "code",
   "execution_count": 9,
   "metadata": {},
   "outputs": [
    {
     "name": "stdout",
     "output_type": "stream",
     "text": [
      "1 2 4 6 7 8 3 5\n"
     ]
    }
   ],
   "source": [
    "def search(node):\n",
    "    if node is None:\n",
    "        return\n",
    "    print node.val, # 先序遍历\n",
    "    search(node.left)\n",
    "    # print node.val  # 中序遍历\n",
    "    search(node.right)\n",
    "    # print node.val # 后续序遍历\n",
    "search(tree)    "
   ]
  },
  {
   "cell_type": "markdown",
   "metadata": {},
   "source": [
    "## 先序 、 中序 遍历 （非递归）\n",
    "\n",
    "- 中序和先序遍历的方法一致，只是输出的位置不一样。 先序遍历前输出， 一个是遍历后输出\n",
    " \n",
    "- 从根节点开始，一直找它的左子树\n",
    "-  #while结束表示当前节点node为空，即前一个节点没有左子树了\n",
    "\n",
    "使用堆栈，先append root, 然后循环（队列不为空）：pop 头结点，输出，再append 左右节点"
   ]
  },
  {
   "cell_type": "code",
   "execution_count": 20,
   "metadata": {},
   "outputs": [
    {
     "name": "stdout",
     "output_type": "stream",
     "text": [
      "1 2 4 6 7 8 3 5\n"
     ]
    }
   ],
   "source": [
    "\n",
    "def search(root):\n",
    "    q = list()\n",
    "    node = root\n",
    "    while q or node:\n",
    "        while node: # 从根节点开始，一直找它的左子树\n",
    "            print node.val, # 先序\n",
    "            q.append(node)\n",
    "            node = node.left\n",
    "\n",
    "        node = q.pop() # while结束表示当前节点node为空，即前一个节点没有左子树了 \n",
    "        # print node.val,  # 中序 \n",
    "        node = node.right   #开始查看它的右子树\n",
    " \n",
    "        \n",
    "search(tree)     "
   ]
  },
  {
   "cell_type": "code",
   "execution_count": null,
   "metadata": {
    "collapsed": true
   },
   "outputs": [],
   "source": []
  },
  {
   "cell_type": "markdown",
   "metadata": {},
   "source": [
    "第一道求二叉树中某个节点是否出现，如果出现，求深度最大的那个，第二道求二叉树的宽度，在这里：http://blog.csdn.net/free_to_fly/article/details/38737327，"
   ]
  },
  {
   "cell_type": "code",
   "execution_count": null,
   "metadata": {
    "collapsed": true
   },
   "outputs": [],
   "source": []
  },
  {
   "cell_type": "code",
   "execution_count": null,
   "metadata": {
    "collapsed": true
   },
   "outputs": [],
   "source": []
  },
  {
   "cell_type": "markdown",
   "metadata": {
    "collapsed": true
   },
   "source": [
    "## 参考\n",
    "[ 轻松搞定面试中的二叉树题目](http://blog.csdn.net/luckyxiaoqiang/article/details/7518888)"
   ]
  }
 ],
 "metadata": {
  "kernelspec": {
   "display_name": "Python 2",
   "language": "python",
   "name": "python2"
  },
  "language_info": {
   "codemirror_mode": {
    "name": "ipython",
    "version": 2
   },
   "file_extension": ".py",
   "mimetype": "text/x-python",
   "name": "python",
   "nbconvert_exporter": "python",
   "pygments_lexer": "ipython2",
   "version": "2.7.15"
  }
 },
 "nbformat": 4,
 "nbformat_minor": 1
}
