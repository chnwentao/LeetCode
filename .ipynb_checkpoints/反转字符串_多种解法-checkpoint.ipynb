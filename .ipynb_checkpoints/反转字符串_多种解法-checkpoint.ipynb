{
 "cells": [
  {
   "cell_type": "markdown",
   "metadata": {},
   "source": [
    "### 反转字符串\n",
    "\n",
    "简单题，有多种解法"
   ]
  },
  {
   "cell_type": "code",
   "execution_count": 22,
   "metadata": {},
   "outputs": [
    {
     "name": "stdout",
     "output_type": "stream",
     "text": [
      "!drow olleh\n",
      "!drow olleh\n",
      "!drow olleh\n"
     ]
    }
   ],
   "source": [
    "str_ = 'hello word!'  \n",
    "\n",
    "# python 自带\n",
    "def reverse(str_):\n",
    "    return str_[::-1]\n",
    "print reverse(str_)\n",
    "\n",
    "# 使用数组\n",
    "def reverse(str_):\n",
    "    l = len(str_)\n",
    "    vec = [\"\" for i in xrange(l)]\n",
    "    for i, char in enumerate(str_):\n",
    "        vec[l - i - 1] = char\n",
    "    return u''.join(vec)\n",
    "print reverse(str_)\n",
    "\n",
    "\n",
    "# 使用堆栈\n",
    "# 逆序遍历\n",
    "# 位运算\n",
    "\"\"\"\n",
    "交换前:\n",
    "array[0]=1001000\n",
    "array[4]=1101111\n",
    " \n",
    "交换:\n",
    "array[0]=array[0]^array[4]=0100111\n",
    "array[4]=array[4]^array[0]=1001000\n",
    "array[0]=array[0]^array[4]=1101111\n",
    "\"\"\"\n",
    "def reverse(str_):\n",
    "    l = len(str_) - 1\n",
    "    vec = [ord(i) for i in str_]\n",
    "    for i in xrange(len(str_)/2 ):\n",
    "        vec[i] ^= vec[l]\n",
    "        vec[l] ^= vec[i]\n",
    "        vec[i] ^= vec[l]\n",
    "        l -= 1\n",
    "    return u''.join((chr(i) for i in vec))\n",
    "\n",
    "print reverse(str_)"
   ]
  },
  {
   "cell_type": "markdown",
   "metadata": {},
   "source": [
    "### 字符串转化为int的一个函数"
   ]
  },
  {
   "cell_type": "code",
   "execution_count": null,
   "metadata": {
    "collapsed": true
   },
   "outputs": [],
   "source": [
    "### 给定一个文件每一行是字符串，找出所有的逆序对，比如abc和cba是逆序的对。"
   ]
  },
  {
   "cell_type": "code",
   "execution_count": null,
   "metadata": {
    "collapsed": true
   },
   "outputs": [],
   "source": []
  },
  {
   "cell_type": "code",
   "execution_count": null,
   "metadata": {
    "collapsed": true
   },
   "outputs": [],
   "source": []
  },
  {
   "cell_type": "code",
   "execution_count": null,
   "metadata": {
    "collapsed": true
   },
   "outputs": [],
   "source": []
  },
  {
   "cell_type": "code",
   "execution_count": null,
   "metadata": {
    "collapsed": true
   },
   "outputs": [],
   "source": []
  },
  {
   "cell_type": "code",
   "execution_count": null,
   "metadata": {
    "collapsed": true
   },
   "outputs": [],
   "source": []
  }
 ],
 "metadata": {
  "kernelspec": {
   "display_name": "Python 2",
   "language": "python",
   "name": "python2"
  },
  "language_info": {
   "codemirror_mode": {
    "name": "ipython",
    "version": 2
   },
   "file_extension": ".py",
   "mimetype": "text/x-python",
   "name": "python",
   "nbconvert_exporter": "python",
   "pygments_lexer": "ipython2",
   "version": "2.7.13"
  }
 },
 "nbformat": 4,
 "nbformat_minor": 1
}
