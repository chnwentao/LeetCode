{
 "cells": [
  {
   "cell_type": "markdown",
   "metadata": {},
   "source": [
    "假设你正在爬楼梯。需要 n 阶你才能到达楼顶。\n",
    "\n",
    "每次你可以爬 1 或 2 个台阶。你有多少种不同的方法可以爬到楼顶呢？\n",
    "\n",
    "注意：给定 n 是一个正整数。\n",
    "\n",
    "示例 1：\n",
    "\n",
    "输入： 2\n",
    "\n",
    "输出： 2\n",
    "\n",
    "解释： 有两种方法可以爬到楼顶。\n",
    "\n",
    "1.  1 阶 + 1 阶\n",
    "\n",
    "2.  2 阶\n",
    "\n",
    "示例 2：\n",
    "\n",
    "输入： 3\n",
    "\n",
    "输出： 3\n",
    "\n",
    "解释： 有三种方法可以爬到楼顶。\n",
    "\n",
    "1.  1 阶 + 1 阶 + 1 阶\n",
    "\n",
    "2.  1 阶 + 2 阶\n",
    "\n",
    "3.  2 阶 + 1 阶"
   ]
  },
  {
   "cell_type": "markdown",
   "metadata": {},
   "source": [
    "动态规矩 ： i结果 =  i-1结果 + i-2 结果， 类似 斐波那契"
   ]
  },
  {
   "cell_type": "code",
   "execution_count": 2,
   "metadata": {},
   "outputs": [],
   "source": [
    "class Solution(object):\n",
    "    def climbStairs(self, n):\n",
    "        \"\"\"\n",
    "        :type n: int\n",
    "        :rtype: int\n",
    "        \"\"\"\n",
    "\n",
    "\n",
    "        if n== 1:\n",
    "            return 1\n",
    "        if n == 2:\n",
    "            return 2\n",
    "        if n == 3:\n",
    "            return 3\n",
    "        \n",
    "        r = [0] * (n + 1)\n",
    "        r[0] = 1\n",
    "        r[2] = 2\n",
    "        r[3] = 3 \n",
    "        \n",
    "        for i in range(4, n + 1):\n",
    "            r[i] = r[i - 1] + r[i - 2]\n",
    "        \n",
    "        return r[n]\n",
    "        "
   ]
  },
  {
   "cell_type": "code",
   "execution_count": null,
   "metadata": {},
   "outputs": [],
   "source": []
  }
 ],
 "metadata": {
  "kernelspec": {
   "display_name": "Python 2",
   "language": "python",
   "name": "python2"
  },
  "language_info": {
   "codemirror_mode": {
    "name": "ipython",
    "version": 2
   },
   "file_extension": ".py",
   "mimetype": "text/x-python",
   "name": "python",
   "nbconvert_exporter": "python",
   "pygments_lexer": "ipython2",
   "version": "2.7.15"
  }
 },
 "nbformat": 4,
 "nbformat_minor": 2
}
