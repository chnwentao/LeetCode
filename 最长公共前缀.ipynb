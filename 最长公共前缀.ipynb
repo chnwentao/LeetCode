{
 "cells": [
  {
   "cell_type": "markdown",
   "metadata": {},
   "source": [
    "编写一个函数来查找字符串数组中的最长公共前缀。\n",
    "\n",
    "如果不存在公共前缀，返回空字符串 \"\"。\n",
    "\n",
    "示例 1:\n",
    "\n",
    "输入: [\"flower\",\"flow\",\"flight\"]\n",
    "输出: \"fl\"\n",
    "示例 2:\n",
    "\n",
    "输入: [\"dog\",\"racecar\",\"car\"]\n",
    "输出: \"\"\n",
    "解释: 输入不存在公共前缀。\n",
    "说明:\n",
    "\n",
    "所有输入只包含小写字母 a-z 。"
   ]
  },
  {
   "cell_type": "code",
   "execution_count": 6,
   "metadata": {},
   "outputs": [],
   "source": [
    "class Solution(object):\n",
    "    def longestCommonPrefix(self, strs):\n",
    "        \"\"\"\n",
    "        :type strs: List[str]\n",
    "        :rtype: str\n",
    "        \"\"\"\n",
    "        if len(strs) < 1:\n",
    "            return \"\"\n",
    "        if len(strs) < 2:\n",
    "            return strs[0]\n",
    "        \n",
    "        out = strs[0]\n",
    "        for str_ in strs[1:]:\n",
    "            tmp = \"\"\n",
    "            for s1, s2 in zip(out, str_):\n",
    "                print s1, s2\n",
    "                if s1 != s2: # 易错细节\n",
    "                    break\n",
    "                else:\n",
    "                    tmp += s1\n",
    "            out = tmp\n",
    "        \n",
    "        return out"
   ]
  },
  {
   "cell_type": "code",
   "execution_count": 7,
   "metadata": {},
   "outputs": [
    {
     "name": "stdout",
     "output_type": "stream",
     "text": [
      "a c\n"
     ]
    },
    {
     "data": {
      "text/plain": [
       "''"
      ]
     },
     "execution_count": 7,
     "metadata": {},
     "output_type": "execute_result"
    }
   ],
   "source": [
    "test = Solution()\n",
    "\n",
    "in_ = [\"aca\",\"cba\"]\n",
    "test.longestCommonPrefix(in_)"
   ]
  },
  {
   "cell_type": "code",
   "execution_count": null,
   "metadata": {},
   "outputs": [],
   "source": []
  }
 ],
 "metadata": {
  "kernelspec": {
   "display_name": "Python 2",
   "language": "python",
   "name": "python2"
  },
  "language_info": {
   "codemirror_mode": {
    "name": "ipython",
    "version": 2
   },
   "file_extension": ".py",
   "mimetype": "text/x-python",
   "name": "python",
   "nbconvert_exporter": "python",
   "pygments_lexer": "ipython2",
   "version": "2.7.15"
  }
 },
 "nbformat": 4,
 "nbformat_minor": 2
}
